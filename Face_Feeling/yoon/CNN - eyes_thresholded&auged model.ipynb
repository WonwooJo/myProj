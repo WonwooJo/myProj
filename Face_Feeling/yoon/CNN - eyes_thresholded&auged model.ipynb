{
 "cells": [
  {
   "cell_type": "code",
   "execution_count": 36,
   "metadata": {},
   "outputs": [],
   "source": [
    "from keras.preprocessing.image import load_img, img_to_array, ImageDataGenerator\n",
    "import cv2\n",
    "import numpy\n",
    "from keras.models import Sequential\n",
    "from keras.layers import Dense\n",
    "from keras.layers import Flatten\n",
    "from keras.layers import BatchNormalization\n",
    "from keras.layers.convolutional import Conv2D\n",
    "from keras.layers.convolutional import MaxPooling2D\n",
    "from keras.utils import np_utils\n",
    "import os\n",
    "import random\n",
    "import shutil\n",
    "import numpy as np"
   ]
  },
  {
   "cell_type": "code",
   "execution_count": 6,
   "metadata": {},
   "outputs": [],
   "source": [
    "# train 폴더에서 임의의 파일 20개를 뽑아 테스트로 넣어줌\n",
    "\n",
    "folders = os.listdir(\"eyes_thresholded&auged/train\")\n",
    "for folder in folders[1:] :\n",
    "    fileist = os.listdir(\"eyes_thresholded&auged/train\"+ \"/\" + folder)\n",
    "    testfiles = random.sample(fileist, 20)\n",
    "    for i in testfiles:\n",
    "        shutil.copyfile(\"eyes_thresholded&auged/train/\"+ folder + \"/\" + i, \"eyes_thresholded&auged/test/\" + folder + \"/\" + i)"
   ]
  },
  {
   "cell_type": "code",
   "execution_count": 37,
   "metadata": {},
   "outputs": [
    {
     "name": "stdout",
     "output_type": "stream",
     "text": [
      "Found 450 images belonging to 6 classes.\n"
     ]
    }
   ],
   "source": [
    "# 450개 이미지 4개로 배치 generator 생성 /  train 증식 없음\n",
    "train_datagen = ImageDataGenerator(rescale=1./255)\n",
    "train_generator = train_datagen.flow_from_directory(\n",
    "        'eyes_thresholded&auged/train',\n",
    "        target_size=(100, 100),    \n",
    "        batch_size=5,\n",
    "        class_mode='categorical')\n",
    "\n",
    "\n",
    "# target size 지정?"
   ]
  },
  {
   "cell_type": "code",
   "execution_count": 38,
   "metadata": {},
   "outputs": [
    {
     "name": "stdout",
     "output_type": "stream",
     "text": [
      "Found 120 images belonging to 6 classes.\n"
     ]
    }
   ],
   "source": [
    "# 120개 이미지 4개로 배치 generator 생성 /  train 증식 없음\n",
    "test_datagen = ImageDataGenerator(rescale=1./255)\n",
    "test_generator = test_datagen.flow_from_directory(\n",
    "        'eyes_thresholded&auged/test',\n",
    "        target_size=(100, 100),    \n",
    "        batch_size=5,\n",
    "        class_mode='categorical')"
   ]
  },
  {
   "cell_type": "code",
   "execution_count": 39,
   "metadata": {},
   "outputs": [],
   "source": [
    "model = Sequential()\n",
    "model.add(Conv2D(32, kernel_size=(3, 3),\n",
    "                 activation='relu',\n",
    "                 input_shape=(100, 100,3)))\n",
    "model.add(BatchNormalization())\n",
    "\n",
    "model.add(Conv2D(64, (3, 3), activation='relu'))\n",
    "model.add(BatchNormalization())\n",
    "\n",
    "model.add(MaxPooling2D(pool_size=(2, 2)))\n",
    "model.add(Flatten())\n",
    "\n",
    "model.add(Dense(128, activation='relu'))\n",
    "model.add(BatchNormalization())\n",
    "\n",
    "model.add(Dense(6, activation='softmax'))"
   ]
  },
  {
   "cell_type": "code",
   "execution_count": 40,
   "metadata": {},
   "outputs": [],
   "source": [
    "model.compile(loss='categorical_crossentropy', optimizer='adam', metrics=['accuracy'])"
   ]
  },
  {
   "cell_type": "code",
   "execution_count": 41,
   "metadata": {
    "scrolled": false
   },
   "outputs": [
    {
     "name": "stdout",
     "output_type": "stream",
     "text": [
      "Epoch 1/10\n",
      "90/90 [==============================] - 15s 169ms/step - loss: 1.9793 - accuracy: 0.3333 - val_loss: 2.9368 - val_accuracy: 0.2800\n",
      "Epoch 2/10\n",
      "90/90 [==============================] - 16s 173ms/step - loss: 0.9035 - accuracy: 0.7022 - val_loss: 13.9575 - val_accuracy: 0.1200\n",
      "Epoch 3/10\n",
      "90/90 [==============================] - 15s 171ms/step - loss: 0.5111 - accuracy: 0.8400 - val_loss: 46.6164 - val_accuracy: 0.2800\n",
      "Epoch 4/10\n",
      "90/90 [==============================] - 16s 175ms/step - loss: 0.3582 - accuracy: 0.8956 - val_loss: 7.5789 - val_accuracy: 0.3600\n",
      "Epoch 5/10\n",
      "90/90 [==============================] - 15s 170ms/step - loss: 0.2158 - accuracy: 0.9533 - val_loss: 5.8026 - val_accuracy: 0.6000\n",
      "Epoch 6/10\n",
      "90/90 [==============================] - 15s 166ms/step - loss: 0.2288 - accuracy: 0.9422 - val_loss: 0.4159 - val_accuracy: 0.8400\n",
      "Epoch 7/10\n",
      "90/90 [==============================] - 15s 164ms/step - loss: 0.2147 - accuracy: 0.9333 - val_loss: 0.1512 - val_accuracy: 1.0000\n",
      "Epoch 8/10\n",
      "90/90 [==============================] - 15s 162ms/step - loss: 0.2010 - accuracy: 0.9444 - val_loss: 6.9843 - val_accuracy: 0.8800\n",
      "Epoch 9/10\n",
      "90/90 [==============================] - 15s 164ms/step - loss: 0.2167 - accuracy: 0.9333 - val_loss: 2.0245 - val_accuracy: 0.5200\n",
      "Epoch 10/10\n",
      "90/90 [==============================] - 15s 162ms/step - loss: 0.1439 - accuracy: 0.9667 - val_loss: 0.0226 - val_accuracy: 1.0000\n"
     ]
    },
    {
     "data": {
      "text/plain": [
       "<tensorflow.python.keras.callbacks.History at 0x7fa582d398e0>"
      ]
     },
     "execution_count": 41,
     "metadata": {},
     "output_type": "execute_result"
    }
   ],
   "source": [
    "model.fit_generator(\n",
    "        train_generator,\n",
    "        steps_per_epoch= 90,\n",
    "        epochs=10,\n",
    "        validation_data=test_generator,\n",
    "        validation_steps=5)"
   ]
  },
  {
   "cell_type": "code",
   "execution_count": 12,
   "metadata": {},
   "outputs": [
    {
     "name": "stdout",
     "output_type": "stream",
     "text": [
      "-- Evaluate --\n",
      "WARNING:tensorflow:From <ipython-input-12-b703dad36ef7>:2: Model.evaluate_generator (from tensorflow.python.keras.engine.training) is deprecated and will be removed in a future version.\n",
      "Instructions for updating:\n",
      "Please use Model.evaluate, which supports generators.\n",
      "accuracy: 100.00%\n"
     ]
    }
   ],
   "source": [
    "print(\"-- Evaluate --\")\n",
    "scores = model.evaluate_generator(test_generator, steps=5)\n",
    "print(\"%s: %.2f%%\" %(model.metrics_names[1], scores[1]*100))"
   ]
  },
  {
   "cell_type": "code",
   "execution_count": 43,
   "metadata": {
    "scrolled": true
   },
   "outputs": [
    {
     "name": "stdout",
     "output_type": "stream",
     "text": [
      "-- Predict --\n",
      "{'bonghwang': 0, 'dohwa': 1, 'gongjak': 2, 'horang': 3, 'so': 4, 'yong': 5}\n",
      "[[0.945 0.002 0.018 0.012 0.014 0.009]\n",
      " [0.000 0.000 0.004 0.000 0.982 0.013]\n",
      " [0.000 0.000 0.000 1.000 0.000 0.000]\n",
      " [0.988 0.003 0.004 0.003 0.000 0.001]\n",
      " [0.000 0.967 0.028 0.001 0.000 0.004]\n",
      " [0.000 0.000 0.998 0.000 0.000 0.002]\n",
      " [0.000 0.001 0.974 0.000 0.000 0.025]\n",
      " [0.000 0.000 0.998 0.000 0.001 0.000]\n",
      " [0.001 0.001 0.007 0.001 0.889 0.101]\n",
      " [0.000 0.997 0.000 0.000 0.000 0.003]\n",
      " [0.000 0.001 0.065 0.001 0.930 0.003]\n",
      " [0.000 0.001 0.001 0.006 0.000 0.992]\n",
      " [0.000 0.019 0.021 0.001 0.949 0.010]\n",
      " [0.000 0.000 0.044 0.002 0.019 0.935]\n",
      " [0.000 0.890 0.107 0.000 0.001 0.002]\n",
      " [0.923 0.002 0.048 0.009 0.003 0.015]\n",
      " [0.000 0.000 0.001 0.000 0.000 0.999]\n",
      " [0.000 0.000 0.000 0.967 0.000 0.033]\n",
      " [0.002 0.069 0.146 0.001 0.592 0.190]\n",
      " [0.000 0.000 0.003 0.000 0.000 0.997]\n",
      " [0.000 0.972 0.003 0.001 0.022 0.002]\n",
      " [0.000 0.006 0.003 0.974 0.000 0.017]\n",
      " [0.000 0.000 0.000 1.000 0.000 0.000]\n",
      " [0.998 0.000 0.000 0.001 0.000 0.001]\n",
      " [0.002 0.001 0.009 0.909 0.073 0.006]]\n"
     ]
    }
   ],
   "source": [
    "print(\"-- Predict --\")\n",
    "output = model.predict_generator(test_generator, steps=5)\n",
    "np.set_printoptions(formatter={'float': lambda x: \"{0:0.3f}\".format(x)})\n",
    "print(test_generator.class_indices)\n",
    "print(output)"
   ]
  },
  {
   "cell_type": "code",
   "execution_count": 44,
   "metadata": {
    "scrolled": true
   },
   "outputs": [
    {
     "data": {
      "text/plain": [
       "{'bonghwang': 0, 'dohwa': 1, 'gongjak': 2, 'horang': 3, 'so': 4, 'yong': 5}"
      ]
     },
     "execution_count": 44,
     "metadata": {},
     "output_type": "execute_result"
    }
   ],
   "source": [
    "test_generator.class_indices"
   ]
  },
  {
   "cell_type": "markdown",
   "metadata": {},
   "source": [
    "# 새 이미지 추가"
   ]
  },
  {
   "cell_type": "code",
   "execution_count": 45,
   "metadata": {},
   "outputs": [],
   "source": [
    "np.random.seed(5)\n",
    "from keras.preprocessing.image import ImageDataGenerator, array_to_img, img_to_array, load_img"
   ]
  },
  {
   "cell_type": "code",
   "execution_count": 29,
   "metadata": {},
   "outputs": [],
   "source": [
    "# 왼쪽 눈\n",
    "data_aug_gen = ImageDataGenerator(rescale=1./255, \n",
    "                                  rotation_range=15,\n",
    "                                  width_shift_range=0.1,\n",
    "                                  height_shift_range=0.1,\n",
    "                                  shear_range=0.5,\n",
    "                                  zoom_range=[0.8, 2.0],\n",
    "                                  horizontal_flip=True,\n",
    "                                  vertical_flip=True,\n",
    "                                  fill_mode='nearest')\n",
    "\n",
    "\n",
    "img = load_img('eyes_thresholded&auged/test2/1.jpg')\n",
    "x = img_to_array(img)\n",
    "x = x.reshape((1,) + x.shape)\n",
    "\n",
    "i = 0\n",
    "for batch in data_aug_gen.flow(x, batch_size=1, save_to_dir='eyes_thresholded&auged/images', save_prefix='tri', save_format='jpg'):\n",
    "    i += 1\n",
    "    if i > 30: \n",
    "        break"
   ]
  },
  {
   "cell_type": "code",
   "execution_count": 20,
   "metadata": {},
   "outputs": [],
   "source": [
    "#오른쪽 눈\n",
    "img = load_img('eyes_thresholded&auged/test2/2.jpg')\n",
    "x = img_to_array(img)\n",
    "x = x.reshape((1,) + x.shape)\n",
    "\n",
    "i = 0\n",
    "for batch in data_aug_gen.flow(x, batch_size=1, save_to_dir='eyes_thresholded&auged/images', save_prefix='tri', save_format='jpg'):\n",
    "    i += 1\n",
    "    if i > 30: \n",
    "        break"
   ]
  },
  {
   "cell_type": "code",
   "execution_count": 46,
   "metadata": {},
   "outputs": [
    {
     "data": {
      "text/plain": [
       "<tensorflow.python.keras.preprocessing.image.ImageDataGenerator at 0x7fa58336bd90>"
      ]
     },
     "execution_count": 46,
     "metadata": {},
     "output_type": "execute_result"
    }
   ],
   "source": [
    "test_datagen2 = ImageDataGenerator(rescale=1./255)\n",
    "test_datagen2"
   ]
  },
  {
   "cell_type": "code",
   "execution_count": 52,
   "metadata": {},
   "outputs": [
    {
     "name": "stdout",
     "output_type": "stream",
     "text": [
      "Found 31 images belonging to 1 classes.\n"
     ]
    }
   ],
   "source": [
    "test_generator2 = test_datagen2.flow_from_directory(\n",
    "        'eyes_thresholded&auged/images',\n",
    "        target_size=(100, 100),    \n",
    "        batch_size=2,\n",
    "        class_mode='categorical')"
   ]
  },
  {
   "cell_type": "code",
   "execution_count": 51,
   "metadata": {
    "scrolled": true
   },
   "outputs": [
    {
     "name": "stdout",
     "output_type": "stream",
     "text": [
      "-- Predict --\n",
      "{'bonghwang': 0, 'dohwa': 1, 'gongjak': 2, 'horang': 3, 'so': 4, 'yong': 5}\n",
      "[[0.000 0.000 1.000 0.000 0.000 0.000]\n",
      " [0.000 0.000 1.000 0.000 0.000 0.000]\n",
      " [0.000 0.000 1.000 0.000 0.000 0.000]\n",
      " [0.000 0.000 1.000 0.000 0.000 0.000]\n",
      " [0.000 0.000 1.000 0.000 0.000 0.000]\n",
      " [0.000 0.000 1.000 0.000 0.000 0.000]\n",
      " [0.000 0.000 1.000 0.000 0.000 0.000]\n",
      " [0.000 0.000 1.000 0.000 0.000 0.000]\n",
      " [0.000 0.000 1.000 0.000 0.000 0.000]\n",
      " [0.000 0.000 1.000 0.000 0.000 0.000]]\n"
     ]
    }
   ],
   "source": [
    "print(\"-- Predict --\")\n",
    "output = model.predict_generator(test_generator2, steps=5)\n",
    "np.set_printoptions(formatter={'float': lambda x: \"{0:0.3f}\".format(x)})\n",
    "print(train_generator.class_indices)\n",
    "print(output)"
   ]
  },
  {
   "cell_type": "code",
   "execution_count": 49,
   "metadata": {
    "scrolled": true
   },
   "outputs": [
    {
     "name": "stdout",
     "output_type": "stream",
     "text": [
      "2\n",
      "2\n"
     ]
    }
   ],
   "source": [
    "for i in output:\n",
    "    print(i.argmax())"
   ]
  },
  {
   "cell_type": "code",
   "execution_count": null,
   "metadata": {},
   "outputs": [],
   "source": []
  }
 ],
 "metadata": {
  "kernelspec": {
   "display_name": "Python 3",
   "language": "python",
   "name": "python3"
  },
  "language_info": {
   "codemirror_mode": {
    "name": "ipython",
    "version": 3
   },
   "file_extension": ".py",
   "mimetype": "text/x-python",
   "name": "python",
   "nbconvert_exporter": "python",
   "pygments_lexer": "ipython3",
   "version": "3.7.7"
  }
 },
 "nbformat": 4,
 "nbformat_minor": 4
}
