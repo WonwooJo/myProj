{
 "cells": [
  {
   "cell_type": "code",
   "execution_count": 16,
   "metadata": {},
   "outputs": [],
   "source": [
    "from keras.preprocessing.image import load_img, img_to_array, ImageDataGenerator\n",
    "import cv2\n",
    "import numpy as np\n",
    "from keras.models import Sequential\n",
    "from keras.layers import Dense\n",
    "from keras.layers import Flatten\n",
    "from keras.layers.convolutional import Conv2D\n",
    "from keras.layers.convolutional import MaxPooling2D\n",
    "from keras.utils import np_utils"
   ]
  },
  {
   "cell_type": "code",
   "execution_count": null,
   "metadata": {},
   "outputs": [],
   "source": [
    "# train / test 파일로 나누는 부분? \n",
    "# 현재 임의로 100 train / 20 test 로 지정했음\n",
    "# 이를 랜덤으로 추출한 뒤 -> generator 에 넣을 수 있는 방법은?\n"
   ]
  },
  {
   "cell_type": "code",
   "execution_count": 10,
   "metadata": {},
   "outputs": [
    {
     "name": "stdout",
     "output_type": "stream",
     "text": [
      "Found 550 images belonging to 6 classes.\n",
      "Found 120 images belonging to 6 classes.\n"
     ]
    }
   ],
   "source": [
    "train_datagen = ImageDataGenerator(rescale=1./255)\n",
    "\n",
    "train_generator = train_datagen.flow_from_directory(\n",
    "        'train',\n",
    "        target_size=(80, 24),\n",
    "        batch_size=4,\n",
    "        class_mode='categorical')\n",
    "\n",
    "test_datagen = ImageDataGenerator(rescale=1./255)\n",
    "\n",
    "test_generator = test_datagen.flow_from_directory(\n",
    "        'test',\n",
    "        target_size=(80, 24),    \n",
    "        batch_size=4,\n",
    "        class_mode='categorical')"
   ]
  },
  {
   "cell_type": "code",
   "execution_count": 11,
   "metadata": {},
   "outputs": [
    {
     "data": {
      "text/plain": [
       "<tensorflow.python.keras.preprocessing.image.DirectoryIterator at 0x7ff441b0d6a0>"
      ]
     },
     "execution_count": 11,
     "metadata": {},
     "output_type": "execute_result"
    }
   ],
   "source": [
    "test_generator"
   ]
  },
  {
   "cell_type": "code",
   "execution_count": 12,
   "metadata": {},
   "outputs": [],
   "source": [
    "model = Sequential()\n",
    "model.add(Conv2D(32, kernel_size=(3, 3),\n",
    "                 activation='relu',\n",
    "                 input_shape=(80, 24,3)))\n",
    "model.add(Conv2D(64, (3, 3), activation='relu'))\n",
    "model.add(MaxPooling2D(pool_size=(2, 2)))\n",
    "model.add(Flatten())\n",
    "model.add(Dense(128, activation='relu'))\n",
    "model.add(Dense(6, activation='softmax'))"
   ]
  },
  {
   "cell_type": "code",
   "execution_count": 13,
   "metadata": {},
   "outputs": [],
   "source": [
    "model.compile(loss='categorical_crossentropy', optimizer='adam', metrics=['accuracy'])"
   ]
  },
  {
   "cell_type": "code",
   "execution_count": 14,
   "metadata": {},
   "outputs": [
    {
     "name": "stdout",
     "output_type": "stream",
     "text": [
      "Epoch 1/50\n",
      "20/20 [==============================] - 1s 31ms/step - loss: 2.0454 - accuracy: 0.1500 - val_loss: 1.8369 - val_accuracy: 0.1500\n",
      "Epoch 2/50\n",
      "20/20 [==============================] - 0s 24ms/step - loss: 1.7411 - accuracy: 0.2625 - val_loss: 1.6607 - val_accuracy: 0.1500\n",
      "Epoch 3/50\n",
      "20/20 [==============================] - 0s 25ms/step - loss: 1.6940 - accuracy: 0.3000 - val_loss: 1.6177 - val_accuracy: 0.4500\n",
      "Epoch 4/50\n",
      "20/20 [==============================] - 0s 25ms/step - loss: 1.5977 - accuracy: 0.3625 - val_loss: 1.3981 - val_accuracy: 0.6000\n",
      "Epoch 5/50\n",
      "20/20 [==============================] - 0s 25ms/step - loss: 1.5181 - accuracy: 0.4000 - val_loss: 1.3785 - val_accuracy: 0.6000\n",
      "Epoch 6/50\n",
      "20/20 [==============================] - 0s 24ms/step - loss: 1.2365 - accuracy: 0.5250 - val_loss: 1.0609 - val_accuracy: 0.4500\n",
      "Epoch 7/50\n",
      "20/20 [==============================] - 0s 25ms/step - loss: 1.1670 - accuracy: 0.5375 - val_loss: 1.2790 - val_accuracy: 0.5000\n",
      "Epoch 8/50\n",
      "20/20 [==============================] - 0s 24ms/step - loss: 1.1985 - accuracy: 0.5500 - val_loss: 1.1248 - val_accuracy: 0.6000\n",
      "Epoch 9/50\n",
      "20/20 [==============================] - 0s 23ms/step - loss: 0.9658 - accuracy: 0.6625 - val_loss: 0.9443 - val_accuracy: 0.6500\n",
      "Epoch 10/50\n",
      "20/20 [==============================] - 0s 24ms/step - loss: 0.9125 - accuracy: 0.7000 - val_loss: 0.7260 - val_accuracy: 0.8000\n",
      "Epoch 11/50\n",
      "20/20 [==============================] - 0s 24ms/step - loss: 0.8025 - accuracy: 0.6875 - val_loss: 0.6830 - val_accuracy: 0.6500\n",
      "Epoch 12/50\n",
      "20/20 [==============================] - 0s 24ms/step - loss: 0.7839 - accuracy: 0.7000 - val_loss: 0.9054 - val_accuracy: 0.7500\n",
      "Epoch 13/50\n",
      "20/20 [==============================] - 1s 27ms/step - loss: 0.9913 - accuracy: 0.6000 - val_loss: 0.8637 - val_accuracy: 0.7500\n",
      "Epoch 14/50\n",
      "20/20 [==============================] - 1s 26ms/step - loss: 0.9220 - accuracy: 0.6875 - val_loss: 0.8643 - val_accuracy: 0.7000\n",
      "Epoch 15/50\n",
      "20/20 [==============================] - 0s 24ms/step - loss: 0.9126 - accuracy: 0.7125 - val_loss: 0.6358 - val_accuracy: 0.8500\n",
      "Epoch 16/50\n",
      "20/20 [==============================] - 0s 24ms/step - loss: 0.8030 - accuracy: 0.7375 - val_loss: 1.0982 - val_accuracy: 0.6500\n",
      "Epoch 17/50\n",
      "20/20 [==============================] - 0s 24ms/step - loss: 0.8208 - accuracy: 0.7500 - val_loss: 0.7434 - val_accuracy: 0.7000\n",
      "Epoch 18/50\n",
      "20/20 [==============================] - 0s 25ms/step - loss: 0.5853 - accuracy: 0.7750 - val_loss: 0.7018 - val_accuracy: 0.7000\n",
      "Epoch 19/50\n",
      "20/20 [==============================] - 1s 26ms/step - loss: 0.5817 - accuracy: 0.8000 - val_loss: 0.8488 - val_accuracy: 0.7000\n",
      "Epoch 20/50\n",
      "20/20 [==============================] - 0s 25ms/step - loss: 0.7060 - accuracy: 0.7625 - val_loss: 0.9116 - val_accuracy: 0.6500\n",
      "Epoch 21/50\n",
      "20/20 [==============================] - 0s 24ms/step - loss: 0.5467 - accuracy: 0.8625 - val_loss: 0.8771 - val_accuracy: 0.6500\n",
      "Epoch 22/50\n",
      "20/20 [==============================] - 0s 24ms/step - loss: 0.4346 - accuracy: 0.8500 - val_loss: 0.6603 - val_accuracy: 0.7500\n",
      "Epoch 23/50\n",
      "20/20 [==============================] - 0s 25ms/step - loss: 0.5355 - accuracy: 0.8500 - val_loss: 0.6104 - val_accuracy: 0.8000\n",
      "Epoch 24/50\n",
      "20/20 [==============================] - 1s 25ms/step - loss: 0.4305 - accuracy: 0.8375 - val_loss: 0.7662 - val_accuracy: 0.8000\n",
      "Epoch 25/50\n",
      "20/20 [==============================] - 1s 27ms/step - loss: 0.4980 - accuracy: 0.8250 - val_loss: 0.2399 - val_accuracy: 0.9500\n",
      "Epoch 26/50\n",
      "20/20 [==============================] - 1s 29ms/step - loss: 0.4950 - accuracy: 0.8125 - val_loss: 0.5299 - val_accuracy: 0.8500\n",
      "Epoch 27/50\n",
      "20/20 [==============================] - 1s 27ms/step - loss: 0.3338 - accuracy: 0.8500 - val_loss: 0.6066 - val_accuracy: 0.8000\n",
      "Epoch 28/50\n",
      "20/20 [==============================] - 0s 25ms/step - loss: 0.5023 - accuracy: 0.8750 - val_loss: 0.6878 - val_accuracy: 0.8000\n",
      "Epoch 29/50\n",
      "20/20 [==============================] - 0s 24ms/step - loss: 0.3602 - accuracy: 0.8750 - val_loss: 0.4210 - val_accuracy: 0.8000\n",
      "Epoch 30/50\n",
      "20/20 [==============================] - 0s 24ms/step - loss: 0.3450 - accuracy: 0.8875 - val_loss: 0.4504 - val_accuracy: 0.8500\n",
      "Epoch 31/50\n",
      "20/20 [==============================] - 0s 23ms/step - loss: 0.4375 - accuracy: 0.8250 - val_loss: 0.2391 - val_accuracy: 0.9500\n",
      "Epoch 32/50\n",
      "20/20 [==============================] - 0s 23ms/step - loss: 0.3684 - accuracy: 0.8500 - val_loss: 0.3394 - val_accuracy: 0.9000\n",
      "Epoch 33/50\n",
      "20/20 [==============================] - 0s 24ms/step - loss: 0.2437 - accuracy: 0.9250 - val_loss: 0.3569 - val_accuracy: 0.8500\n",
      "Epoch 34/50\n",
      "20/20 [==============================] - 0s 24ms/step - loss: 0.3468 - accuracy: 0.8375 - val_loss: 0.5521 - val_accuracy: 0.7500\n",
      "Epoch 35/50\n",
      "20/20 [==============================] - 0s 24ms/step - loss: 0.2556 - accuracy: 0.9250 - val_loss: 0.1844 - val_accuracy: 0.9000\n",
      "Epoch 36/50\n",
      "20/20 [==============================] - 0s 24ms/step - loss: 0.3064 - accuracy: 0.8590 - val_loss: 0.2608 - val_accuracy: 0.9500\n",
      "Epoch 37/50\n",
      "20/20 [==============================] - 0s 25ms/step - loss: 0.2069 - accuracy: 0.9375 - val_loss: 0.1056 - val_accuracy: 0.9500\n",
      "Epoch 38/50\n",
      "20/20 [==============================] - 0s 24ms/step - loss: 0.2049 - accuracy: 0.9250 - val_loss: 0.3733 - val_accuracy: 0.8500\n",
      "Epoch 39/50\n",
      "20/20 [==============================] - 0s 25ms/step - loss: 0.2386 - accuracy: 0.8750 - val_loss: 0.1872 - val_accuracy: 0.9500\n",
      "Epoch 40/50\n",
      "20/20 [==============================] - 0s 23ms/step - loss: 0.1481 - accuracy: 0.9500 - val_loss: 0.2621 - val_accuracy: 0.9000\n",
      "Epoch 41/50\n",
      "20/20 [==============================] - 0s 24ms/step - loss: 0.0971 - accuracy: 0.9875 - val_loss: 0.1693 - val_accuracy: 0.9500\n",
      "Epoch 42/50\n",
      "20/20 [==============================] - 0s 24ms/step - loss: 0.1901 - accuracy: 0.9375 - val_loss: 0.2038 - val_accuracy: 0.9000\n",
      "Epoch 43/50\n",
      "20/20 [==============================] - 0s 25ms/step - loss: 0.0914 - accuracy: 0.9875 - val_loss: 0.0746 - val_accuracy: 1.0000\n",
      "Epoch 44/50\n",
      "20/20 [==============================] - 0s 24ms/step - loss: 0.2042 - accuracy: 0.9375 - val_loss: 0.4588 - val_accuracy: 0.8500\n",
      "Epoch 45/50\n",
      "20/20 [==============================] - 0s 23ms/step - loss: 0.1572 - accuracy: 0.9359 - val_loss: 0.6061 - val_accuracy: 0.9000\n",
      "Epoch 46/50\n",
      "20/20 [==============================] - 0s 23ms/step - loss: 0.1010 - accuracy: 0.9625 - val_loss: 0.4574 - val_accuracy: 0.8500\n",
      "Epoch 47/50\n",
      "20/20 [==============================] - 0s 24ms/step - loss: 0.0832 - accuracy: 0.9750 - val_loss: 0.3039 - val_accuracy: 0.9000\n",
      "Epoch 48/50\n",
      "20/20 [==============================] - 0s 24ms/step - loss: 0.1757 - accuracy: 0.9125 - val_loss: 0.5470 - val_accuracy: 0.8500\n",
      "Epoch 49/50\n",
      "20/20 [==============================] - 0s 24ms/step - loss: 0.1204 - accuracy: 0.9750 - val_loss: 0.3016 - val_accuracy: 0.9500\n",
      "Epoch 50/50\n",
      "20/20 [==============================] - 0s 24ms/step - loss: 0.1298 - accuracy: 0.9750 - val_loss: 0.1184 - val_accuracy: 0.9500\n"
     ]
    },
    {
     "data": {
      "text/plain": [
       "<tensorflow.python.keras.callbacks.History at 0x7ff42607b1f0>"
      ]
     },
     "execution_count": 14,
     "metadata": {},
     "output_type": "execute_result"
    }
   ],
   "source": [
    "model.fit_generator(\n",
    "        train_generator,\n",
    "        steps_per_epoch=20,\n",
    "        epochs=50,\n",
    "        validation_data=test_generator,\n",
    "        validation_steps=5)"
   ]
  },
  {
   "cell_type": "code",
   "execution_count": 17,
   "metadata": {},
   "outputs": [
    {
     "name": "stdout",
     "output_type": "stream",
     "text": [
      "-- Predict --\n",
      "{'bonghwang': 0, 'dohwa': 1, 'gongjak': 2, 'horang': 3, 'so': 4, 'yong': 5}\n",
      "[[0.000 0.006 0.000 0.979 0.015 0.000]\n",
      " [1.000 0.000 0.000 0.000 0.000 0.000]\n",
      " [0.000 0.000 0.000 1.000 0.000 0.000]\n",
      " [0.003 0.286 0.003 0.685 0.001 0.021]\n",
      " [0.000 0.997 0.002 0.000 0.000 0.001]\n",
      " [0.000 0.000 1.000 0.000 0.000 0.000]\n",
      " [0.000 0.000 1.000 0.000 0.000 0.000]\n",
      " [0.000 0.014 0.000 0.000 0.000 0.986]\n",
      " [0.000 0.998 0.000 0.000 0.000 0.002]\n",
      " [0.000 0.000 0.000 0.000 0.000 1.000]\n",
      " [0.000 0.996 0.000 0.000 0.000 0.003]\n",
      " [0.000 0.046 0.000 0.954 0.000 0.000]\n",
      " [0.025 0.000 0.974 0.000 0.000 0.000]\n",
      " [0.079 0.008 0.000 0.000 0.913 0.000]\n",
      " [0.000 0.718 0.224 0.003 0.002 0.054]\n",
      " [0.000 0.262 0.001 0.000 0.000 0.736]\n",
      " [0.000 0.000 0.998 0.000 0.002 0.000]\n",
      " [0.042 0.039 0.151 0.703 0.061 0.004]\n",
      " [0.000 0.006 0.009 0.985 0.000 0.000]\n",
      " [0.000 0.000 0.003 0.000 0.997 0.000]]\n"
     ]
    }
   ],
   "source": [
    "print(\"-- Predict --\")\n",
    "output = model.predict_generator(test_generator, steps=5)\n",
    "np.set_printoptions(formatter={'float': lambda x: \"{0:0.3f}\".format(x)})\n",
    "print(test_generator.class_indices)\n",
    "print(output)"
   ]
  },
  {
   "cell_type": "code",
   "execution_count": 18,
   "metadata": {},
   "outputs": [
    {
     "name": "stdout",
     "output_type": "stream",
     "text": [
      "-- Evaluate --\n",
      "WARNING:tensorflow:From <ipython-input-18-b703dad36ef7>:2: Model.evaluate_generator (from tensorflow.python.keras.engine.training) is deprecated and will be removed in a future version.\n",
      "Instructions for updating:\n",
      "Please use Model.evaluate, which supports generators.\n",
      "accuracy: 85.00%\n"
     ]
    }
   ],
   "source": [
    "print(\"-- Evaluate --\")\n",
    "scores = model.evaluate_generator(test_generator, steps=5)\n",
    "print(\"%s: %.2f%%\" %(model.metrics_names[1], scores[1]*100))"
   ]
  },
  {
   "cell_type": "code",
   "execution_count": 19,
   "metadata": {},
   "outputs": [
    {
     "data": {
      "text/plain": [
       "{'bonghwang': 0, 'dohwa': 1, 'gongjak': 2, 'horang': 3, 'so': 4, 'yong': 5}"
      ]
     },
     "execution_count": 19,
     "metadata": {},
     "output_type": "execute_result"
    }
   ],
   "source": [
    "test_generator.class_indices"
   ]
  },
  {
   "cell_type": "code",
   "execution_count": 32,
   "metadata": {},
   "outputs": [
    {
     "data": {
      "text/plain": [
       "['bonghwang\\\\0109.jpeg',\n",
       " 'bonghwang\\\\0125.jpg',\n",
       " 'bonghwang\\\\0163.jpg',\n",
       " 'bonghwang\\\\0210.jpg',\n",
       " 'bonghwang\\\\0226.jpg',\n",
       " 'bonghwang\\\\0264.jpg',\n",
       " 'bonghwang\\\\0311.jpg',\n",
       " 'bonghwang\\\\0327.jpg',\n",
       " 'bonghwang\\\\0365.jpg',\n",
       " 'bonghwang\\\\0412.jpg',\n",
       " 'bonghwang\\\\0428.jpg',\n",
       " 'bonghwang\\\\0466.jpg',\n",
       " 'bonghwang\\\\0513.png',\n",
       " 'bonghwang\\\\0529.jpg',\n",
       " 'bonghwang\\\\0567.jpg',\n",
       " 'bonghwang\\\\0614.jpg',\n",
       " 'bonghwang\\\\0630.jpg',\n",
       " 'bonghwang\\\\0668.jpg',\n",
       " 'bonghwang\\\\0715.jpg',\n",
       " 'bonghwang\\\\0731.jpg',\n",
       " 'dohwa\\\\도화눈1.JPG',\n",
       " 'dohwa\\\\도화눈10.JPG',\n",
       " 'dohwa\\\\도화눈11.JPG',\n",
       " 'dohwa\\\\도화눈12.JPG',\n",
       " 'dohwa\\\\도화눈13.JPG',\n",
       " 'dohwa\\\\도화눈14.JPG',\n",
       " 'dohwa\\\\도화눈15.JPG',\n",
       " 'dohwa\\\\도화눈16.JPG',\n",
       " 'dohwa\\\\도화눈17.JPG',\n",
       " 'dohwa\\\\도화눈18.JPG',\n",
       " 'dohwa\\\\도화눈19.JPG',\n",
       " 'dohwa\\\\도화눈2.JPG',\n",
       " 'dohwa\\\\도화눈20.JPG',\n",
       " 'dohwa\\\\도화눈3.JPG',\n",
       " 'dohwa\\\\도화눈4.JPG',\n",
       " 'dohwa\\\\도화눈5.JPG',\n",
       " 'dohwa\\\\도화눈6.JPG',\n",
       " 'dohwa\\\\도화눈7.JPG',\n",
       " 'dohwa\\\\도화눈8.JPG',\n",
       " 'dohwa\\\\도화눈9.JPG',\n",
       " 'gongjak\\\\1.jpg',\n",
       " 'gongjak\\\\10.jpg',\n",
       " 'gongjak\\\\11.jpg',\n",
       " 'gongjak\\\\12.jpg',\n",
       " 'gongjak\\\\13.jpg',\n",
       " 'gongjak\\\\14.jpg',\n",
       " 'gongjak\\\\15.jpg',\n",
       " 'gongjak\\\\16.jpg',\n",
       " 'gongjak\\\\17.jpg',\n",
       " 'gongjak\\\\18.jpg',\n",
       " 'gongjak\\\\19.jpg',\n",
       " 'gongjak\\\\2.jpg',\n",
       " 'gongjak\\\\20.jpg',\n",
       " 'gongjak\\\\3.jpg',\n",
       " 'gongjak\\\\4.jpg',\n",
       " 'gongjak\\\\5.jpg',\n",
       " 'gongjak\\\\6.jpg',\n",
       " 'gongjak\\\\7.jpg',\n",
       " 'gongjak\\\\8.jpg',\n",
       " 'gongjak\\\\9.jpg',\n",
       " 'horang\\\\호랑이눈1.JPG',\n",
       " 'horang\\\\호랑이눈10.JPG',\n",
       " 'horang\\\\호랑이눈11.JPG',\n",
       " 'horang\\\\호랑이눈12.JPG',\n",
       " 'horang\\\\호랑이눈13.JPG',\n",
       " 'horang\\\\호랑이눈14.JPG',\n",
       " 'horang\\\\호랑이눈15.JPG',\n",
       " 'horang\\\\호랑이눈16.JPG',\n",
       " 'horang\\\\호랑이눈17.JPG',\n",
       " 'horang\\\\호랑이눈18.JPG',\n",
       " 'horang\\\\호랑이눈19.JPG',\n",
       " 'horang\\\\호랑이눈2.JPG',\n",
       " 'horang\\\\호랑이눈20.JPG',\n",
       " 'horang\\\\호랑이눈3.JPG',\n",
       " 'horang\\\\호랑이눈4.JPG',\n",
       " 'horang\\\\호랑이눈5.JPG',\n",
       " 'horang\\\\호랑이눈6.JPG',\n",
       " 'horang\\\\호랑이눈7.JPG',\n",
       " 'horang\\\\호랑이눈8.JPG',\n",
       " 'horang\\\\호랑이눈9.JPG',\n",
       " 'so\\\\김희선23.JPG',\n",
       " 'so\\\\김희선24.JPG',\n",
       " 'so\\\\김희선25.JPG',\n",
       " 'so\\\\김희선26.JPG',\n",
       " 'so\\\\김희선27.JPG',\n",
       " 'so\\\\김희선28.JPG',\n",
       " 'so\\\\김희선29.JPG',\n",
       " 'so\\\\김희선30.JPG',\n",
       " 'so\\\\김희선31.JPG',\n",
       " 'so\\\\김희선32.JPG',\n",
       " 'so\\\\김희선33.JPG',\n",
       " 'so\\\\박보영1.JPG',\n",
       " 'so\\\\박보영2.JPG',\n",
       " 'so\\\\박보영3.JPG',\n",
       " 'so\\\\박보영4.JPG',\n",
       " 'so\\\\박보영5.JPG',\n",
       " 'so\\\\박보영6.JPG',\n",
       " 'so\\\\박보영7.JPG',\n",
       " 'so\\\\박보영8.JPG',\n",
       " 'so\\\\박보영9.JPG',\n",
       " 'yong\\\\김연아205.jpg',\n",
       " 'yong\\\\김연아206.jpg',\n",
       " 'yong\\\\김연아208.jpg',\n",
       " 'yong\\\\김연아210.jpg',\n",
       " 'yong\\\\김연아212.jpg',\n",
       " 'yong\\\\김연아213.jpg',\n",
       " 'yong\\\\김연아236.jpg',\n",
       " 'yong\\\\김연아238.jpg',\n",
       " 'yong\\\\다운로드.jpg',\n",
       " 'yong\\\\박찬욱0.jpg',\n",
       " 'yong\\\\박찬욱15.jpg',\n",
       " 'yong\\\\박찬욱19.jpg',\n",
       " 'yong\\\\박찬욱22.jpg',\n",
       " 'yong\\\\박찬욱26.jpg',\n",
       " 'yong\\\\박찬욱28.jpg',\n",
       " 'yong\\\\박찬욱3.jpg',\n",
       " 'yong\\\\박찬욱30.jpg',\n",
       " 'yong\\\\박찬욱33.jpg',\n",
       " 'yong\\\\박찬욱38.jpg',\n",
       " 'yong\\\\박찬욱39.jpg']"
      ]
     },
     "execution_count": 32,
     "metadata": {},
     "output_type": "execute_result"
    }
   ],
   "source": [
    "test_generator.filenames"
   ]
  },
  {
   "cell_type": "code",
   "execution_count": 33,
   "metadata": {},
   "outputs": [
    {
     "data": {
      "text/plain": [
       "array([0, 0, 0, 0, 0, 0, 0, 0, 0, 0, 0, 0, 0, 0, 0, 0, 0, 0, 0, 0, 1, 1,\n",
       "       1, 1, 1, 1, 1, 1, 1, 1, 1, 1, 1, 1, 1, 1, 1, 1, 1, 1, 2, 2, 2, 2,\n",
       "       2, 2, 2, 2, 2, 2, 2, 2, 2, 2, 2, 2, 2, 2, 2, 2, 3, 3, 3, 3, 3, 3,\n",
       "       3, 3, 3, 3, 3, 3, 3, 3, 3, 3, 3, 3, 3, 3, 4, 4, 4, 4, 4, 4, 4, 4,\n",
       "       4, 4, 4, 4, 4, 4, 4, 4, 4, 4, 4, 4, 5, 5, 5, 5, 5, 5, 5, 5, 5, 5,\n",
       "       5, 5, 5, 5, 5, 5, 5, 5, 5, 5])"
      ]
     },
     "execution_count": 33,
     "metadata": {},
     "output_type": "execute_result"
    }
   ],
   "source": [
    "test_generator.classes"
   ]
  },
  {
   "cell_type": "code",
   "execution_count": null,
   "metadata": {},
   "outputs": [],
   "source": [
    "# 이미지 1개를 증식?\n"
   ]
  },
  {
   "cell_type": "markdown",
   "metadata": {},
   "source": [
    "# 새 이미지 추가"
   ]
  },
  {
   "cell_type": "code",
   "execution_count": 20,
   "metadata": {},
   "outputs": [],
   "source": [
    "np.random.seed(5)\n",
    "from keras.preprocessing.image import ImageDataGenerator, array_to_img, img_to_array, load_img"
   ]
  },
  {
   "cell_type": "code",
   "execution_count": 29,
   "metadata": {},
   "outputs": [],
   "source": [
    "# 왼쪽 눈\n",
    "data_aug_gen = ImageDataGenerator(rescale=1./255, \n",
    "                                  rotation_range=15,\n",
    "                                  width_shift_range=0.1,\n",
    "                                  height_shift_range=0.1,\n",
    "                                  shear_range=0.5,\n",
    "                                  zoom_range=[0.8, 2.0],\n",
    "                                  horizontal_flip=True,\n",
    "                                  vertical_flip=True,\n",
    "                                  fill_mode='nearest')\n",
    "\n",
    "\n",
    "img = load_img('eyes_thresholded&auged/test2/1.jpg')\n",
    "x = img_to_array(img)\n",
    "x = x.reshape((1,) + x.shape)\n",
    "\n",
    "i = 0\n",
    "for batch in data_aug_gen.flow(x, batch_size=1, save_to_dir='eyes_thresholded&auged/images', save_prefix='tri', save_format='jpg'):\n",
    "    i += 1\n",
    "    if i > 30: \n",
    "        break"
   ]
  },
  {
   "cell_type": "code",
   "execution_count": 31,
   "metadata": {
    "scrolled": true
   },
   "outputs": [
    {
     "ename": "FileNotFoundError",
     "evalue": "[Errno 2] No such file or directory: 'eyes_thresholded&auged/test2/2.jpg'",
     "output_type": "error",
     "traceback": [
      "\u001b[0;31m---------------------------------------------------------------------------\u001b[0m",
      "\u001b[0;31mFileNotFoundError\u001b[0m                         Traceback (most recent call last)",
      "\u001b[0;32m<ipython-input-31-23653961320b>\u001b[0m in \u001b[0;36m<module>\u001b[0;34m\u001b[0m\n\u001b[1;32m      1\u001b[0m \u001b[0;31m#오른쪽 눈\u001b[0m\u001b[0;34m\u001b[0m\u001b[0;34m\u001b[0m\u001b[0;34m\u001b[0m\u001b[0m\n\u001b[0;32m----> 2\u001b[0;31m \u001b[0mimg\u001b[0m \u001b[0;34m=\u001b[0m \u001b[0mload_img\u001b[0m\u001b[0;34m(\u001b[0m\u001b[0;34m'eyes_thresholded&auged/test2/2.jpg'\u001b[0m\u001b[0;34m)\u001b[0m\u001b[0;34m\u001b[0m\u001b[0;34m\u001b[0m\u001b[0m\n\u001b[0m\u001b[1;32m      3\u001b[0m \u001b[0mx\u001b[0m \u001b[0;34m=\u001b[0m \u001b[0mimg_to_array\u001b[0m\u001b[0;34m(\u001b[0m\u001b[0mimg\u001b[0m\u001b[0;34m)\u001b[0m\u001b[0;34m\u001b[0m\u001b[0;34m\u001b[0m\u001b[0m\n\u001b[1;32m      4\u001b[0m \u001b[0mx\u001b[0m \u001b[0;34m=\u001b[0m \u001b[0mx\u001b[0m\u001b[0;34m.\u001b[0m\u001b[0mreshape\u001b[0m\u001b[0;34m(\u001b[0m\u001b[0;34m(\u001b[0m\u001b[0;36m1\u001b[0m\u001b[0;34m,\u001b[0m\u001b[0;34m)\u001b[0m \u001b[0;34m+\u001b[0m \u001b[0mx\u001b[0m\u001b[0;34m.\u001b[0m\u001b[0mshape\u001b[0m\u001b[0;34m)\u001b[0m\u001b[0;34m\u001b[0m\u001b[0;34m\u001b[0m\u001b[0m\n\u001b[1;32m      5\u001b[0m \u001b[0;34m\u001b[0m\u001b[0m\n",
      "\u001b[0;32m~/opt/anaconda3/lib/python3.8/site-packages/tensorflow/python/keras/preprocessing/image.py\u001b[0m in \u001b[0;36mload_img\u001b[0;34m(path, grayscale, color_mode, target_size, interpolation)\u001b[0m\n\u001b[1;32m    298\u001b[0m       \u001b[0mValueError\u001b[0m\u001b[0;34m:\u001b[0m \u001b[0;32mif\u001b[0m \u001b[0minterpolation\u001b[0m \u001b[0mmethod\u001b[0m \u001b[0;32mis\u001b[0m \u001b[0;32mnot\u001b[0m \u001b[0msupported\u001b[0m\u001b[0;34m.\u001b[0m\u001b[0;34m\u001b[0m\u001b[0;34m\u001b[0m\u001b[0m\n\u001b[1;32m    299\u001b[0m   \"\"\"\n\u001b[0;32m--> 300\u001b[0;31m   return image.load_img(path, grayscale=grayscale, color_mode=color_mode,\n\u001b[0m\u001b[1;32m    301\u001b[0m                         target_size=target_size, interpolation=interpolation)\n\u001b[1;32m    302\u001b[0m \u001b[0;34m\u001b[0m\u001b[0m\n",
      "\u001b[0;32m~/opt/anaconda3/lib/python3.8/site-packages/keras_preprocessing/image/utils.py\u001b[0m in \u001b[0;36mload_img\u001b[0;34m(path, grayscale, color_mode, target_size, interpolation)\u001b[0m\n\u001b[1;32m    111\u001b[0m         raise ImportError('Could not import PIL.Image. '\n\u001b[1;32m    112\u001b[0m                           'The use of `load_img` requires PIL.')\n\u001b[0;32m--> 113\u001b[0;31m     \u001b[0;32mwith\u001b[0m \u001b[0mopen\u001b[0m\u001b[0;34m(\u001b[0m\u001b[0mpath\u001b[0m\u001b[0;34m,\u001b[0m \u001b[0;34m'rb'\u001b[0m\u001b[0;34m)\u001b[0m \u001b[0;32mas\u001b[0m \u001b[0mf\u001b[0m\u001b[0;34m:\u001b[0m\u001b[0;34m\u001b[0m\u001b[0;34m\u001b[0m\u001b[0m\n\u001b[0m\u001b[1;32m    114\u001b[0m         \u001b[0mimg\u001b[0m \u001b[0;34m=\u001b[0m \u001b[0mpil_image\u001b[0m\u001b[0;34m.\u001b[0m\u001b[0mopen\u001b[0m\u001b[0;34m(\u001b[0m\u001b[0mio\u001b[0m\u001b[0;34m.\u001b[0m\u001b[0mBytesIO\u001b[0m\u001b[0;34m(\u001b[0m\u001b[0mf\u001b[0m\u001b[0;34m.\u001b[0m\u001b[0mread\u001b[0m\u001b[0;34m(\u001b[0m\u001b[0;34m)\u001b[0m\u001b[0;34m)\u001b[0m\u001b[0;34m)\u001b[0m\u001b[0;34m\u001b[0m\u001b[0;34m\u001b[0m\u001b[0m\n\u001b[1;32m    115\u001b[0m         \u001b[0;32mif\u001b[0m \u001b[0mcolor_mode\u001b[0m \u001b[0;34m==\u001b[0m \u001b[0;34m'grayscale'\u001b[0m\u001b[0;34m:\u001b[0m\u001b[0;34m\u001b[0m\u001b[0;34m\u001b[0m\u001b[0m\n",
      "\u001b[0;31mFileNotFoundError\u001b[0m: [Errno 2] No such file or directory: 'eyes_thresholded&auged/test2/2.jpg'"
     ]
    }
   ],
   "source": [
    "#오른쪽 눈\n",
    "img = load_img('eyes_thresholded&auged/test2/2.jpg')\n",
    "x = img_to_array(img)\n",
    "x = x.reshape((1,) + x.shape)\n",
    "\n",
    "i = 0\n",
    "for batch in data_aug_gen.flow(x, batch_size=1, save_to_dir='eyes_thresholded&auged/images', save_prefix='tri', save_format='jpg'):\n",
    "    i += 1\n",
    "    if i > 30: \n",
    "        break"
   ]
  },
  {
   "cell_type": "code",
   "execution_count": 43,
   "metadata": {},
   "outputs": [
    {
     "data": {
      "text/plain": [
       "<tensorflow.python.keras.preprocessing.image.ImageDataGenerator at 0x7ff428742370>"
      ]
     },
     "execution_count": 43,
     "metadata": {},
     "output_type": "execute_result"
    }
   ],
   "source": [
    "test_datagen2 = ImageDataGenerator(rescale=1./255)\n",
    "test_datagen2"
   ]
  },
  {
   "cell_type": "code",
   "execution_count": 44,
   "metadata": {},
   "outputs": [
    {
     "name": "stdout",
     "output_type": "stream",
     "text": [
      "Found 1 images belonging to 1 classes.\n"
     ]
    }
   ],
   "source": [
    "test_generator2 = test_datagen2.flow_from_directory(\n",
    "        'images',\n",
    "        target_size=(80, 24),    \n",
    "        batch_size=1,\n",
    "        class_mode='categorical')"
   ]
  },
  {
   "cell_type": "code",
   "execution_count": 45,
   "metadata": {
    "scrolled": true
   },
   "outputs": [
    {
     "name": "stdout",
     "output_type": "stream",
     "text": [
      "-- Predict --\n",
      "WARNING:tensorflow:Your input ran out of data; interrupting training. Make sure that your dataset or generator can generate at least `steps_per_epoch * epochs` batches (in this case, 5 batches). You may need to use the repeat() function when building your dataset.\n",
      "{'bonghwang': 0, 'dohwa': 1, 'gongjak': 2, 'horang': 3, 'so': 4, 'yong': 5}\n",
      "[[0.000 0.990 0.008 0.001 0.000 0.001]]\n"
     ]
    }
   ],
   "source": [
    "print(\"-- Predict --\")\n",
    "output = model.predict_generator(test_generator2, steps=5)\n",
    "np.set_printoptions(formatter={'float': lambda x: \"{0:0.3f}\".format(x)})\n",
    "print(train_generator.class_indices)\n",
    "print(output)"
   ]
  },
  {
   "cell_type": "code",
   "execution_count": 46,
   "metadata": {
    "scrolled": true
   },
   "outputs": [
    {
     "name": "stdout",
     "output_type": "stream",
     "text": [
      "1\n"
     ]
    }
   ],
   "source": [
    "for i in output:\n",
    "    print(i.argmax())"
   ]
  },
  {
   "cell_type": "code",
   "execution_count": null,
   "metadata": {},
   "outputs": [],
   "source": []
  }
 ],
 "metadata": {
  "kernelspec": {
   "display_name": "Python 3",
   "language": "python",
   "name": "python3"
  },
  "language_info": {
   "codemirror_mode": {
    "name": "ipython",
    "version": 3
   },
   "file_extension": ".py",
   "mimetype": "text/x-python",
   "name": "python",
   "nbconvert_exporter": "python",
   "pygments_lexer": "ipython3",
   "version": "3.7.7"
  }
 },
 "nbformat": 4,
 "nbformat_minor": 4
}
