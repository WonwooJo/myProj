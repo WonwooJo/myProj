{
 "cells": [
  {
   "cell_type": "code",
   "execution_count": 18,
   "metadata": {},
   "outputs": [],
   "source": [
    "dst = []\n",
    "import cv2\n",
    "# 얼굴과 눈을 검출하기 위해 미리 학습시켜 놓은 XML 포맷으로 저장된 분류기를 로드\n",
    "face_cascade = cv2.CascadeClassifier('C:/Users/joww0/anaconda3/Lib/site-packages/cv2/data/haarcascade_frontalface_default.xml')\n",
    "eye_cascade = cv2.CascadeClassifier('C:/Users/joww0/anaconda3/Lib/site-packages/cv2/data/haarcascade_eye.xml')\n",
    "\n",
    "# 얼굴과 눈을 검출할 그레이스케일 이미지를 준비\n",
    "img = cv2.imread('images/eyes_all/cow_eyes/3 (1).jpg')\n",
    "gray = cv2.cvtColor(img, cv2.COLOR_BGR2GRAY)\n",
    "\n",
    "# 이미지에서 얼굴을 검출\n",
    "faces = face_cascade.detectMultiScale(gray, 2, 5)\n",
    "\n",
    "# 얼굴이 검출되었다면 얼굴 위치에 대한 좌표 정보를 리턴\n",
    "for (x,y,w,h) in faces:\n",
    "\n",
    "    # 원본 이미지에 얼굴의 위치를 표시\n",
    "    # cv2.rectangle(img,(x,y),(x+w,y+h),(255,0,0),2)\n",
    "\n",
    "    # 눈 검출은 얼굴이 검출된 영역 내부에서만 진행하기 위해 ROI를 생성\n",
    "    roi_gray = gray[y:y+h, x:x+w]\n",
    "    roi_color = img[y:y+h, x:x+w]\n",
    "\n",
    "    # 눈을 검출\n",
    "    eyes = eye_cascade.detectMultiScale(roi_gray)\n",
    "\n",
    "    # 눈이 검출되었다면 눈 위치에 대한 좌표 정보를 리턴\n",
    "    for (ex,ey,ew,eh) in [eyes[0]]:\n",
    "\n",
    "        # 원본 이미지에 얼굴의 위치를 표시 ROI에 표시하면 원본 이미지에도 표시\n",
    "        # cv2.rectangle(roi_color,(ex,ey),(ex+ew,ey+eh),(0,255,0),2)\n",
    "        # 눈 뗴어내기\n",
    "#         src = cv2.imread(\"images/figs/9.jpg\", cv2.IMREAD_COLOR)\n",
    "#         dst = src.copy() \n",
    "        dst = roi_color[ey:(ey+eh),ex:(ex+ew)]\n",
    "        cv2.imwrite('images/1.jpg',dst)\n",
    "        \n",
    "# 얼굴과 눈 검출 결과\n",
    "# cv2.imshow('img',img)\n",
    "# cv2.waitKey(0)\n",
    "# cv2.destroyAllWindows()"
   ]
  },
  {
   "cell_type": "code",
   "execution_count": 19,
   "metadata": {
    "scrolled": true
   },
   "outputs": [
    {
     "data": {
      "text/plain": [
       "[]"
      ]
     },
     "execution_count": 19,
     "metadata": {},
     "output_type": "execute_result"
    }
   ],
   "source": [
    "dst\n"
   ]
  },
  {
   "cell_type": "code",
   "execution_count": 16,
   "metadata": {},
   "outputs": [],
   "source": [
    "img = cv2.imread('images/eyes_all/cow_eyes/3 (1).jpg')"
   ]
  },
  {
   "cell_type": "code",
   "execution_count": 17,
   "metadata": {},
   "outputs": [
    {
     "data": {
      "text/plain": [
       "array([[[ 90,  99, 113],\n",
       "        [113, 124, 138],\n",
       "        [134, 144, 161],\n",
       "        ...,\n",
       "        [171, 185, 204],\n",
       "        [171, 185, 204],\n",
       "        [171, 185, 204]],\n",
       "\n",
       "       [[106, 115, 129],\n",
       "        [125, 136, 150],\n",
       "        [143, 153, 170],\n",
       "        ...,\n",
       "        [172, 186, 205],\n",
       "        [172, 186, 205],\n",
       "        [172, 186, 205]],\n",
       "\n",
       "       [[119, 128, 142],\n",
       "        [133, 144, 158],\n",
       "        [145, 155, 172],\n",
       "        ...,\n",
       "        [173, 187, 206],\n",
       "        [173, 187, 206],\n",
       "        [173, 187, 206]],\n",
       "\n",
       "       ...,\n",
       "\n",
       "       [[132, 139, 154],\n",
       "        [140, 147, 162],\n",
       "        [146, 154, 171],\n",
       "        ...,\n",
       "        [198, 208, 226],\n",
       "        [198, 208, 226],\n",
       "        [198, 208, 226]],\n",
       "\n",
       "       [[134, 141, 156],\n",
       "        [141, 148, 163],\n",
       "        [147, 155, 172],\n",
       "        ...,\n",
       "        [199, 209, 227],\n",
       "        [199, 209, 227],\n",
       "        [199, 209, 227]],\n",
       "\n",
       "       [[134, 141, 156],\n",
       "        [142, 149, 164],\n",
       "        [148, 156, 173],\n",
       "        ...,\n",
       "        [199, 209, 227],\n",
       "        [199, 209, 227],\n",
       "        [199, 209, 227]]], dtype=uint8)"
      ]
     },
     "execution_count": 17,
     "metadata": {},
     "output_type": "execute_result"
    }
   ],
   "source": [
    "img"
   ]
  },
  {
   "cell_type": "code",
   "execution_count": null,
   "metadata": {},
   "outputs": [],
   "source": []
  }
 ],
 "metadata": {
  "kernelspec": {
   "display_name": "Python 3",
   "language": "python",
   "name": "python3"
  },
  "language_info": {
   "codemirror_mode": {
    "name": "ipython",
    "version": 3
   },
   "file_extension": ".py",
   "mimetype": "text/x-python",
   "name": "python",
   "nbconvert_exporter": "python",
   "pygments_lexer": "ipython3",
   "version": "3.7.7"
  }
 },
 "nbformat": 4,
 "nbformat_minor": 4
}
