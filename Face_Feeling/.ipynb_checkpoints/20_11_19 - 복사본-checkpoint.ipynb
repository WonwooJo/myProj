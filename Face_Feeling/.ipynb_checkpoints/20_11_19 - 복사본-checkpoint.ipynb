{
 "cells": [
  {
   "cell_type": "code",
   "execution_count": 1,
   "metadata": {
    "scrolled": true
   },
   "outputs": [],
   "source": [
    "import numpy as np\n",
    "import pandas as pd \n",
    "from keras.preprocessing.image import ImageDataGenerator, load_img, img_to_array\n",
    "from keras.utils import to_categorical\n",
    "from sklearn.model_selection import train_test_split\n",
    "import matplotlib.pyplot as plt\n",
    "import random\n",
    "import os\n",
    "from tensorflow.keras.models import load_model"
   ]
  },
  {
   "cell_type": "code",
   "execution_count": 2,
   "metadata": {},
   "outputs": [],
   "source": [
    "IMAGE_WIDTH=150\n",
    "IMAGE_HEIGHT=50\n",
    "IMAGE_SIZE=(IMAGE_WIDTH, IMAGE_HEIGHT)\n",
    "IMAGE_CHANNELS = 3 # color or gray\n",
    "batch_size= 10"
   ]
  },
  {
   "cell_type": "code",
   "execution_count": 2,
   "metadata": {},
   "outputs": [],
   "source": [
    "# IMAGE_WIDTH=80\n",
    "# IMAGE_HEIGHT=24\n",
    "# IMAGE_SIZE=(IMAGE_WIDTH, IMAGE_HEIGHT)\n",
    "# IMAGE_CHANNELS = 3 # color or gray\n",
    "# # batch_size= 10"
   ]
  },
  {
   "cell_type": "code",
   "execution_count": 3,
   "metadata": {},
   "outputs": [],
   "source": [
    "categories=[]\n",
    "train_dir=os.listdir(\"images/img_mining/2eyes/augmented\")\n",
    "for filename in train_dir:\n",
    "    category=filename.split(' ')[0]\n",
    "    if category == 'bonghwang':\n",
    "        categories.append('bonghwang')\n",
    "    if category == 'dohwa':\n",
    "        categories.append('dohwa')\n",
    "    if category == 'gongjak':\n",
    "        categories.append('gongjak')\n",
    "    if category == 'horang':\n",
    "        categories.append('horang')\n",
    "    if category == 'so':\n",
    "        categories.append('so')\n",
    "    if category == 'yong':\n",
    "        categories.append('yong')"
   ]
  },
  {
   "cell_type": "code",
   "execution_count": 4,
   "metadata": {},
   "outputs": [
    {
     "data": {
      "text/html": [
       "<div>\n",
       "<style scoped>\n",
       "    .dataframe tbody tr th:only-of-type {\n",
       "        vertical-align: middle;\n",
       "    }\n",
       "\n",
       "    .dataframe tbody tr th {\n",
       "        vertical-align: top;\n",
       "    }\n",
       "\n",
       "    .dataframe thead th {\n",
       "        text-align: right;\n",
       "    }\n",
       "</style>\n",
       "<table border=\"1\" class=\"dataframe\">\n",
       "  <thead>\n",
       "    <tr style=\"text-align: right;\">\n",
       "      <th></th>\n",
       "      <th>filename</th>\n",
       "      <th>category</th>\n",
       "    </tr>\n",
       "  </thead>\n",
       "  <tbody>\n",
       "    <tr>\n",
       "      <th>0</th>\n",
       "      <td>bonghwang 100_0.jpg</td>\n",
       "      <td>bonghwang</td>\n",
       "    </tr>\n",
       "    <tr>\n",
       "      <th>1</th>\n",
       "      <td>bonghwang 100_1.jpg</td>\n",
       "      <td>bonghwang</td>\n",
       "    </tr>\n",
       "    <tr>\n",
       "      <th>2</th>\n",
       "      <td>bonghwang 100_10.jpg</td>\n",
       "      <td>bonghwang</td>\n",
       "    </tr>\n",
       "    <tr>\n",
       "      <th>3</th>\n",
       "      <td>bonghwang 100_11.jpg</td>\n",
       "      <td>bonghwang</td>\n",
       "    </tr>\n",
       "    <tr>\n",
       "      <th>4</th>\n",
       "      <td>bonghwang 100_12.jpg</td>\n",
       "      <td>bonghwang</td>\n",
       "    </tr>\n",
       "    <tr>\n",
       "      <th>...</th>\n",
       "      <td>...</td>\n",
       "      <td>...</td>\n",
       "    </tr>\n",
       "    <tr>\n",
       "      <th>30442</th>\n",
       "      <td>yong 9_50.jpg</td>\n",
       "      <td>yong</td>\n",
       "    </tr>\n",
       "    <tr>\n",
       "      <th>30443</th>\n",
       "      <td>yong 9_6.jpg</td>\n",
       "      <td>yong</td>\n",
       "    </tr>\n",
       "    <tr>\n",
       "      <th>30444</th>\n",
       "      <td>yong 9_7.jpg</td>\n",
       "      <td>yong</td>\n",
       "    </tr>\n",
       "    <tr>\n",
       "      <th>30445</th>\n",
       "      <td>yong 9_8.jpg</td>\n",
       "      <td>yong</td>\n",
       "    </tr>\n",
       "    <tr>\n",
       "      <th>30446</th>\n",
       "      <td>yong 9_9.jpg</td>\n",
       "      <td>yong</td>\n",
       "    </tr>\n",
       "  </tbody>\n",
       "</table>\n",
       "<p>30447 rows × 2 columns</p>\n",
       "</div>"
      ],
      "text/plain": [
       "                   filename   category\n",
       "0       bonghwang 100_0.jpg  bonghwang\n",
       "1       bonghwang 100_1.jpg  bonghwang\n",
       "2      bonghwang 100_10.jpg  bonghwang\n",
       "3      bonghwang 100_11.jpg  bonghwang\n",
       "4      bonghwang 100_12.jpg  bonghwang\n",
       "...                     ...        ...\n",
       "30442         yong 9_50.jpg       yong\n",
       "30443          yong 9_6.jpg       yong\n",
       "30444          yong 9_7.jpg       yong\n",
       "30445          yong 9_8.jpg       yong\n",
       "30446          yong 9_9.jpg       yong\n",
       "\n",
       "[30447 rows x 2 columns]"
      ]
     },
     "execution_count": 4,
     "metadata": {},
     "output_type": "execute_result"
    }
   ],
   "source": [
    "df=pd.DataFrame({'filename':train_dir,'category':categories})\n",
    "df"
   ]
  },
  {
   "cell_type": "code",
   "execution_count": 5,
   "metadata": {},
   "outputs": [],
   "source": [
    "train_df, validate_df = train_test_split(df, test_size=0.20, random_state=777)\n",
    "train_df = train_df.reset_index(drop=True)\n",
    "validate_df = validate_df.reset_index(drop=True)"
   ]
  },
  {
   "cell_type": "code",
   "execution_count": 6,
   "metadata": {},
   "outputs": [],
   "source": [
    "train_df = train_df.reset_index(drop=True)\n",
    "validate_df = validate_df.reset_index(drop=True)"
   ]
  },
  {
   "cell_type": "code",
   "execution_count": 7,
   "metadata": {},
   "outputs": [
    {
     "data": {
      "text/plain": [
       "<matplotlib.axes._subplots.AxesSubplot at 0x204a0599a88>"
      ]
     },
     "execution_count": 7,
     "metadata": {},
     "output_type": "execute_result"
    },
    {
     "data": {
      "image/png": "[encoded data removed]",
      "text/plain": [
       "<Figure size 432x288 with 1 Axes>"
      ]
     },
     "metadata": {
      "needs_background": "light"
     },
     "output_type": "display_data"
    }
   ],
   "source": [
    "train_df['category'].value_counts().plot.bar()"
   ]
  },
  {
   "cell_type": "code",
   "execution_count": 8,
   "metadata": {},
   "outputs": [
    {
     "data": {
      "text/plain": [
       "<matplotlib.axes._subplots.AxesSubplot at 0x204a0b42f48>"
      ]
     },
     "execution_count": 8,
     "metadata": {},
     "output_type": "execute_result"
    },
    {
     "data": {
      "image/png": "[encoded data removed]",
      "text/plain": [
       "<Figure size 432x288 with 1 Axes>"
      ]
     },
     "metadata": {
      "needs_background": "light"
     },
     "output_type": "display_data"
    }
   ],
   "source": [
    "validate_df['category'].value_counts().plot.bar()"
   ]
  },
  {
   "cell_type": "code",
   "execution_count": 9,
   "metadata": {},
   "outputs": [],
   "source": [
    "total_train = train_df.shape[0]\n",
    "total_validate = validate_df.shape[0]\n"
   ]
  },
  {
   "cell_type": "code",
   "execution_count": 10,
   "metadata": {},
   "outputs": [],
   "source": [
    "train_datagen = ImageDataGenerator(rotation_range=15,\n",
    "                                   rescale=1./255,\n",
    "                                   shear_range=0.1,\n",
    "                                   zoom_range=0.2,\n",
    "                                   horizontal_flip=True,\n",
    "                                   width_shift_range=0.1,\n",
    "                                   height_shift_range=0.1)"
   ]
  },
  {
   "cell_type": "code",
   "execution_count": 11,
   "metadata": {},
   "outputs": [
    {
     "name": "stdout",
     "output_type": "stream",
     "text": [
      "Found 24357 validated image filenames belonging to 6 classes.\n"
     ]
    }
   ],
   "source": [
    "train_generator=train_datagen.flow_from_dataframe(train_df,\n",
    "                                 'images/img_mining/2eyes/augmented',\n",
    "                                 x_col='filename',\n",
    "                                 y_col='category',\n",
    "                                  target_size=IMAGE_SIZE,\n",
    "                                  class_mode='categorical',\n",
    "                                  batch_size=batch_size\n",
    "                                 )"
   ]
  },
  {
   "cell_type": "code",
   "execution_count": 12,
   "metadata": {},
   "outputs": [
    {
     "name": "stdout",
     "output_type": "stream",
     "text": [
      "Found 6090 validated image filenames belonging to 6 classes.\n"
     ]
    }
   ],
   "source": [
    "validation_datagen = ImageDataGenerator(rescale=1./255)\n",
    "\n",
    "validation_generator = validation_datagen.flow_from_dataframe(validate_df,\n",
    "                                                              \"images/img_mining/2eyes/augmented\",\n",
    "                                                              x_col='filename',\n",
    "                                                              y_col='category',\n",
    "                                                              target_size=IMAGE_SIZE,\n",
    "                                                              class_mode='categorical',\n",
    "                                                              batch_size=batch_size)"
   ]
  },
  {
   "cell_type": "code",
   "execution_count": 13,
   "metadata": {},
   "outputs": [],
   "source": [
    "from keras.models import Sequential\n",
    "from keras.layers import *"
   ]
  },
  {
   "cell_type": "code",
   "execution_count": 14,
   "metadata": {
    "scrolled": true
   },
   "outputs": [
    {
     "name": "stdout",
     "output_type": "stream",
     "text": [
      "Model: \"sequential\"\n",
      "_________________________________________________________________\n",
      "Layer (type)                 Output Shape              Param #   \n",
      "=================================================================\n",
      "conv2d (Conv2D)              (None, 148, 48, 32)       896       \n",
      "_________________________________________________________________\n",
      "batch_normalization (BatchNo (None, 148, 48, 32)       128       \n",
      "_________________________________________________________________\n",
      "max_pooling2d (MaxPooling2D) (None, 74, 24, 32)        0         \n",
      "_________________________________________________________________\n",
      "dropout (Dropout)            (None, 74, 24, 32)        0         \n",
      "_________________________________________________________________\n",
      "conv2d_1 (Conv2D)            (None, 72, 22, 64)        18496     \n",
      "_________________________________________________________________\n",
      "batch_normalization_1 (Batch (None, 72, 22, 64)        256       \n",
      "_________________________________________________________________\n",
      "max_pooling2d_1 (MaxPooling2 (None, 36, 11, 64)        0         \n",
      "_________________________________________________________________\n",
      "dropout_1 (Dropout)          (None, 36, 11, 64)        0         \n",
      "_________________________________________________________________\n",
      "conv2d_2 (Conv2D)            (None, 34, 9, 128)        73856     \n",
      "_________________________________________________________________\n",
      "batch_normalization_2 (Batch (None, 34, 9, 128)        512       \n",
      "_________________________________________________________________\n",
      "max_pooling2d_2 (MaxPooling2 (None, 17, 4, 128)        0         \n",
      "_________________________________________________________________\n",
      "dropout_2 (Dropout)          (None, 17, 4, 128)        0         \n",
      "_________________________________________________________________\n",
      "flatten (Flatten)            (None, 8704)              0         \n",
      "_________________________________________________________________\n",
      "dense (Dense)                (None, 512)               4456960   \n",
      "_________________________________________________________________\n",
      "batch_normalization_3 (Batch (None, 512)               2048      \n",
      "_________________________________________________________________\n",
      "dropout_3 (Dropout)          (None, 512)               0         \n",
      "_________________________________________________________________\n",
      "dense_1 (Dense)              (None, 6)                 3078      \n",
      "=================================================================\n",
      "Total params: 4,556,230\n",
      "Trainable params: 4,554,758\n",
      "Non-trainable params: 1,472\n",
      "_________________________________________________________________\n"
     ]
    }
   ],
   "source": [
    "model = Sequential()\n",
    "model.add(Conv2D(32, (3, 3), activation='relu', input_shape=(IMAGE_WIDTH, IMAGE_HEIGHT, IMAGE_CHANNELS)))\n",
    "model.add(BatchNormalization())\n",
    "model.add(MaxPooling2D(pool_size=(2, 2)))\n",
    "model.add(Dropout(0.25))\n",
    "model.add(Conv2D(64, (3, 3), activation='relu'))\n",
    "model.add(BatchNormalization())\n",
    "model.add(MaxPooling2D(pool_size=(2, 2)))\n",
    "model.add(Dropout(0.25))\n",
    "model.add(Conv2D(128, (3, 3), activation='relu'))\n",
    "model.add(BatchNormalization())\n",
    "model.add(MaxPooling2D(pool_size=(2, 2)))\n",
    "model.add(Dropout(0.25))\n",
    "model.add(Flatten())\n",
    "model.add(Dense(512, activation='relu'))\n",
    "model.add(BatchNormalization())\n",
    "model.add(Dropout(0.5))\n",
    "model.add(Dense(6, activation='softmax')) \n",
    "model.compile(loss='categorical_crossentropy', optimizer='adam', metrics=['acc'])\n",
    "model.summary()"
   ]
  },
  {
   "cell_type": "code",
   "execution_count": 15,
   "metadata": {},
   "outputs": [],
   "source": [
    "from keras.callbacks import EarlyStopping, ReduceLROnPlateau"
   ]
  },
  {
   "cell_type": "code",
   "execution_count": 16,
   "metadata": {},
   "outputs": [],
   "source": [
    "earlystop = EarlyStopping(patience=5),\n",
    "learning_rate_reduction = ReduceLROnPlateau(monitor='val_acc',\n",
    "                                           patience=2,\n",
    "                                           verbose=1,\n",
    "                                            factor=0.5,\n",
    "                                            min_lr=0.00001)"
   ]
  },
  {
   "cell_type": "code",
   "execution_count": 17,
   "metadata": {
    "scrolled": true
   },
   "outputs": [
    {
     "name": "stdout",
     "output_type": "stream",
     "text": [
      "WARNING:tensorflow:From <ipython-input-17-6264a3338fa2>:6: Model.fit_generator (from tensorflow.python.keras.engine.training) is deprecated and will be removed in a future version.\n",
      "Instructions for updating:\n",
      "Please use Model.fit, which supports generators.\n",
      "Epoch 1/40\n",
      "2435/2435 [==============================] - 236s 97ms/step - loss: 1.9295 - acc: 0.2687 - val_loss: 1.8233 - val_acc: 0.2890\n",
      "Epoch 2/40\n",
      "2435/2435 [==============================] - 235s 97ms/step - loss: 1.6185 - acc: 0.3331 - val_loss: 1.9162 - val_acc: 0.2539\n",
      "Epoch 3/40\n",
      "2435/2435 [==============================] - 235s 97ms/step - loss: 1.5051 - acc: 0.3834 - val_loss: 1.2677 - val_acc: 0.4721\n",
      "Epoch 4/40\n",
      "2435/2435 [==============================] - 236s 97ms/step - loss: 1.4357 - acc: 0.4129 - val_loss: 1.5105 - val_acc: 0.3893\n",
      "Epoch 5/40\n",
      "2435/2435 [==============================] - 236s 97ms/step - loss: 1.3575 - acc: 0.4428 - val_loss: 1.0307 - val_acc: 0.5690\n",
      "Epoch 6/40\n",
      "2435/2435 [==============================] - 236s 97ms/step - loss: 1.3184 - acc: 0.4553 - val_loss: 1.3704 - val_acc: 0.5187\n",
      "Epoch 7/40\n",
      "2435/2435 [==============================] - 236s 97ms/step - loss: 1.2547 - acc: 0.4857 - val_loss: 0.9364 - val_acc: 0.6076\n",
      "Epoch 8/40\n",
      "2435/2435 [==============================] - 236s 97ms/step - loss: 1.2293 - acc: 0.4944 - val_loss: 1.1362 - val_acc: 0.5745\n",
      "Epoch 9/40\n",
      "2435/2435 [==============================] - 236s 97ms/step - loss: 1.1663 - acc: 0.5155 - val_loss: 0.9097 - val_acc: 0.6085\n",
      "Epoch 10/40\n",
      "2435/2435 [==============================] - 236s 97ms/step - loss: 1.1294 - acc: 0.5298 - val_loss: 0.8529 - val_acc: 0.6327\n",
      "Epoch 11/40\n",
      "2435/2435 [==============================] - 239s 98ms/step - loss: 1.1104 - acc: 0.5424 - val_loss: 0.8408 - val_acc: 0.6282\n",
      "Epoch 12/40\n",
      "2435/2435 [==============================] - 237s 97ms/step - loss: 1.0764 - acc: 0.5481 - val_loss: 0.7897 - val_acc: 0.6399\n",
      "Epoch 13/40\n",
      "2435/2435 [==============================] - 237s 97ms/step - loss: 1.0438 - acc: 0.5625 - val_loss: 0.8187 - val_acc: 0.6599\n",
      "Epoch 14/40\n",
      "2435/2435 [==============================] - 237s 97ms/step - loss: 1.0192 - acc: 0.5695 - val_loss: 0.7681 - val_acc: 0.6645\n",
      "Epoch 15/40\n",
      "2435/2435 [==============================] - 236s 97ms/step - loss: 0.9807 - acc: 0.5848 - val_loss: 0.6597 - val_acc: 0.7138\n",
      "Epoch 16/40\n",
      "2435/2435 [==============================] - 237s 97ms/step - loss: 0.9689 - acc: 0.5871 - val_loss: 0.6098 - val_acc: 0.7207\n",
      "Epoch 17/40\n",
      "2435/2435 [==============================] - 237s 97ms/step - loss: 0.9494 - acc: 0.5958 - val_loss: 0.6065 - val_acc: 0.7266\n",
      "Epoch 18/40\n",
      "2435/2435 [==============================] - 237s 97ms/step - loss: 0.9575 - acc: 0.5947 - val_loss: 0.6295 - val_acc: 0.7092\n",
      "Epoch 19/40\n",
      "2435/2435 [==============================] - ETA: 0s - loss: 0.9200 - acc: 0.6082\n",
      "Epoch 00019: ReduceLROnPlateau reducing learning rate to 0.0005000000237487257.\n",
      "2435/2435 [==============================] - 237s 98ms/step - loss: 0.9200 - acc: 0.6082 - val_loss: 0.6593 - val_acc: 0.6995\n",
      "Epoch 20/40\n",
      "2435/2435 [==============================] - 237s 97ms/step - loss: 0.8622 - acc: 0.6280 - val_loss: 0.4797 - val_acc: 0.7617\n",
      "Epoch 21/40\n",
      "2435/2435 [==============================] - 237s 97ms/step - loss: 0.8236 - acc: 0.6388 - val_loss: 0.5236 - val_acc: 0.7456\n",
      "Epoch 22/40\n",
      "2435/2435 [==============================] - 237s 97ms/step - loss: 0.8106 - acc: 0.6471 - val_loss: 0.4641 - val_acc: 0.7654\n",
      "Epoch 23/40\n",
      "2435/2435 [==============================] - 237s 97ms/step - loss: 0.7929 - acc: 0.6514 - val_loss: 0.4863 - val_acc: 0.7599\n",
      "Epoch 24/40\n",
      "2435/2435 [==============================] - 238s 98ms/step - loss: 0.7800 - acc: 0.6531 - val_loss: 0.4539 - val_acc: 0.7688\n",
      "Epoch 25/40\n",
      "2435/2435 [==============================] - 237s 97ms/step - loss: 0.7644 - acc: 0.6673 - val_loss: 0.4279 - val_acc: 0.7798\n",
      "Epoch 26/40\n",
      "2435/2435 [==============================] - 237s 97ms/step - loss: 0.7470 - acc: 0.6660 - val_loss: 0.4012 - val_acc: 0.7883\n",
      "Epoch 27/40\n",
      "2435/2435 [==============================] - 237s 97ms/step - loss: 0.7405 - acc: 0.6736 - val_loss: 0.4099 - val_acc: 0.7900\n",
      "Epoch 28/40\n",
      "2435/2435 [==============================] - 236s 97ms/step - loss: 0.7327 - acc: 0.6741 - val_loss: 0.4133 - val_acc: 0.7851\n",
      "Epoch 29/40\n",
      "2435/2435 [==============================] - ETA: 0s - loss: 0.7235 - acc: 0.6776\n",
      "Epoch 00029: ReduceLROnPlateau reducing learning rate to 0.0002500000118743628.\n",
      "2435/2435 [==============================] - 236s 97ms/step - loss: 0.7235 - acc: 0.6776 - val_loss: 0.4129 - val_acc: 0.7898\n",
      "Epoch 30/40\n",
      "2435/2435 [==============================] - 237s 97ms/step - loss: 0.6944 - acc: 0.6871 - val_loss: 0.4023 - val_acc: 0.7824\n",
      "Epoch 31/40\n",
      "2435/2435 [==============================] - ETA: 0s - loss: 0.6841 - acc: 0.6885\n",
      "Epoch 00031: ReduceLROnPlateau reducing learning rate to 0.0001250000059371814.\n",
      "2435/2435 [==============================] - 237s 97ms/step - loss: 0.6841 - acc: 0.6885 - val_loss: 0.3913 - val_acc: 0.7821\n",
      "Epoch 32/40\n",
      "2435/2435 [==============================] - 236s 97ms/step - loss: 0.6506 - acc: 0.7014 - val_loss: 0.3753 - val_acc: 0.7872\n",
      "Epoch 33/40\n",
      "2435/2435 [==============================] - 237s 98ms/step - loss: 0.6520 - acc: 0.7030 - val_loss: 0.3713 - val_acc: 0.7901\n",
      "Epoch 34/40\n",
      "2435/2435 [==============================] - 237s 97ms/step - loss: 0.6533 - acc: 0.7006 - val_loss: 0.3719 - val_acc: 0.7890\n",
      "Epoch 35/40\n",
      "2435/2435 [==============================] - 238s 98ms/step - loss: 0.6395 - acc: 0.7040 - val_loss: 0.3552 - val_acc: 0.7970\n",
      "Epoch 36/40\n",
      "2435/2435 [==============================] - 237s 97ms/step - loss: 0.6386 - acc: 0.7041 - val_loss: 0.3762 - val_acc: 0.7918\n",
      "Epoch 37/40\n",
      "2435/2435 [==============================] - ETA: 0s - loss: 0.6362 - acc: 0.7096\n",
      "Epoch 00037: ReduceLROnPlateau reducing learning rate to 6.25000029685907e-05.\n",
      "2435/2435 [==============================] - 237s 97ms/step - loss: 0.6362 - acc: 0.7096 - val_loss: 0.3605 - val_acc: 0.7931\n",
      "Epoch 38/40\n",
      "2435/2435 [==============================] - 238s 98ms/step - loss: 0.6313 - acc: 0.7083 - val_loss: 0.3516 - val_acc: 0.8007\n",
      "Epoch 39/40\n",
      "2435/2435 [==============================] - 238s 98ms/step - loss: 0.6230 - acc: 0.7101 - val_loss: 0.3578 - val_acc: 0.7980\n",
      "Epoch 40/40\n",
      "2435/2435 [==============================] - ETA: 0s - loss: 0.6301 - acc: 0.7051- ETA: 1s - loss: 0.6306\n",
      "Epoch 00040: ReduceLROnPlateau reducing learning rate to 3.125000148429535e-05.\n",
      "2435/2435 [==============================] - 239s 98ms/step - loss: 0.6301 - acc: 0.7051 - val_loss: 0.3468 - val_acc: 0.7961\n"
     ]
    }
   ],
   "source": [
    "history = model.fit_generator(train_generator,\n",
    "                              epochs=40,\n",
    "                              validation_data=validation_generator,\n",
    "                              validation_steps=total_validate//batch_size,\n",
    "                              steps_per_epoch=total_train//batch_size,\n",
    "                              callbacks=[earlystop,learning_rate_reduction])"
   ]
  },
  {
   "cell_type": "code",
   "execution_count": 18,
   "metadata": {},
   "outputs": [
    {
     "data": {
      "image/png": "[encoded data removed]",
      "text/plain": [
       "<Figure size 432x288 with 1 Axes>"
      ]
     },
     "metadata": {
      "needs_background": "light"
     },
     "output_type": "display_data"
    }
   ],
   "source": [
    "plt.plot(history.history['acc'])\n",
    "plt.plot(history.history['val_acc'])\n",
    "plt.legend(['training', 'validation'], loc = 'upper left')\n",
    "plt.show()"
   ]
  },
  {
   "cell_type": "code",
   "execution_count": 19,
   "metadata": {},
   "outputs": [
    {
     "name": "stdout",
     "output_type": "stream",
     "text": [
      "2436/2436 [==============================] - 65s 27ms/step - loss: 0.3885 - acc: 0.7950\n"
     ]
    },
    {
     "data": {
      "text/plain": [
       "[0.38852688670158386, 0.7950486540794373]"
      ]
     },
     "execution_count": 19,
     "metadata": {},
     "output_type": "execute_result"
    }
   ],
   "source": [
    "model.evaluate(train_generator)"
   ]
  },
  {
   "cell_type": "code",
   "execution_count": 20,
   "metadata": {},
   "outputs": [],
   "source": [
    "model.save(\"model_2eyes_150_50.h5\")"
   ]
  },
  {
   "cell_type": "code",
   "execution_count": 22,
   "metadata": {},
   "outputs": [],
   "source": [
    "loaded_model = load_model('model_2eyes_150_50.h5')"
   ]
  },
  {
   "cell_type": "markdown",
   "metadata": {},
   "source": [
    "### pretrained model을 통한 예측"
   ]
  },
  {
   "cell_type": "code",
   "execution_count": 23,
   "metadata": {},
   "outputs": [],
   "source": [
    "categories=[]\n",
    "train_dir=os.listdir(\"images/2eyes_test\")\n",
    "for filename in train_dir:\n",
    "    category=filename.split(' ')[0]\n",
    "    if category == 'bonghwang':\n",
    "        categories.append('bonghwang')\n",
    "    if category == 'dohwa':\n",
    "        categories.append('dohwa')\n",
    "    if category == 'gongjak':\n",
    "        categories.append('gongjak')\n",
    "    if category == 'horang':\n",
    "        categories.append('horang')\n",
    "    if category == 'so':\n",
    "        categories.append('so')\n",
    "    if category == 'yong':\n",
    "        categories.append('yong')"
   ]
  },
  {
   "cell_type": "code",
   "execution_count": 24,
   "metadata": {
    "scrolled": false
   },
   "outputs": [
    {
     "data": {
      "text/plain": [
       "['bonghwang',\n",
       " 'bonghwang',\n",
       " 'bonghwang',\n",
       " 'bonghwang',\n",
       " 'bonghwang',\n",
       " 'bonghwang',\n",
       " 'bonghwang',\n",
       " 'bonghwang',\n",
       " 'bonghwang',\n",
       " 'bonghwang',\n",
       " 'bonghwang',\n",
       " 'bonghwang',\n",
       " 'bonghwang',\n",
       " 'bonghwang',\n",
       " 'bonghwang',\n",
       " 'bonghwang',\n",
       " 'bonghwang',\n",
       " 'bonghwang',\n",
       " 'bonghwang',\n",
       " 'bonghwang',\n",
       " 'bonghwang',\n",
       " 'bonghwang',\n",
       " 'bonghwang',\n",
       " 'bonghwang',\n",
       " 'bonghwang',\n",
       " 'bonghwang',\n",
       " 'bonghwang']"
      ]
     },
     "execution_count": 24,
     "metadata": {},
     "output_type": "execute_result"
    }
   ],
   "source": [
    "categories"
   ]
  },
  {
   "cell_type": "code",
   "execution_count": 25,
   "metadata": {
    "scrolled": true
   },
   "outputs": [
    {
     "data": {
      "text/html": [
       "<div>\n",
       "<style scoped>\n",
       "    .dataframe tbody tr th:only-of-type {\n",
       "        vertical-align: middle;\n",
       "    }\n",
       "\n",
       "    .dataframe tbody tr th {\n",
       "        vertical-align: top;\n",
       "    }\n",
       "\n",
       "    .dataframe thead th {\n",
       "        text-align: right;\n",
       "    }\n",
       "</style>\n",
       "<table border=\"1\" class=\"dataframe\">\n",
       "  <thead>\n",
       "    <tr style=\"text-align: right;\">\n",
       "      <th></th>\n",
       "      <th>filename</th>\n",
       "      <th>category</th>\n",
       "    </tr>\n",
       "  </thead>\n",
       "  <tbody>\n",
       "    <tr>\n",
       "      <th>0</th>\n",
       "      <td>bonghwang (1).JPG</td>\n",
       "      <td>bonghwang</td>\n",
       "    </tr>\n",
       "    <tr>\n",
       "      <th>1</th>\n",
       "      <td>bonghwang (10).JPG</td>\n",
       "      <td>bonghwang</td>\n",
       "    </tr>\n",
       "    <tr>\n",
       "      <th>2</th>\n",
       "      <td>bonghwang (11).JPG</td>\n",
       "      <td>bonghwang</td>\n",
       "    </tr>\n",
       "    <tr>\n",
       "      <th>3</th>\n",
       "      <td>bonghwang (12).JPG</td>\n",
       "      <td>bonghwang</td>\n",
       "    </tr>\n",
       "    <tr>\n",
       "      <th>4</th>\n",
       "      <td>bonghwang (13).JPG</td>\n",
       "      <td>bonghwang</td>\n",
       "    </tr>\n",
       "    <tr>\n",
       "      <th>5</th>\n",
       "      <td>bonghwang (14).JPG</td>\n",
       "      <td>bonghwang</td>\n",
       "    </tr>\n",
       "    <tr>\n",
       "      <th>6</th>\n",
       "      <td>bonghwang (15).JPG</td>\n",
       "      <td>bonghwang</td>\n",
       "    </tr>\n",
       "    <tr>\n",
       "      <th>7</th>\n",
       "      <td>bonghwang (16).JPG</td>\n",
       "      <td>bonghwang</td>\n",
       "    </tr>\n",
       "    <tr>\n",
       "      <th>8</th>\n",
       "      <td>bonghwang (17).JPG</td>\n",
       "      <td>bonghwang</td>\n",
       "    </tr>\n",
       "    <tr>\n",
       "      <th>9</th>\n",
       "      <td>bonghwang (18).JPG</td>\n",
       "      <td>bonghwang</td>\n",
       "    </tr>\n",
       "    <tr>\n",
       "      <th>10</th>\n",
       "      <td>bonghwang (19).JPG</td>\n",
       "      <td>bonghwang</td>\n",
       "    </tr>\n",
       "    <tr>\n",
       "      <th>11</th>\n",
       "      <td>bonghwang (2).JPG</td>\n",
       "      <td>bonghwang</td>\n",
       "    </tr>\n",
       "    <tr>\n",
       "      <th>12</th>\n",
       "      <td>bonghwang (20).JPG</td>\n",
       "      <td>bonghwang</td>\n",
       "    </tr>\n",
       "    <tr>\n",
       "      <th>13</th>\n",
       "      <td>bonghwang (21).JPG</td>\n",
       "      <td>bonghwang</td>\n",
       "    </tr>\n",
       "    <tr>\n",
       "      <th>14</th>\n",
       "      <td>bonghwang (22).JPG</td>\n",
       "      <td>bonghwang</td>\n",
       "    </tr>\n",
       "    <tr>\n",
       "      <th>15</th>\n",
       "      <td>bonghwang (23).JPG</td>\n",
       "      <td>bonghwang</td>\n",
       "    </tr>\n",
       "    <tr>\n",
       "      <th>16</th>\n",
       "      <td>bonghwang (24).JPG</td>\n",
       "      <td>bonghwang</td>\n",
       "    </tr>\n",
       "    <tr>\n",
       "      <th>17</th>\n",
       "      <td>bonghwang (25).JPG</td>\n",
       "      <td>bonghwang</td>\n",
       "    </tr>\n",
       "    <tr>\n",
       "      <th>18</th>\n",
       "      <td>bonghwang (26).JPG</td>\n",
       "      <td>bonghwang</td>\n",
       "    </tr>\n",
       "    <tr>\n",
       "      <th>19</th>\n",
       "      <td>bonghwang (27).JPG</td>\n",
       "      <td>bonghwang</td>\n",
       "    </tr>\n",
       "    <tr>\n",
       "      <th>20</th>\n",
       "      <td>bonghwang (3).JPG</td>\n",
       "      <td>bonghwang</td>\n",
       "    </tr>\n",
       "    <tr>\n",
       "      <th>21</th>\n",
       "      <td>bonghwang (4).JPG</td>\n",
       "      <td>bonghwang</td>\n",
       "    </tr>\n",
       "    <tr>\n",
       "      <th>22</th>\n",
       "      <td>bonghwang (5).JPG</td>\n",
       "      <td>bonghwang</td>\n",
       "    </tr>\n",
       "    <tr>\n",
       "      <th>23</th>\n",
       "      <td>bonghwang (6).JPG</td>\n",
       "      <td>bonghwang</td>\n",
       "    </tr>\n",
       "    <tr>\n",
       "      <th>24</th>\n",
       "      <td>bonghwang (7).JPG</td>\n",
       "      <td>bonghwang</td>\n",
       "    </tr>\n",
       "    <tr>\n",
       "      <th>25</th>\n",
       "      <td>bonghwang (8).JPG</td>\n",
       "      <td>bonghwang</td>\n",
       "    </tr>\n",
       "    <tr>\n",
       "      <th>26</th>\n",
       "      <td>bonghwang (9).JPG</td>\n",
       "      <td>bonghwang</td>\n",
       "    </tr>\n",
       "  </tbody>\n",
       "</table>\n",
       "</div>"
      ],
      "text/plain": [
       "              filename   category\n",
       "0    bonghwang (1).JPG  bonghwang\n",
       "1   bonghwang (10).JPG  bonghwang\n",
       "2   bonghwang (11).JPG  bonghwang\n",
       "3   bonghwang (12).JPG  bonghwang\n",
       "4   bonghwang (13).JPG  bonghwang\n",
       "5   bonghwang (14).JPG  bonghwang\n",
       "6   bonghwang (15).JPG  bonghwang\n",
       "7   bonghwang (16).JPG  bonghwang\n",
       "8   bonghwang (17).JPG  bonghwang\n",
       "9   bonghwang (18).JPG  bonghwang\n",
       "10  bonghwang (19).JPG  bonghwang\n",
       "11   bonghwang (2).JPG  bonghwang\n",
       "12  bonghwang (20).JPG  bonghwang\n",
       "13  bonghwang (21).JPG  bonghwang\n",
       "14  bonghwang (22).JPG  bonghwang\n",
       "15  bonghwang (23).JPG  bonghwang\n",
       "16  bonghwang (24).JPG  bonghwang\n",
       "17  bonghwang (25).JPG  bonghwang\n",
       "18  bonghwang (26).JPG  bonghwang\n",
       "19  bonghwang (27).JPG  bonghwang\n",
       "20   bonghwang (3).JPG  bonghwang\n",
       "21   bonghwang (4).JPG  bonghwang\n",
       "22   bonghwang (5).JPG  bonghwang\n",
       "23   bonghwang (6).JPG  bonghwang\n",
       "24   bonghwang (7).JPG  bonghwang\n",
       "25   bonghwang (8).JPG  bonghwang\n",
       "26   bonghwang (9).JPG  bonghwang"
      ]
     },
     "execution_count": 25,
     "metadata": {},
     "output_type": "execute_result"
    }
   ],
   "source": [
    "df=pd.DataFrame({'filename':train_dir,'category':categories})\n",
    "df"
   ]
  },
  {
   "cell_type": "code",
   "execution_count": 34,
   "metadata": {},
   "outputs": [
    {
     "name": "stdout",
     "output_type": "stream",
     "text": [
      "Found 27 validated image filenames belonging to 1 classes.\n"
     ]
    }
   ],
   "source": [
    "validation_datagen = ImageDataGenerator(rescale=1./255)\n",
    "\n",
    "validation_generator = validation_datagen.flow_from_dataframe(df,\n",
    "                                 'images/2eyes_test/',\n",
    "                                 x_col='filename',\n",
    "                                 y_col='category',\n",
    "                                  target_size=IMAGE_SIZE,\n",
    "                                  class_mode='categorical',\n",
    "                                  batch_size=len(category))"
   ]
  },
  {
   "cell_type": "code",
   "execution_count": 39,
   "metadata": {},
   "outputs": [
    {
     "name": "stdout",
     "output_type": "stream",
     "text": [
      "WARNING:tensorflow:Your input ran out of data; interrupting training. Make sure that your dataset or generator can generate at least `steps_per_epoch * epochs` batches (in this case, 9 batches). You may need to use the repeat() function when building your dataset.\n",
      "{'bonghwang': 0}\n",
      "[[0.000 0.000 0.000 0.000 0.999 0.001]\n",
      " [0.000 0.000 0.000 0.000 1.000 0.000]\n",
      " [0.000 0.000 0.000 0.000 0.998 0.002]\n",
      " [0.000 0.005 0.000 0.000 0.970 0.024]\n",
      " [0.000 0.006 0.000 0.000 0.966 0.028]\n",
      " [0.000 0.028 0.000 0.000 0.970 0.001]\n",
      " [0.000 0.001 0.000 0.000 0.999 0.000]\n",
      " [0.000 0.002 0.000 0.000 0.996 0.002]\n",
      " [0.000 0.000 0.000 0.000 0.994 0.006]\n",
      " [0.000 0.000 0.000 0.000 1.000 0.000]\n",
      " [0.000 0.000 0.000 0.000 1.000 0.000]\n",
      " [0.000 0.000 0.000 0.000 0.999 0.000]\n",
      " [0.000 0.002 0.000 0.000 0.997 0.000]\n",
      " [0.000 0.000 0.000 0.000 0.999 0.000]\n",
      " [0.000 0.001 0.000 0.000 0.999 0.000]\n",
      " [0.000 0.001 0.000 0.000 0.999 0.000]\n",
      " [0.000 0.000 0.000 0.000 1.000 0.000]\n",
      " [0.000 0.004 0.000 0.000 0.996 0.000]\n",
      " [0.000 0.015 0.000 0.000 0.982 0.003]\n",
      " [0.000 0.000 0.000 0.000 0.999 0.001]\n",
      " [0.000 0.019 0.000 0.000 0.981 0.001]\n",
      " [0.000 0.020 0.000 0.000 0.953 0.027]\n",
      " [0.000 0.002 0.000 0.000 0.998 0.000]\n",
      " [0.000 0.000 0.000 0.000 1.000 0.000]\n",
      " [0.000 0.000 0.000 0.000 1.000 0.000]\n",
      " [0.000 0.013 0.000 0.000 0.971 0.016]\n",
      " [0.000 0.000 0.000 0.000 1.000 0.000]]\n"
     ]
    }
   ],
   "source": [
    "output = loaded_model.predict_generator(validation_generator,steps = len(category))\n",
    "np.set_printoptions(formatter={'float': lambda x: \"{0:0.3f}\".format(x)})\n",
    "print(validation_generator.class_indices)\n",
    "print(output)"
   ]
  },
  {
   "cell_type": "code",
   "execution_count": 40,
   "metadata": {},
   "outputs": [
    {
     "name": "stdout",
     "output_type": "stream",
     "text": [
      "27\n"
     ]
    }
   ],
   "source": [
    "test=[]\n",
    "print(len(output))\n",
    "for i in output:\n",
    "    test.append(i.argmax())"
   ]
  },
  {
   "cell_type": "code",
   "execution_count": 41,
   "metadata": {
    "scrolled": false
   },
   "outputs": [
    {
     "data": {
      "text/plain": [
       "[4,\n",
       " 4,\n",
       " 4,\n",
       " 4,\n",
       " 4,\n",
       " 4,\n",
       " 4,\n",
       " 4,\n",
       " 4,\n",
       " 4,\n",
       " 4,\n",
       " 4,\n",
       " 4,\n",
       " 4,\n",
       " 4,\n",
       " 4,\n",
       " 4,\n",
       " 4,\n",
       " 4,\n",
       " 4,\n",
       " 4,\n",
       " 4,\n",
       " 4,\n",
       " 4,\n",
       " 4,\n",
       " 4,\n",
       " 4]"
      ]
     },
     "execution_count": 41,
     "metadata": {},
     "output_type": "execute_result"
    }
   ],
   "source": [
    "test"
   ]
  },
  {
   "cell_type": "code",
   "execution_count": 42,
   "metadata": {},
   "outputs": [],
   "source": [
    "dap = [0*50]"
   ]
  },
  {
   "cell_type": "code",
   "execution_count": 43,
   "metadata": {},
   "outputs": [
    {
     "ename": "NameError",
     "evalue": "name 'ᅵ두' is not defined",
     "output_type": "error",
     "traceback": [
      "\u001b[1;31m---------------------------------------------------------------------------\u001b[0m",
      "\u001b[1;31mNameError\u001b[0m                                 Traceback (most recent call last)",
      "\u001b[1;32m<ipython-input-43-98a6da2aa29b>\u001b[0m in \u001b[0;36m<module>\u001b[1;34m\u001b[0m\n\u001b[0;32m      1\u001b[0m \u001b[0macc\u001b[0m \u001b[1;33m=\u001b[0m \u001b[1;33m[\u001b[0m\u001b[1;33m]\u001b[0m\u001b[1;33m\u001b[0m\u001b[1;33m\u001b[0m\u001b[0m\n\u001b[1;32m----> 2\u001b[1;33m \u001b[1;32mfor\u001b[0m \u001b[0mi\u001b[0m \u001b[1;32min\u001b[0m \u001b[0mrange\u001b[0m\u001b[1;33m(\u001b[0m\u001b[0mㅣ두\u001b[0m\u001b[1;33m)\u001b[0m\u001b[1;33m:\u001b[0m\u001b[1;33m\u001b[0m\u001b[1;33m\u001b[0m\u001b[0m\n\u001b[0m\u001b[0;32m      3\u001b[0m     \u001b[1;32mif\u001b[0m \u001b[0mtest\u001b[0m\u001b[1;33m[\u001b[0m\u001b[0mi\u001b[0m\u001b[1;33m]\u001b[0m \u001b[1;33m==\u001b[0m \u001b[0mdap\u001b[0m\u001b[1;33m[\u001b[0m\u001b[0mi\u001b[0m\u001b[1;33m]\u001b[0m\u001b[1;33m:\u001b[0m\u001b[1;33m\u001b[0m\u001b[1;33m\u001b[0m\u001b[0m\n\u001b[0;32m      4\u001b[0m         \u001b[0macc\u001b[0m\u001b[1;33m.\u001b[0m\u001b[0mappend\u001b[0m\u001b[1;33m(\u001b[0m\u001b[1;36m1\u001b[0m\u001b[1;33m)\u001b[0m\u001b[1;33m\u001b[0m\u001b[1;33m\u001b[0m\u001b[0m\n\u001b[0;32m      5\u001b[0m     \u001b[1;32melse\u001b[0m\u001b[1;33m:\u001b[0m\u001b[1;33m\u001b[0m\u001b[1;33m\u001b[0m\u001b[0m\n",
      "\u001b[1;31mNameError\u001b[0m: name 'ᅵ두' is not defined"
     ]
    }
   ],
   "source": [
    "acc = []\n",
    "for i in range(len()):\n",
    "    if test[i] == dap[i]:\n",
    "        acc.append(1)\n",
    "    else:\n",
    "        acc.append(0)"
   ]
  },
  {
   "cell_type": "code",
   "execution_count": 32,
   "metadata": {},
   "outputs": [
    {
     "data": {
      "text/plain": [
       "[0, 0, 0, 0, 0, 0, 0, 0, 0, 0]"
      ]
     },
     "execution_count": 32,
     "metadata": {},
     "output_type": "execute_result"
    }
   ],
   "source": [
    "acc"
   ]
  },
  {
   "cell_type": "code",
   "execution_count": null,
   "metadata": {},
   "outputs": [],
   "source": []
  }
 ],
 "metadata": {
  "kernelspec": {
   "display_name": "Python 3",
   "language": "python",
   "name": "python3"
  },
  "language_info": {
   "codemirror_mode": {
    "name": "ipython",
    "version": 3
   },
   "file_extension": ".py",
   "mimetype": "text/x-python",
   "name": "python",
   "nbconvert_exporter": "python",
   "pygments_lexer": "ipython3",
   "version": "3.7.7"
  }
 },
 "nbformat": 4,
 "nbformat_minor": 4
}
