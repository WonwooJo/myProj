{
 "cells": [
  {
   "cell_type": "code",
   "execution_count": 9,
   "metadata": {},
   "outputs": [],
   "source": [
    "from keras.preprocessing.image import load_img, img_to_array, ImageDataGenerator\n",
    "import matplotlib.pyplot as plt\n",
    "import cv2"
   ]
  },
  {
   "cell_type": "code",
   "execution_count": 3,
   "metadata": {},
   "outputs": [],
   "source": [
    "img = load_img('images/eyes_new/yong/1.jpg')"
   ]
  },
  {
   "cell_type": "code",
   "execution_count": 4,
   "metadata": {},
   "outputs": [
    {
     "data": {
      "text/plain": [
       "(36, 36, 3)"
      ]
     },
     "execution_count": 4,
     "metadata": {},
     "output_type": "execute_result"
    }
   ],
   "source": [
    "data = img_to_array(img)\n",
    "data.shape"
   ]
  },
  {
   "cell_type": "code",
   "execution_count": 5,
   "metadata": {},
   "outputs": [],
   "source": [
    "from numpy import expand_dims\n",
    "import numpy as np"
   ]
  },
  {
   "cell_type": "code",
   "execution_count": 6,
   "metadata": {},
   "outputs": [],
   "source": [
    "# 확장 차원 추가\n",
    "samples = expand_dims(data, 0) # axis = 0"
   ]
  },
  {
   "cell_type": "code",
   "execution_count": 7,
   "metadata": {},
   "outputs": [
    {
     "data": {
      "text/plain": [
       "(1, 36, 36, 3)"
      ]
     },
     "execution_count": 7,
     "metadata": {},
     "output_type": "execute_result"
    }
   ],
   "source": [
    "samples.shape "
   ]
  },
  {
   "cell_type": "code",
   "execution_count": 33,
   "metadata": {},
   "outputs": [],
   "source": [
    "for i in range(300):\n",
    "    try:\n",
    "        img = load_img('images/eyes_new/yong/{}.jpg'.format(i))\n",
    "        data = img_to_array(img)\n",
    "        samples = expand_dims(data, 0)\n",
    "        datagen = ImageDataGenerator(\n",
    "            rotation_range=30,\n",
    "            horizontal_flip=True, \n",
    "            vertical_flip=True,\n",
    "            height_shift_range=0.1,\n",
    "            width_shift_range=[-2,2],\n",
    "            brightness_range=[0.2,1]\n",
    "        )\n",
    "        it = datagen.flow(samples, batch_size=1)\n",
    "        # fig = plt.figure(figsize=(30,30))\n",
    "        for j in range(55):\n",
    "            batch = it.next()\n",
    "            image = batch[0].astype('uint8') # float -> unsigned int8 (양수만 있는 8bit: 0~255)\n",
    "            cv2.imwrite('images/eyes_auged/yong/{}_{}.jpg'.format(i,j), image)\n",
    "    except:\n",
    "        pass"
   ]
  },
  {
   "cell_type": "code",
   "execution_count": null,
   "metadata": {},
   "outputs": [],
   "source": []
  }
 ],
 "metadata": {
  "kernelspec": {
   "display_name": "Python 3",
   "language": "python",
   "name": "python3"
  },
  "language_info": {
   "codemirror_mode": {
    "name": "ipython",
    "version": 3
   },
   "file_extension": ".py",
   "mimetype": "text/x-python",
   "name": "python",
   "nbconvert_exporter": "python",
   "pygments_lexer": "ipython3",
   "version": "3.7.7"
  }
 },
 "nbformat": 4,
 "nbformat_minor": 4
}
