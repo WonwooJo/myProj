{
 "cells": [
  {
   "cell_type": "code",
   "execution_count": 5,
   "metadata": {},
   "outputs": [],
   "source": [
    "import cv2\n",
    "# 얼굴과 눈을 검출하기 위해 미리 학습시켜 놓은 XML 포맷으로 저장된 분류기를 로드\n",
    "face_cascade = cv2.CascadeClassifier('C:/Users/joww0/anaconda3/Lib/site-packages/cv2/data/haarcascade_frontalface_default.xml')\n",
    "eye_cascade = cv2.CascadeClassifier('C:/Users/joww0/anaconda3/Lib/site-packages/cv2/data/haarcascade_eye.xml')\n",
    "\n",
    "# 얼굴과 눈을 검출할 그레이스케일 이미지를 준비\n",
    "img = cv2.imread('images/figs/9.jpg')\n",
    "gray = cv2.cvtColor(img, cv2.COLOR_BGR2GRAY)\n",
    "\n",
    "# 이미지에서 얼굴을 검출\n",
    "faces = face_cascade.detectMultiScale(gray, 2, 5)\n",
    "\n",
    "# 얼굴이 검출되었다면 얼굴 위치에 대한 좌표 정보를 리턴\n",
    "for (x,y,w,h) in faces:\n",
    "\n",
    "    # 원본 이미지에 얼굴의 위치를 표시\n",
    "    cv2.rectangle(img,(x,y),(x+w,y+h),(255,0,0),2)\n",
    "\n",
    "    # 눈 검출은 얼굴이 검출된 영역 내부에서만 진행하기 위해 ROI를 생성\n",
    "    roi_gray = gray[y:y+h, x:x+w]\n",
    "    roi_color = img[y:y+h, x:x+w]\n",
    "\n",
    "    # 눈을 검출\n",
    "    eyes = eye_cascade.detectMultiScale(roi_gray)\n",
    "\n",
    "    # 눈이 검출되었다면 눈 위치에 대한 좌표 정보를 리턴\n",
    "    for (ex,ey,ew,eh) in [eyes[0]]:\n",
    "\n",
    "        # 원본 이미지에 얼굴의 위치를 표시 ROI에 표시하면 원본 이미지에도 표시\n",
    "        cv2.rectangle(roi_color,(ex,ey),(ex+ew,ey+eh),(0,255,0),2)\n",
    "        # 눈 뗴어내기\n",
    "#         src = cv2.imread(\"images/figs/9.jpg\", cv2.IMREAD_COLOR)\n",
    "#         dst = src.copy() \n",
    "        dst = roi_color[ey:(ey+eh),ex:(ex+ew)]\n",
    "\n",
    "        cv2.imwrite('images/eyew_new/eyes_L.jpg',dst)\n",
    "        \n",
    "# 얼굴과 눈 검출 결과\n",
    "cv2.imshow('img',img)\n",
    "cv2.waitKey(0)\n",
    "cv2.destroyAllWindows()"
   ]
  },
  {
   "cell_type": "code",
   "execution_count": null,
   "metadata": {},
   "outputs": [],
   "source": []
  }
 ],
 "metadata": {
  "kernelspec": {
   "display_name": "Python 3",
   "language": "python",
   "name": "python3"
  },
  "language_info": {
   "codemirror_mode": {
    "name": "ipython",
    "version": 3
   },
   "file_extension": ".py",
   "mimetype": "text/x-python",
   "name": "python",
   "nbconvert_exporter": "python",
   "pygments_lexer": "ipython3",
   "version": "3.7.7"
  }
 },
 "nbformat": 4,
 "nbformat_minor": 4
}
