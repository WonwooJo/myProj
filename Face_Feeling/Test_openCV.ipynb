{
 "cells": [
  {
   "cell_type": "code",
   "execution_count": 1,
   "metadata": {},
   "outputs": [],
   "source": [
    "import cv2"
   ]
  },
  {
   "cell_type": "code",
   "execution_count": 2,
   "metadata": {},
   "outputs": [
    {
     "name": "stdout",
     "output_type": "stream",
     "text": [
      "4.4.0\n"
     ]
    }
   ],
   "source": [
    "print(cv2.__version__)"
   ]
  },
  {
   "cell_type": "code",
   "execution_count": 3,
   "metadata": {},
   "outputs": [],
   "source": [
    "# 오류\n",
    "# face_cascade = cv2.CascadeClassifier('haarcascade_frontalface_default.xml')\n",
    "# eye_cascade = cv2.CascadeClassifier('harrcascaede_eye.xml')"
   ]
  },
  {
   "cell_type": "code",
   "execution_count": 4,
   "metadata": {},
   "outputs": [],
   "source": [
    "face_cascade = cv2.CascadeClassifier('C:/Anaconda3/Lib/site-packages/cv2/data/haarcascade_frontalface_default.xml')\n",
    "eye_cascade = cv2.CascadeClassifier('C:/Anaconda3/Lib/site-packages/cv2/data/haarcascade_eye.xml')\n",
    "\n",
    "src = cv2.imread('su.jpg') # load img\n",
    "src_gray = cv2.cvtColor(src, cv2.COLOR_BGR2GRAY) # apply gray scale\n",
    "\n",
    "faces = face_cascade.detectMultiScale(src_gray,1.1,3)\n",
    "# detectMultiScale: 얼굴을 인식해 검출하는 부분\n",
    "# arguments: (img, scaleFactor, minNeighbors)\n",
    "# scaleFactor: 얼굴이나 눈 등 지정한 형태를 찾을 정밀도(defalut: 1.1)\n",
    "# minNeighbors: 얼굴 사이 최소 간격(defalut: 3)\n",
    "\n",
    "for x, y, w, h in faces:\n",
    "    cv2.rectangle(src, (x, y), (x + w, y + h), (255, 0, 0), 2)\n",
    "    face = src[y: y + h, x: x + w]\n",
    "    face_gray = src_gray[y: y + h, x: x + w]\n",
    "    eyes = eye_cascade.detectMultiScale(face_gray)\n",
    "    for (ex, ey, ew, eh) in eyes:\n",
    "        cv2.rectangle(face, (ex, ey), (ex + ew, ey + eh), (0, 255, 0), 2)"
   ]
  },
  {
   "cell_type": "code",
   "execution_count": 16,
   "metadata": {},
   "outputs": [],
   "source": [
    "import cv2 as cv\n",
    "# 얼굴과 눈을 검출하기 위해 미리 학습시켜 놓은 XML 포맷으로 저장된 분류기를 로드합니다. \n",
    "face_cascade = cv2.CascadeClassifier('C:/Anaconda3/Lib/site-packages/cv2/data/haarcascade_frontalface_default.xml')\n",
    "eye_cascade = cv2.CascadeClassifier('C:/Anaconda3/Lib/site-packages/cv2/data/haarcascade_eye.xml')\n",
    "\n",
    "# 얼굴과 눈을 검출할 그레이스케일 이미지를 준비해놓습니다. \n",
    "img = cv.imread('su.jpg')\n",
    "gray = cv.cvtColor(img, cv.COLOR_BGR2GRAY)\n",
    "\n",
    "# 이미지에서 얼굴을 검출합니다. \n",
    "faces = face_cascade.detectMultiScale(gray, 2, 5)\n",
    "\n",
    "# 얼굴이 검출되었다면 얼굴 위치에 대한 좌표 정보를 리턴받습니다. \n",
    "for (x,y,w,h) in faces:\n",
    "\n",
    "    # 원본 이미지에 얼굴의 위치를 표시합니다. \n",
    "    cv.rectangle(img,(x,y),(x+w,y+h),(255,0,0),2)\n",
    "\n",
    "    # 눈 검출은 얼굴이 검출된 영역 내부에서만 진행하기 위해 ROI를 생성합니다. \n",
    "    roi_gray = gray[y:y+h, x:x+w]\n",
    "    roi_color = img[y:y+h, x:x+w]\n",
    "\n",
    "    # 눈을 검출합니다. \n",
    "    eyes = eye_cascade.detectMultiScale(roi_gray)\n",
    "\n",
    "    # 눈이 검출되었다면 눈 위치에 대한 좌표 정보를 리턴받습니다. \n",
    "    for (ex,ey,ew,eh) in eyes:\n",
    "\n",
    "        # 원본 이미지에 얼굴의 위치를 표시합니다. ROI에 표시하면 원본 이미지에도 표시됩니다. \n",
    "        cv.rectangle(roi_color,(ex,ey),(ex+ew,ey+eh),(0,255,0),2)\n",
    "\n",
    "# 얼굴과 눈 검출 결과를 화면에 보여줍니다.\n",
    "cv.imshow('img',img)\n",
    "cv.waitKey(0)\n",
    "\n",
    "cv.destroyAllWindows()"
   ]
  },
  {
   "cell_type": "code",
   "execution_count": 6,
   "metadata": {},
   "outputs": [
    {
     "data": {
      "text/plain": [
       "array([[171,  82, 158, 158]], dtype=int32)"
      ]
     },
     "execution_count": 6,
     "metadata": {},
     "output_type": "execute_result"
    }
   ],
   "source": [
    "faces"
   ]
  },
  {
   "cell_type": "code",
   "execution_count": 17,
   "metadata": {},
   "outputs": [],
   "source": [
    "face_cascade = cv2.CascadeClassifier('C:/Anaconda3/Lib/site-packages/cv2/data/haarcascade_frontalface_default.xml')\n",
    "img = cv.imread('su.jpg')\n",
    "gray = cv.cvtColor(img, cv.COLOR_BGR2GRAY)\n",
    "faces = face_cascade.detectMultiScale(gray, 2, 5)\n",
    "\n",
    "for (x,y,w,h) in faces:\n",
    "    src = cv2.imread(\"su.jpg\", cv2.IMREAD_COLOR)\n",
    "    dst = src.copy() \n",
    "    dst = src[y:(y+h),x:(x+w)]\n",
    "    cv2.imshow(\"src\", src)\n",
    "    cv2.imshow(\"dst\", dst)\n",
    "    cv2.waitKey(0)\n",
    "    cv2.destroyAllWindows()"
   ]
  },
  {
   "cell_type": "code",
   "execution_count": 17,
   "metadata": {},
   "outputs": [],
   "source": []
  },
  {
   "cell_type": "code",
   "execution_count": 8,
   "metadata": {},
   "outputs": [
    {
     "data": {
      "text/plain": [
       "array([[171,  82, 158, 158]], dtype=int32)"
      ]
     },
     "execution_count": 8,
     "metadata": {},
     "output_type": "execute_result"
    }
   ],
   "source": []
  },
  {
   "cell_type": "code",
   "execution_count": 9,
   "metadata": {
    "scrolled": true
   },
   "outputs": [
    {
     "data": {
      "text/plain": [
       "array([[188, 187, 187, ..., 197, 197, 197],\n",
       "       [188, 188, 187, ..., 197, 197, 197],\n",
       "       [188, 188, 187, ..., 198, 198, 198],\n",
       "       ...,\n",
       "       [ 98, 109, 120, ...,  14,  15,  16],\n",
       "       [126, 146, 169, ...,  13,  14,  15],\n",
       "       [143, 165, 193, ...,  13,  14,  14]], dtype=uint8)"
      ]
     },
     "execution_count": 9,
     "metadata": {},
     "output_type": "execute_result"
    }
   ],
   "source": [
    "blur = cv2.GaussianBlur(gray,ksize=(3,3),sigmaX = 0)\n",
    "blur"
   ]
  },
  {
   "cell_type": "code",
   "execution_count": 8,
   "metadata": {},
   "outputs": [],
   "source": [
    "ret, thresh1 = cv2.threshold(blur,127,255,cv2.THRESH_BINARY)"
   ]
  },
  {
   "cell_type": "code",
   "execution_count": 14,
   "metadata": {
    "scrolled": true
   },
   "outputs": [
    {
     "name": "stdout",
     "output_type": "stream",
     "text": [
      "0 [ 1 -1 -1 -1]\n",
      "1 [ 2  0 -1 -1]\n",
      "2 [ 3  1 -1 -1]\n",
      "3 [ 4  2 -1 -1]\n",
      "4 [ 5  3 -1 -1]\n",
      "5 [ 6  4 -1 -1]\n",
      "6 [ 7  5 -1 -1]\n",
      "7 [ 8  6 -1 -1]\n",
      "8 [ 9  7 -1 -1]\n",
      "9 [10  8 -1 -1]\n",
      "10 [11  9 -1 -1]\n",
      "11 [12 10 -1 -1]\n",
      "12 [13 11 -1 -1]\n",
      "13 [14 12 -1 -1]\n",
      "14 [15 13 -1 -1]\n",
      "15 [16 14 -1 -1]\n",
      "16 [17 15 -1 -1]\n",
      "17 [18 16 -1 -1]\n",
      "18 [19 17 -1 -1]\n",
      "19 [20 18 -1 -1]\n",
      "20 [21 19 -1 -1]\n",
      "21 [22 20 -1 -1]\n",
      "22 [23 21 -1 -1]\n",
      "23 [24 22 -1 -1]\n",
      "24 [25 23 -1 -1]\n",
      "25 [26 24 -1 -1]\n",
      "26 [27 25 -1 -1]\n",
      "27 [28 26 -1 -1]\n",
      "28 [29 27 -1 -1]\n",
      "29 [30 28 -1 -1]\n",
      "30 [31 29 -1 -1]\n",
      "31 [32 30 -1 -1]\n",
      "32 [33 31 -1 -1]\n",
      "33 [34 32 -1 -1]\n",
      "34 [35 33 -1 -1]\n",
      "35 [36 34 -1 -1]\n",
      "36 [37 35 -1 -1]\n",
      "37 [38 36 -1 -1]\n",
      "38 [41 37 39 -1]\n",
      "39 [40 -1 -1 38]\n",
      "40 [-1 39 -1 38]\n",
      "41 [42 38 -1 -1]\n",
      "42 [43 41 -1 -1]\n",
      "43 [44 42 -1 -1]\n",
      "44 [45 43 -1 -1]\n",
      "45 [46 44 -1 -1]\n",
      "46 [47 45 -1 -1]\n",
      "47 [48 46 -1 -1]\n",
      "48 [54 47 49 -1]\n",
      "49 [50 -1 -1 48]\n",
      "50 [51 49 -1 48]\n",
      "51 [52 50 -1 48]\n",
      "52 [53 51 -1 48]\n",
      "53 [-1 52 -1 48]\n",
      "54 [55 48 -1 -1]\n",
      "55 [57 54 56 -1]\n",
      "56 [-1 -1 -1 55]\n",
      "57 [58 55 -1 -1]\n",
      "58 [59 57 -1 -1]\n",
      "59 [60 58 -1 -1]\n",
      "60 [61 59 -1 -1]\n",
      "61 [62 60 -1 -1]\n",
      "62 [63 61 -1 -1]\n",
      "63 [64 62 -1 -1]\n",
      "64 [65 63 -1 -1]\n",
      "65 [66 64 -1 -1]\n",
      "66 [67 65 -1 -1]\n",
      "67 [68 66 -1 -1]\n",
      "68 [69 67 -1 -1]\n",
      "69 [72 68 70 -1]\n",
      "70 [71 -1 -1 69]\n",
      "71 [-1 70 -1 69]\n",
      "72 [73 69 -1 -1]\n",
      "73 [74 72 -1 -1]\n",
      "74 [75 73 -1 -1]\n",
      "75 [76 74 -1 -1]\n",
      "76 [77 75 -1 -1]\n",
      "77 [78 76 -1 -1]\n",
      "78 [79 77 -1 -1]\n",
      "79 [80 78 -1 -1]\n",
      "80 [81 79 -1 -1]\n",
      "81 [82 80 -1 -1]\n",
      "82 [83 81 -1 -1]\n",
      "83 [84 82 -1 -1]\n",
      "84 [85 83 -1 -1]\n",
      "85 [86 84 -1 -1]\n",
      "86 [87 85 -1 -1]\n",
      "87 [88 86 -1 -1]\n",
      "88 [89 87 -1 -1]\n",
      "89 [90 88 -1 -1]\n",
      "90 [91 89 -1 -1]\n",
      "91 [92 90 -1 -1]\n",
      "92 [93 91 -1 -1]\n",
      "93 [94 92 -1 -1]\n",
      "94 [95 93 -1 -1]\n",
      "95 [98 94 96 -1]\n",
      "96 [97 -1 -1 95]\n",
      "97 [-1 96 -1 95]\n",
      "98 [99 95 -1 -1]\n",
      "99 [100  98  -1  -1]\n",
      "100 [101  99  -1  -1]\n",
      "101 [102 100  -1  -1]\n",
      "102 [103 101  -1  -1]\n"
     ]
    },
    {
     "ename": "KeyboardInterrupt",
     "evalue": "",
     "output_type": "error",
     "traceback": [
      "\u001b[1;31m---------------------------------------------------------------------------\u001b[0m",
      "\u001b[1;31mKeyboardInterrupt\u001b[0m                         Traceback (most recent call last)",
      "\u001b[1;32m<ipython-input-14-500049374385>\u001b[0m in \u001b[0;36m<module>\u001b[1;34m\u001b[0m\n\u001b[0;32m     12\u001b[0m     \u001b[0mprint\u001b[0m\u001b[1;33m(\u001b[0m\u001b[0mi\u001b[0m\u001b[1;33m,\u001b[0m \u001b[0mhierarchy\u001b[0m\u001b[1;33m[\u001b[0m\u001b[1;36m0\u001b[0m\u001b[1;33m]\u001b[0m\u001b[1;33m[\u001b[0m\u001b[0mi\u001b[0m\u001b[1;33m]\u001b[0m\u001b[1;33m)\u001b[0m\u001b[1;33m\u001b[0m\u001b[1;33m\u001b[0m\u001b[0m\n\u001b[0;32m     13\u001b[0m     \u001b[0mcv2\u001b[0m\u001b[1;33m.\u001b[0m\u001b[0mimshow\u001b[0m\u001b[1;33m(\u001b[0m\u001b[1;34m\"src\"\u001b[0m\u001b[1;33m,\u001b[0m \u001b[0msrc\u001b[0m\u001b[1;33m)\u001b[0m\u001b[1;33m\u001b[0m\u001b[1;33m\u001b[0m\u001b[0m\n\u001b[1;32m---> 14\u001b[1;33m     \u001b[0mcv2\u001b[0m\u001b[1;33m.\u001b[0m\u001b[0mwaitKey\u001b[0m\u001b[1;33m(\u001b[0m\u001b[1;36m0\u001b[0m\u001b[1;33m)\u001b[0m\u001b[1;33m\u001b[0m\u001b[1;33m\u001b[0m\u001b[0m\n\u001b[0m\u001b[0;32m     15\u001b[0m \u001b[1;33m\u001b[0m\u001b[0m\n\u001b[0;32m     16\u001b[0m \u001b[0mcv2\u001b[0m\u001b[1;33m.\u001b[0m\u001b[0mdestroyAllWindows\u001b[0m\u001b[1;33m(\u001b[0m\u001b[1;33m)\u001b[0m\u001b[1;33m\u001b[0m\u001b[1;33m\u001b[0m\u001b[0m\n",
      "\u001b[1;31mKeyboardInterrupt\u001b[0m: "
     ]
    }
   ],
   "source": [
    "src = cv2.imread(\"su.jpg\", cv2.IMREAD_COLOR)\n",
    "\n",
    "gray = cv2.cvtColor(src, cv2.COLOR_RGB2GRAY)\n",
    "ret, binary = cv2.threshold(gray, 127, 255, cv2.THRESH_BINARY)\n",
    "binary = cv2.bitwise_not(binary)\n",
    "\n",
    "contours, hierarchy = cv2.findContours(binary, cv2.RETR_CCOMP, cv2.CHAIN_APPROX_NONE)\n",
    "\n",
    "for i in range(len(contours)):\n",
    "    cv2.drawContours(src, [contours[i]], 0, (0, 0, 255), 2)\n",
    "    cv2.putText(src, str(i), tuple(contours[i][0][0]), cv2.FONT_HERSHEY_COMPLEX, 0.8, (0, 255, 0), 1)\n",
    "    print(i, hierarchy[0][i])\n",
    "    cv2.imshow(\"src\", src)\n",
    "    cv2.waitKey(0)\n",
    "\n",
    "cv2.destroyAllWindows()"
   ]
  },
  {
   "cell_type": "code",
   "execution_count": null,
   "metadata": {},
   "outputs": [],
   "source": []
  }
 ],
 "metadata": {
  "kernelspec": {
   "display_name": "Python 3",
   "language": "python",
   "name": "python3"
  },
  "language_info": {
   "codemirror_mode": {
    "name": "ipython",
    "version": 3
   },
   "file_extension": ".py",
   "mimetype": "text/x-python",
   "name": "python",
   "nbconvert_exporter": "python",
   "pygments_lexer": "ipython3",
   "version": "3.7.7"
  }
 },
 "nbformat": 4,
 "nbformat_minor": 4
}
