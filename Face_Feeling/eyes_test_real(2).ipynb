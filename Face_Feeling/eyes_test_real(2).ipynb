{
 "cells": [
  {
   "cell_type": "code",
   "execution_count": 7,
   "metadata": {
    "scrolled": true
   },
   "outputs": [],
   "source": [
    "import numpy as np\n",
    "import pandas as pd \n",
    "from keras.preprocessing.image import ImageDataGenerator, load_img, img_to_array\n",
    "from keras.utils import to_categorical\n",
    "from sklearn.model_selection import train_test_split\n",
    "import matplotlib.pyplot as plt\n",
    "import random\n",
    "import os\n",
    "from tensorflow.keras.models import load_model"
   ]
  },
  {
   "cell_type": "code",
   "execution_count": 8,
   "metadata": {},
   "outputs": [],
   "source": [
    "IMAGE_WIDTH=100\n",
    "IMAGE_HEIGHT=50\n",
    "IMAGE_SIZE=(IMAGE_WIDTH, IMAGE_HEIGHT)\n",
    "IMAGE_CHANNELS = 3 # color or gray\n",
    "batch_size= 20"
   ]
  },
  {
   "cell_type": "code",
   "execution_count": 9,
   "metadata": {},
   "outputs": [],
   "source": [
    "# IMAGE_WIDTH=80\n",
    "# IMAGE_HEIGHT=24\n",
    "# IMAGE_SIZE=(IMAGE_WIDTH, IMAGE_HEIGHT)\n",
    "# IMAGE_CHANNELS = 3 # color or gray\n",
    "# # batch_size= 10"
   ]
  },
  {
   "cell_type": "code",
   "execution_count": 11,
   "metadata": {},
   "outputs": [],
   "source": [
    "categories=[]\n",
    "train_dir=os.listdir(\"eyes_test_real/eyes_test_real_train\")\n",
    "for filename in train_dir:\n",
    "    category=filename.split(' ')[0]\n",
    "    if category == 'bonghwang':\n",
    "        categories.append('bonghwang')\n",
    "    if category == 'dohwa':\n",
    "        categories.append('dohwa')\n",
    "    if category == 'gongjak':\n",
    "        categories.append('gongjak')\n",
    "    if category == 'horang':\n",
    "        categories.append('horang')\n",
    "    if category == 'so':\n",
    "        categories.append('so')\n",
    "    if category == 'yong':\n",
    "        categories.append('yong')"
   ]
  },
  {
   "cell_type": "code",
   "execution_count": 12,
   "metadata": {},
   "outputs": [
    {
     "data": {
      "text/html": [
       "<div>\n",
       "<style scoped>\n",
       "    .dataframe tbody tr th:only-of-type {\n",
       "        vertical-align: middle;\n",
       "    }\n",
       "\n",
       "    .dataframe tbody tr th {\n",
       "        vertical-align: top;\n",
       "    }\n",
       "\n",
       "    .dataframe thead th {\n",
       "        text-align: right;\n",
       "    }\n",
       "</style>\n",
       "<table border=\"1\" class=\"dataframe\">\n",
       "  <thead>\n",
       "    <tr style=\"text-align: right;\">\n",
       "      <th></th>\n",
       "      <th>filename</th>\n",
       "      <th>category</th>\n",
       "    </tr>\n",
       "  </thead>\n",
       "  <tbody>\n",
       "    <tr>\n",
       "      <th>0</th>\n",
       "      <td>bonghwang (1).jpg</td>\n",
       "      <td>bonghwang</td>\n",
       "    </tr>\n",
       "    <tr>\n",
       "      <th>1</th>\n",
       "      <td>bonghwang (10).jpg</td>\n",
       "      <td>bonghwang</td>\n",
       "    </tr>\n",
       "    <tr>\n",
       "      <th>2</th>\n",
       "      <td>bonghwang (100).jpg</td>\n",
       "      <td>bonghwang</td>\n",
       "    </tr>\n",
       "    <tr>\n",
       "      <th>3</th>\n",
       "      <td>bonghwang (1000).jpg</td>\n",
       "      <td>bonghwang</td>\n",
       "    </tr>\n",
       "    <tr>\n",
       "      <th>4</th>\n",
       "      <td>bonghwang (1001).jpg</td>\n",
       "      <td>bonghwang</td>\n",
       "    </tr>\n",
       "    <tr>\n",
       "      <th>...</th>\n",
       "      <td>...</td>\n",
       "      <td>...</td>\n",
       "    </tr>\n",
       "    <tr>\n",
       "      <th>20223</th>\n",
       "      <td>horang (995).jpg</td>\n",
       "      <td>horang</td>\n",
       "    </tr>\n",
       "    <tr>\n",
       "      <th>20224</th>\n",
       "      <td>horang (996).jpg</td>\n",
       "      <td>horang</td>\n",
       "    </tr>\n",
       "    <tr>\n",
       "      <th>20225</th>\n",
       "      <td>horang (997).jpg</td>\n",
       "      <td>horang</td>\n",
       "    </tr>\n",
       "    <tr>\n",
       "      <th>20226</th>\n",
       "      <td>horang (998).jpg</td>\n",
       "      <td>horang</td>\n",
       "    </tr>\n",
       "    <tr>\n",
       "      <th>20227</th>\n",
       "      <td>horang (999).jpg</td>\n",
       "      <td>horang</td>\n",
       "    </tr>\n",
       "  </tbody>\n",
       "</table>\n",
       "<p>20228 rows × 2 columns</p>\n",
       "</div>"
      ],
      "text/plain": [
       "                   filename   category\n",
       "0         bonghwang (1).jpg  bonghwang\n",
       "1        bonghwang (10).jpg  bonghwang\n",
       "2       bonghwang (100).jpg  bonghwang\n",
       "3      bonghwang (1000).jpg  bonghwang\n",
       "4      bonghwang (1001).jpg  bonghwang\n",
       "...                     ...        ...\n",
       "20223      horang (995).jpg     horang\n",
       "20224      horang (996).jpg     horang\n",
       "20225      horang (997).jpg     horang\n",
       "20226      horang (998).jpg     horang\n",
       "20227      horang (999).jpg     horang\n",
       "\n",
       "[20228 rows x 2 columns]"
      ]
     },
     "execution_count": 12,
     "metadata": {},
     "output_type": "execute_result"
    }
   ],
   "source": [
    "df=pd.DataFrame({'filename':train_dir,'category':categories})\n",
    "df"
   ]
  },
  {
   "cell_type": "code",
   "execution_count": 13,
   "metadata": {},
   "outputs": [],
   "source": [
    "train_df, validate_df = train_test_split(df, test_size=0.20, random_state=777)\n",
    "train_df = train_df.reset_index(drop=True)\n",
    "validate_df = validate_df.reset_index(drop=True)"
   ]
  },
  {
   "cell_type": "code",
   "execution_count": 14,
   "metadata": {},
   "outputs": [],
   "source": [
    "train_df = train_df.reset_index(drop=True)\n",
    "validate_df = validate_df.reset_index(drop=True)"
   ]
  },
  {
   "cell_type": "code",
   "execution_count": 15,
   "metadata": {},
   "outputs": [
    {
     "data": {
      "text/plain": [
       "<matplotlib.axes._subplots.AxesSubplot at 0x2b0309e2b08>"
      ]
     },
     "execution_count": 15,
     "metadata": {},
     "output_type": "execute_result"
    },
    {
     "data": {
      "image/png": "[encoded data removed]",
      "text/plain": [
       "<Figure size 432x288 with 1 Axes>"
      ]
     },
     "metadata": {
      "needs_background": "light"
     },
     "output_type": "display_data"
    }
   ],
   "source": [
    "train_df['category'].value_counts().plot.bar()"
   ]
  },
  {
   "cell_type": "code",
   "execution_count": 16,
   "metadata": {},
   "outputs": [
    {
     "data": {
      "text/plain": [
       "<matplotlib.axes._subplots.AxesSubplot at 0x2b030acca08>"
      ]
     },
     "execution_count": 16,
     "metadata": {},
     "output_type": "execute_result"
    },
    {
     "data": {
      "image/png": "[encoded data removed]",
      "text/plain": [
       "<Figure size 432x288 with 1 Axes>"
      ]
     },
     "metadata": {
      "needs_background": "light"
     },
     "output_type": "display_data"
    }
   ],
   "source": [
    "validate_df['category'].value_counts().plot.bar()"
   ]
  },
  {
   "cell_type": "code",
   "execution_count": 17,
   "metadata": {},
   "outputs": [],
   "source": [
    "total_train = train_df.shape[0]\n",
    "total_validate = validate_df.shape[0]\n"
   ]
  },
  {
   "cell_type": "code",
   "execution_count": 18,
   "metadata": {},
   "outputs": [],
   "source": [
    "train_datagen = ImageDataGenerator(rescale=1./255)"
   ]
  },
  {
   "cell_type": "code",
   "execution_count": 19,
   "metadata": {},
   "outputs": [
    {
     "name": "stdout",
     "output_type": "stream",
     "text": [
      "Found 16182 validated image filenames belonging to 4 classes.\n"
     ]
    }
   ],
   "source": [
    "train_generator=train_datagen.flow_from_dataframe(train_df,\n",
    "                                 'eyes_test_real/eyes_test_real_train',\n",
    "                                 x_col='filename',\n",
    "                                 y_col='category',\n",
    "                                  target_size=IMAGE_SIZE,\n",
    "                                  class_mode='categorical',\n",
    "                                  batch_size=batch_size\n",
    "                                 )"
   ]
  },
  {
   "cell_type": "code",
   "execution_count": 20,
   "metadata": {},
   "outputs": [
    {
     "name": "stdout",
     "output_type": "stream",
     "text": [
      "Found 4046 validated image filenames belonging to 4 classes.\n"
     ]
    }
   ],
   "source": [
    "validation_datagen = ImageDataGenerator(rescale=1./255)\n",
    "\n",
    "validation_generator = validation_datagen.flow_from_dataframe(validate_df,\n",
    "                                                              \"eyes_test_real/eyes_test_real_train\",\n",
    "                                                              x_col='filename',\n",
    "                                                              y_col='category',\n",
    "                                                              target_size=IMAGE_SIZE,\n",
    "                                                              class_mode='categorical',\n",
    "                                                              batch_size=batch_size)"
   ]
  },
  {
   "cell_type": "code",
   "execution_count": 21,
   "metadata": {},
   "outputs": [],
   "source": [
    "from keras.models import Sequential\n",
    "from keras.layers import *"
   ]
  },
  {
   "cell_type": "code",
   "execution_count": 22,
   "metadata": {
    "scrolled": true
   },
   "outputs": [
    {
     "name": "stdout",
     "output_type": "stream",
     "text": [
      "Model: \"sequential\"\n",
      "_________________________________________________________________\n",
      "Layer (type)                 Output Shape              Param #   \n",
      "=================================================================\n",
      "conv2d (Conv2D)              (None, 98, 48, 32)        896       \n",
      "_________________________________________________________________\n",
      "batch_normalization (BatchNo (None, 98, 48, 32)        128       \n",
      "_________________________________________________________________\n",
      "max_pooling2d (MaxPooling2D) (None, 49, 24, 32)        0         \n",
      "_________________________________________________________________\n",
      "dropout (Dropout)            (None, 49, 24, 32)        0         \n",
      "_________________________________________________________________\n",
      "conv2d_1 (Conv2D)            (None, 47, 22, 64)        18496     \n",
      "_________________________________________________________________\n",
      "batch_normalization_1 (Batch (None, 47, 22, 64)        256       \n",
      "_________________________________________________________________\n",
      "max_pooling2d_1 (MaxPooling2 (None, 23, 11, 64)        0         \n",
      "_________________________________________________________________\n",
      "dropout_1 (Dropout)          (None, 23, 11, 64)        0         \n",
      "_________________________________________________________________\n",
      "conv2d_2 (Conv2D)            (None, 21, 9, 128)        73856     \n",
      "_________________________________________________________________\n",
      "batch_normalization_2 (Batch (None, 21, 9, 128)        512       \n",
      "_________________________________________________________________\n",
      "max_pooling2d_2 (MaxPooling2 (None, 10, 4, 128)        0         \n",
      "_________________________________________________________________\n",
      "dropout_2 (Dropout)          (None, 10, 4, 128)        0         \n",
      "_________________________________________________________________\n",
      "flatten (Flatten)            (None, 5120)              0         \n",
      "_________________________________________________________________\n",
      "dense (Dense)                (None, 512)               2621952   \n",
      "_________________________________________________________________\n",
      "batch_normalization_3 (Batch (None, 512)               2048      \n",
      "_________________________________________________________________\n",
      "dropout_3 (Dropout)          (None, 512)               0         \n",
      "_________________________________________________________________\n",
      "dense_1 (Dense)              (None, 4)                 2052      \n",
      "=================================================================\n",
      "Total params: 2,720,196\n",
      "Trainable params: 2,718,724\n",
      "Non-trainable params: 1,472\n",
      "_________________________________________________________________\n"
     ]
    }
   ],
   "source": [
    "model = Sequential()\n",
    "model.add(Conv2D(32, (3, 3), activation='relu', input_shape=(IMAGE_WIDTH, IMAGE_HEIGHT, IMAGE_CHANNELS)))\n",
    "model.add(BatchNormalization())\n",
    "model.add(MaxPooling2D(pool_size=(2, 2)))\n",
    "model.add(Dropout(0.25))\n",
    "model.add(Conv2D(64, (3, 3), activation='relu'))\n",
    "model.add(BatchNormalization())\n",
    "model.add(MaxPooling2D(pool_size=(2, 2)))\n",
    "model.add(Dropout(0.25))\n",
    "model.add(Conv2D(128, (3, 3), activation='relu'))\n",
    "model.add(BatchNormalization())\n",
    "model.add(MaxPooling2D(pool_size=(2, 2)))\n",
    "model.add(Dropout(0.25))\n",
    "model.add(Flatten())\n",
    "model.add(Dense(512, activation='relu'))\n",
    "model.add(BatchNormalization())\n",
    "model.add(Dropout(0.5))\n",
    "model.add(Dense(4, activation='softmax')) \n",
    "model.compile(loss='categorical_crossentropy', optimizer='adam', metrics=['acc'])\n",
    "model.summary()"
   ]
  },
  {
   "cell_type": "code",
   "execution_count": 23,
   "metadata": {},
   "outputs": [],
   "source": [
    "from keras.callbacks import EarlyStopping, ReduceLROnPlateau"
   ]
  },
  {
   "cell_type": "code",
   "execution_count": 24,
   "metadata": {},
   "outputs": [],
   "source": [
    "earlystop = EarlyStopping(patience=5),\n",
    "learning_rate_reduction = ReduceLROnPlateau(monitor='val_acc',\n",
    "                                           patience=2,\n",
    "                                           verbose=1,\n",
    "                                            factor=0.5,\n",
    "                                            min_lr=0.00001)"
   ]
  },
  {
   "cell_type": "code",
   "execution_count": 25,
   "metadata": {
    "scrolled": true
   },
   "outputs": [
    {
     "name": "stdout",
     "output_type": "stream",
     "text": [
      "WARNING:tensorflow:From <ipython-input-25-6264a3338fa2>:6: Model.fit_generator (from tensorflow.python.keras.engine.training) is deprecated and will be removed in a future version.\n",
      "Instructions for updating:\n",
      "Please use Model.fit, which supports generators.\n",
      "Epoch 1/40\n",
      "809/809 [==============================] - 93s 115ms/step - loss: 0.7951 - acc: 0.7075 - val_loss: 0.6706 - val_acc: 0.7817\n",
      "Epoch 2/40\n",
      "809/809 [==============================] - 91s 113ms/step - loss: 0.3870 - acc: 0.8556 - val_loss: 0.3090 - val_acc: 0.8948\n",
      "Epoch 3/40\n",
      "809/809 [==============================] - 91s 113ms/step - loss: 0.2435 - acc: 0.9103 - val_loss: 0.2207 - val_acc: 0.9149\n",
      "Epoch 4/40\n",
      "809/809 [==============================] - 92s 113ms/step - loss: 0.2095 - acc: 0.9243 - val_loss: 0.2371 - val_acc: 0.9134\n",
      "Epoch 5/40\n",
      "809/809 [==============================] - 92s 113ms/step - loss: 0.1573 - acc: 0.9445 - val_loss: 0.1426 - val_acc: 0.9455\n",
      "Epoch 6/40\n",
      "809/809 [==============================] - 92s 113ms/step - loss: 0.1605 - acc: 0.9421 - val_loss: 0.4469 - val_acc: 0.8626\n",
      "Epoch 7/40\n",
      "809/809 [==============================] - 92s 113ms/step - loss: 0.1186 - acc: 0.9581 - val_loss: 0.1088 - val_acc: 0.9639\n",
      "Epoch 8/40\n",
      "809/809 [==============================] - 92s 113ms/step - loss: 0.1128 - acc: 0.9601 - val_loss: 0.5295 - val_acc: 0.8153\n",
      "Epoch 9/40\n",
      "809/809 [==============================] - ETA: 0s - loss: 0.1083 - acc: 0.9621\n",
      "Epoch 00009: ReduceLROnPlateau reducing learning rate to 0.0005000000237487257.\n",
      "809/809 [==============================] - 92s 114ms/step - loss: 0.1083 - acc: 0.9621 - val_loss: 0.1889 - val_acc: 0.9396\n",
      "Epoch 10/40\n",
      "809/809 [==============================] - 95s 117ms/step - loss: 0.0564 - acc: 0.9811 - val_loss: 0.0291 - val_acc: 0.9896\n",
      "Epoch 11/40\n",
      "809/809 [==============================] - 93s 115ms/step - loss: 0.0457 - acc: 0.9840 - val_loss: 0.0590 - val_acc: 0.9921\n",
      "Epoch 12/40\n",
      "809/809 [==============================] - 92s 113ms/step - loss: 0.0559 - acc: 0.9796 - val_loss: 0.0070 - val_acc: 0.9983\n",
      "Epoch 13/40\n",
      "809/809 [==============================] - 92s 113ms/step - loss: 0.0369 - acc: 0.9874 - val_loss: 0.0058 - val_acc: 0.9988\n",
      "Epoch 14/40\n",
      "809/809 [==============================] - 92s 113ms/step - loss: 0.0376 - acc: 0.9868 - val_loss: 0.0186 - val_acc: 0.9936\n",
      "Epoch 15/40\n",
      "809/809 [==============================] - 92s 114ms/step - loss: 0.0291 - acc: 0.9895 - val_loss: 0.0024 - val_acc: 0.9995\n",
      "Epoch 16/40\n",
      "809/809 [==============================] - 92s 114ms/step - loss: 0.0360 - acc: 0.9882 - val_loss: 0.0073 - val_acc: 0.9985\n",
      "Epoch 17/40\n",
      "809/809 [==============================] - ETA: 0s - loss: 0.0604 - acc: 0.9811\n",
      "Epoch 00017: ReduceLROnPlateau reducing learning rate to 0.0002500000118743628.\n",
      "809/809 [==============================] - 92s 113ms/step - loss: 0.0604 - acc: 0.9811 - val_loss: 0.0132 - val_acc: 0.9955\n",
      "Epoch 18/40\n",
      "809/809 [==============================] - 92s 114ms/step - loss: 0.0405 - acc: 0.9860 - val_loss: 0.0019 - val_acc: 0.9993\n",
      "Epoch 19/40\n",
      "809/809 [==============================] - 92s 114ms/step - loss: 0.0339 - acc: 0.9883 - val_loss: 0.0013 - val_acc: 0.9998\n",
      "Epoch 20/40\n",
      "809/809 [==============================] - 96s 119ms/step - loss: 0.0239 - acc: 0.9918 - val_loss: 3.8784e-04 - val_acc: 1.0000\n",
      "Epoch 21/40\n",
      "809/809 [==============================] - 92s 114ms/step - loss: 0.0200 - acc: 0.9933 - val_loss: 1.8395e-04 - val_acc: 1.0000\n",
      "Epoch 22/40\n",
      "809/809 [==============================] - ETA: 0s - loss: 0.0178 - acc: 0.9939\n",
      "Epoch 00022: ReduceLROnPlateau reducing learning rate to 0.0001250000059371814.\n",
      "809/809 [==============================] - 92s 114ms/step - loss: 0.0178 - acc: 0.9939 - val_loss: 0.0046 - val_acc: 0.9998\n",
      "Epoch 23/40\n",
      "809/809 [==============================] - 92s 114ms/step - loss: 0.0144 - acc: 0.9951 - val_loss: 4.7514e-04 - val_acc: 1.0000\n",
      "Epoch 24/40\n",
      "809/809 [==============================] - ETA: 0s - loss: 0.0149 - acc: 0.9946\n",
      "Epoch 00024: ReduceLROnPlateau reducing learning rate to 6.25000029685907e-05.\n",
      "809/809 [==============================] - 92s 113ms/step - loss: 0.0149 - acc: 0.9946 - val_loss: 1.4375e-04 - val_acc: 1.0000\n",
      "Epoch 25/40\n",
      "809/809 [==============================] - 92s 114ms/step - loss: 0.0124 - acc: 0.9954 - val_loss: 7.5435e-05 - val_acc: 1.0000\n",
      "Epoch 26/40\n",
      "809/809 [==============================] - ETA: 0s - loss: 0.0133 - acc: 0.9957\n",
      "Epoch 00026: ReduceLROnPlateau reducing learning rate to 3.125000148429535e-05.\n",
      "809/809 [==============================] - 92s 114ms/step - loss: 0.0133 - acc: 0.9957 - val_loss: 8.8570e-05 - val_acc: 1.0000\n",
      "Epoch 27/40\n",
      "809/809 [==============================] - 92s 114ms/step - loss: 0.0108 - acc: 0.9970 - val_loss: 6.3417e-05 - val_acc: 1.0000\n",
      "Epoch 28/40\n",
      "809/809 [==============================] - ETA: 0s - loss: 0.0115 - acc: 0.9960\n",
      "Epoch 00028: ReduceLROnPlateau reducing learning rate to 1.5625000742147677e-05.\n",
      "809/809 [==============================] - 92s 114ms/step - loss: 0.0115 - acc: 0.9960 - val_loss: 8.0811e-05 - val_acc: 1.0000\n",
      "Epoch 29/40\n",
      "809/809 [==============================] - 92s 114ms/step - loss: 0.0095 - acc: 0.9967 - val_loss: 8.0604e-05 - val_acc: 1.0000\n",
      "Epoch 30/40\n",
      "809/809 [==============================] - ETA: 0s - loss: 0.0112 - acc: 0.9960\n",
      "Epoch 00030: ReduceLROnPlateau reducing learning rate to 1e-05.\n",
      "809/809 [==============================] - 92s 114ms/step - loss: 0.0112 - acc: 0.9960 - val_loss: 6.8541e-05 - val_acc: 1.0000\n",
      "Epoch 31/40\n",
      "809/809 [==============================] - 95s 118ms/step - loss: 0.0131 - acc: 0.9959 - val_loss: 7.3345e-05 - val_acc: 1.0000\n",
      "Epoch 32/40\n",
      "809/809 [==============================] - 92s 114ms/step - loss: 0.0099 - acc: 0.9968 - val_loss: 5.6348e-05 - val_acc: 1.0000\n",
      "Epoch 33/40\n",
      "809/809 [==============================] - 91s 112ms/step - loss: 0.0101 - acc: 0.9965 - val_loss: 6.0566e-05 - val_acc: 1.0000\n",
      "Epoch 34/40\n",
      "809/809 [==============================] - 91s 112ms/step - loss: 0.0098 - acc: 0.9968 - val_loss: 5.8218e-05 - val_acc: 1.0000\n",
      "Epoch 35/40\n",
      "809/809 [==============================] - 91s 113ms/step - loss: 0.0095 - acc: 0.9973 - val_loss: 5.3392e-05 - val_acc: 1.0000\n",
      "Epoch 36/40\n",
      "809/809 [==============================] - 92s 114ms/step - loss: 0.0105 - acc: 0.9968 - val_loss: 5.8571e-05 - val_acc: 1.0000\n",
      "Epoch 37/40\n",
      "809/809 [==============================] - 92s 114ms/step - loss: 0.0087 - acc: 0.9968 - val_loss: 5.4443e-05 - val_acc: 1.0000\n",
      "Epoch 38/40\n",
      "809/809 [==============================] - 91s 112ms/step - loss: 0.0076 - acc: 0.9975 - val_loss: 4.9195e-05 - val_acc: 1.0000\n",
      "Epoch 39/40\n",
      "809/809 [==============================] - 93s 114ms/step - loss: 0.0103 - acc: 0.9963 - val_loss: 6.2455e-05 - val_acc: 1.0000\n",
      "Epoch 40/40\n",
      "809/809 [==============================] - 91s 113ms/step - loss: 0.0086 - acc: 0.9973 - val_loss: 4.8830e-05 - val_acc: 1.0000\n"
     ]
    }
   ],
   "source": [
    "history = model.fit_generator(train_generator,\n",
    "                              epochs=40,\n",
    "                              validation_data=validation_generator,\n",
    "                              validation_steps=total_validate//batch_size,\n",
    "                              steps_per_epoch=total_train//batch_size,\n",
    "                              callbacks=[earlystop,learning_rate_reduction])"
   ]
  },
  {
   "cell_type": "code",
   "execution_count": 26,
   "metadata": {},
   "outputs": [
    {
     "data": {
      "image/png": "[encoded data removed]",
      "text/plain": [
       "<Figure size 432x288 with 1 Axes>"
      ]
     },
     "metadata": {
      "needs_background": "light"
     },
     "output_type": "display_data"
    }
   ],
   "source": [
    "plt.plot(history.history['acc'])\n",
    "plt.plot(history.history['val_acc'])\n",
    "plt.legend(['training', 'validation'], loc = 'upper left')\n",
    "plt.show()"
   ]
  },
  {
   "cell_type": "code",
   "execution_count": 27,
   "metadata": {
    "scrolled": true
   },
   "outputs": [
    {
     "name": "stdout",
     "output_type": "stream",
     "text": [
      "810/810 [==============================] - 18s 22ms/step - loss: 1.7121e-05 - acc: 1.0000\n"
     ]
    },
    {
     "data": {
      "text/plain": [
       "[1.7121428754762746e-05, 1.0]"
      ]
     },
     "execution_count": 27,
     "metadata": {},
     "output_type": "execute_result"
    }
   ],
   "source": [
    "model.evaluate(train_generator)"
   ]
  },
  {
   "cell_type": "code",
   "execution_count": 28,
   "metadata": {},
   "outputs": [],
   "source": [
    "model.save(\"model_eyes_test_real(2).h5\")"
   ]
  },
  {
   "cell_type": "code",
   "execution_count": 50,
   "metadata": {
    "scrolled": true
   },
   "outputs": [],
   "source": [
    "loaded_model = load_model('model_eyes_test_real(2).h5')"
   ]
  },
  {
   "cell_type": "markdown",
   "metadata": {},
   "source": [
    "### pretrained model을 통한 예측"
   ]
  },
  {
   "cell_type": "code",
   "execution_count": 81,
   "metadata": {},
   "outputs": [],
   "source": [
    "categories=[]\n",
    "train_dir=os.listdir(\"eyes_test_real\\eyes_test_real_test\")\n",
    "for filename in train_dir:\n",
    "    category=filename.split(' ')[0]\n",
    "    if category == 'bonghwang':\n",
    "        categories.append('bonghwang')\n",
    "    if category == 'dohwa':\n",
    "        categories.append('dohwa')\n",
    "    if category == 'gongjak':\n",
    "        categories.append('gongjak')\n",
    "    if category == 'horang':\n",
    "        categories.append('horang')\n",
    "    if category == 'so':\n",
    "        categories.append('so')\n",
    "    if category == 'yong':\n",
    "        categories.append('yong')"
   ]
  },
  {
   "cell_type": "code",
   "execution_count": 82,
   "metadata": {
    "scrolled": true
   },
   "outputs": [
    {
     "data": {
      "text/plain": [
       "['dohwa', 'dohwa', 'dohwa', 'dohwa', 'dohwa', 'dohwa', 'dohwa']"
      ]
     },
     "execution_count": 82,
     "metadata": {},
     "output_type": "execute_result"
    }
   ],
   "source": [
    "categories"
   ]
  },
  {
   "cell_type": "code",
   "execution_count": 83,
   "metadata": {},
   "outputs": [
    {
     "data": {
      "text/html": [
       "<div>\n",
       "<style scoped>\n",
       "    .dataframe tbody tr th:only-of-type {\n",
       "        vertical-align: middle;\n",
       "    }\n",
       "\n",
       "    .dataframe tbody tr th {\n",
       "        vertical-align: top;\n",
       "    }\n",
       "\n",
       "    .dataframe thead th {\n",
       "        text-align: right;\n",
       "    }\n",
       "</style>\n",
       "<table border=\"1\" class=\"dataframe\">\n",
       "  <thead>\n",
       "    <tr style=\"text-align: right;\">\n",
       "      <th></th>\n",
       "      <th>filename</th>\n",
       "      <th>category</th>\n",
       "    </tr>\n",
       "  </thead>\n",
       "  <tbody>\n",
       "    <tr>\n",
       "      <th>0</th>\n",
       "      <td>dohwa (1).jpg</td>\n",
       "      <td>dohwa</td>\n",
       "    </tr>\n",
       "    <tr>\n",
       "      <th>1</th>\n",
       "      <td>dohwa (2).jpg</td>\n",
       "      <td>dohwa</td>\n",
       "    </tr>\n",
       "    <tr>\n",
       "      <th>2</th>\n",
       "      <td>dohwa (3).jpg</td>\n",
       "      <td>dohwa</td>\n",
       "    </tr>\n",
       "    <tr>\n",
       "      <th>3</th>\n",
       "      <td>dohwa (4).jpg</td>\n",
       "      <td>dohwa</td>\n",
       "    </tr>\n",
       "    <tr>\n",
       "      <th>4</th>\n",
       "      <td>dohwa (5).jpg</td>\n",
       "      <td>dohwa</td>\n",
       "    </tr>\n",
       "    <tr>\n",
       "      <th>5</th>\n",
       "      <td>dohwa (6).jpg</td>\n",
       "      <td>dohwa</td>\n",
       "    </tr>\n",
       "    <tr>\n",
       "      <th>6</th>\n",
       "      <td>dohwa (7).jpg</td>\n",
       "      <td>dohwa</td>\n",
       "    </tr>\n",
       "  </tbody>\n",
       "</table>\n",
       "</div>"
      ],
      "text/plain": [
       "        filename category\n",
       "0  dohwa (1).jpg    dohwa\n",
       "1  dohwa (2).jpg    dohwa\n",
       "2  dohwa (3).jpg    dohwa\n",
       "3  dohwa (4).jpg    dohwa\n",
       "4  dohwa (5).jpg    dohwa\n",
       "5  dohwa (6).jpg    dohwa\n",
       "6  dohwa (7).jpg    dohwa"
      ]
     },
     "execution_count": 83,
     "metadata": {},
     "output_type": "execute_result"
    }
   ],
   "source": [
    "df=pd.DataFrame({'filename':train_dir,'category':categories})\n",
    "df"
   ]
  },
  {
   "cell_type": "code",
   "execution_count": 84,
   "metadata": {},
   "outputs": [
    {
     "name": "stdout",
     "output_type": "stream",
     "text": [
      "Found 7 validated image filenames belonging to 1 classes.\n"
     ]
    }
   ],
   "source": [
    "validation_datagen = ImageDataGenerator(rescale=1./255)\n",
    "\n",
    "validation_generator = validation_datagen.flow_from_dataframe(df,\n",
    "                                 'eyes_test_real/eyes_test_real_test/',\n",
    "                                 x_col='filename',\n",
    "                                 y_col='category',\n",
    "                                  target_size=IMAGE_SIZE,\n",
    "                                  class_mode='categorical',\n",
    "                                  batch_size=batch_size)"
   ]
  },
  {
   "cell_type": "code",
   "execution_count": 85,
   "metadata": {},
   "outputs": [
    {
     "name": "stdout",
     "output_type": "stream",
     "text": [
      "{'dohwa': 0}\n",
      "[[0.001 0.999 0.000 0.000]\n",
      " [0.000 1.000 0.000 0.000]\n",
      " [0.990 0.010 0.000 0.000]\n",
      " [0.000 0.346 0.654 0.000]\n",
      " [0.002 0.996 0.002 0.000]\n",
      " [0.005 0.995 0.000 0.000]\n",
      " [0.000 0.985 0.015 0.000]]\n"
     ]
    }
   ],
   "source": [
    "output = loaded_model.predict_generator(validation_generator,steps = 1)\n",
    "np.set_printoptions(formatter={'float': lambda x: \"{0:0.3f}\".format(x)})\n",
    "print(validation_generator.class_indices)\n",
    "print(output)"
   ]
  },
  {
   "cell_type": "code",
   "execution_count": 86,
   "metadata": {},
   "outputs": [
    {
     "name": "stdout",
     "output_type": "stream",
     "text": [
      "7\n"
     ]
    }
   ],
   "source": [
    "test=[]\n",
    "print(len(output))\n",
    "for i in output:\n",
    "    test.append(i.argmax())"
   ]
  },
  {
   "cell_type": "code",
   "execution_count": 87,
   "metadata": {},
   "outputs": [
    {
     "data": {
      "text/plain": [
       "[1, 1, 0, 2, 1, 1, 1]"
      ]
     },
     "execution_count": 87,
     "metadata": {},
     "output_type": "execute_result"
    }
   ],
   "source": [
    "test"
   ]
  },
  {
   "cell_type": "code",
   "execution_count": 88,
   "metadata": {},
   "outputs": [],
   "source": [
    "dap = [0,0,0,0,0,0,0,0,0,0,0,0,0]"
   ]
  },
  {
   "cell_type": "code",
   "execution_count": 89,
   "metadata": {},
   "outputs": [],
   "source": [
    "acc = []\n",
    "for i in range(len(test)):\n",
    "    if test[i] == dap[i]:\n",
    "        acc.append(1)\n",
    "    else:\n",
    "        acc.append(0)"
   ]
  },
  {
   "cell_type": "code",
   "execution_count": 90,
   "metadata": {},
   "outputs": [
    {
     "data": {
      "text/plain": [
       "[0, 0, 1, 0, 0, 0, 0]"
      ]
     },
     "execution_count": 90,
     "metadata": {},
     "output_type": "execute_result"
    }
   ],
   "source": [
    "acc"
   ]
  },
  {
   "cell_type": "code",
   "execution_count": 91,
   "metadata": {},
   "outputs": [
    {
     "data": {
      "text/plain": [
       "0.14285714285714285"
      ]
     },
     "execution_count": 91,
     "metadata": {},
     "output_type": "execute_result"
    }
   ],
   "source": [
    "np.average(acc)"
   ]
  },
  {
   "cell_type": "code",
   "execution_count": null,
   "metadata": {},
   "outputs": [],
   "source": []
  }
 ],
 "metadata": {
  "kernelspec": {
   "display_name": "Python 3",
   "language": "python",
   "name": "python3"
  },
  "language_info": {
   "codemirror_mode": {
    "name": "ipython",
    "version": 3
   },
   "file_extension": ".py",
   "mimetype": "text/x-python",
   "name": "python",
   "nbconvert_exporter": "python",
   "pygments_lexer": "ipython3",
   "version": "3.7.7"
  }
 },
 "nbformat": 4,
 "nbformat_minor": 4
}
