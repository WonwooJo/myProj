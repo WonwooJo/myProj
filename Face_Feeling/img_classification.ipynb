{
 "cells": [
  {
   "cell_type": "code",
   "execution_count": 15,
   "metadata": {},
   "outputs": [],
   "source": [
    "from keras.preprocessing.image import load_img, img_to_array, ImageDataGenerator\n",
    "import cv2\n",
    "import numpy\n",
    "from keras.models import Sequential\n",
    "from keras.layers import Dense\n",
    "from keras.layers import Flatten\n",
    "from keras.layers.convolutional import Conv2D\n",
    "from keras.layers.convolutional import MaxPooling2D\n",
    "from keras.utils import np_utils"
   ]
  },
  {
   "cell_type": "code",
   "execution_count": 17,
   "metadata": {},
   "outputs": [
    {
     "name": "stdout",
     "output_type": "stream",
     "text": [
      "Found 550 images belonging to 6 classes.\n",
      "Found 120 images belonging to 6 classes.\n"
     ]
    }
   ],
   "source": [
    "train_datagen = ImageDataGenerator(rescale=1./255)\n",
    "\n",
    "train_generator = train_datagen.flow_from_directory(\n",
    "        'train',\n",
    "        target_size=(80, 24),\n",
    "        batch_size=4,\n",
    "        class_mode='categorical')\n",
    "\n",
    "test_datagen = ImageDataGenerator(rescale=1./255)\n",
    "\n",
    "test_generator = test_datagen.flow_from_directory(\n",
    "        'test',\n",
    "        target_size=(80, 24),    \n",
    "        batch_size=4,\n",
    "        class_mode='categorical')"
   ]
  },
  {
   "cell_type": "code",
   "execution_count": 21,
   "metadata": {},
   "outputs": [],
   "source": [
    "model = Sequential()\n",
    "model.add(Conv2D(32, kernel_size=(3, 3),\n",
    "                 activation='relu',\n",
    "                 input_shape=(80, 24,3)))\n",
    "model.add(Conv2D(64, (3, 3), activation='relu'))\n",
    "model.add(MaxPooling2D(pool_size=(2, 2)))\n",
    "model.add(Flatten())\n",
    "model.add(Dense(128, activation='relu'))\n",
    "model.add(Dense(6, activation='softmax'))"
   ]
  },
  {
   "cell_type": "code",
   "execution_count": 22,
   "metadata": {},
   "outputs": [],
   "source": [
    "model.compile(loss='categorical_crossentropy', optimizer='adam', metrics=['accuracy'])"
   ]
  },
  {
   "cell_type": "code",
   "execution_count": 23,
   "metadata": {},
   "outputs": [
    {
     "name": "stdout",
     "output_type": "stream",
     "text": [
      "Epoch 1/50\n",
      "20/20 [==============================] - 1s 47ms/step - loss: 2.0275 - accuracy: 0.2051 - val_loss: 1.7872 - val_accuracy: 0.2500\n",
      "Epoch 2/50\n",
      "20/20 [==============================] - 1s 37ms/step - loss: 1.7095 - accuracy: 0.3077 - val_loss: 1.5953 - val_accuracy: 0.4000\n",
      "Epoch 3/50\n",
      "20/20 [==============================] - 1s 36ms/step - loss: 1.5151 - accuracy: 0.4125 - val_loss: 1.6598 - val_accuracy: 0.4000\n",
      "Epoch 4/50\n",
      "20/20 [==============================] - 1s 34ms/step - loss: 1.3258 - accuracy: 0.5500 - val_loss: 1.4522 - val_accuracy: 0.4500\n",
      "Epoch 5/50\n",
      "20/20 [==============================] - 1s 34ms/step - loss: 1.2409 - accuracy: 0.5125 - val_loss: 1.2883 - val_accuracy: 0.4000\n",
      "Epoch 6/50\n",
      "20/20 [==============================] - 1s 35ms/step - loss: 1.1959 - accuracy: 0.4875 - val_loss: 1.2741 - val_accuracy: 0.5000\n",
      "Epoch 7/50\n",
      "20/20 [==============================] - 1s 33ms/step - loss: 1.0128 - accuracy: 0.6250 - val_loss: 1.6820 - val_accuracy: 0.2500\n",
      "Epoch 8/50\n",
      "20/20 [==============================] - 1s 34ms/step - loss: 1.0992 - accuracy: 0.5875 - val_loss: 0.9889 - val_accuracy: 0.5500\n",
      "Epoch 9/50\n",
      "20/20 [==============================] - 1s 32ms/step - loss: 0.8460 - accuracy: 0.6500 - val_loss: 0.8607 - val_accuracy: 0.6000\n",
      "Epoch 10/50\n",
      "20/20 [==============================] - 1s 32ms/step - loss: 0.9064 - accuracy: 0.6875 - val_loss: 0.4148 - val_accuracy: 0.9000\n",
      "Epoch 11/50\n",
      "20/20 [==============================] - 1s 33ms/step - loss: 0.7445 - accuracy: 0.7250 - val_loss: 1.3682 - val_accuracy: 0.6500\n",
      "Epoch 12/50\n",
      "20/20 [==============================] - 1s 32ms/step - loss: 1.0251 - accuracy: 0.6375 - val_loss: 0.9859 - val_accuracy: 0.6000\n",
      "Epoch 13/50\n",
      "20/20 [==============================] - 1s 32ms/step - loss: 0.6141 - accuracy: 0.7750 - val_loss: 0.7913 - val_accuracy: 0.7500\n",
      "Epoch 14/50\n",
      "20/20 [==============================] - 1s 32ms/step - loss: 0.7306 - accuracy: 0.7375 - val_loss: 0.7320 - val_accuracy: 0.7000\n",
      "Epoch 15/50\n",
      "20/20 [==============================] - 1s 33ms/step - loss: 0.7905 - accuracy: 0.7436 - val_loss: 0.7133 - val_accuracy: 0.7500\n",
      "Epoch 16/50\n",
      "20/20 [==============================] - 1s 36ms/step - loss: 0.5286 - accuracy: 0.7949 - val_loss: 0.8722 - val_accuracy: 0.7000\n",
      "Epoch 17/50\n",
      "20/20 [==============================] - 1s 33ms/step - loss: 0.8561 - accuracy: 0.6750 - val_loss: 0.6237 - val_accuracy: 0.8500\n",
      "Epoch 18/50\n",
      "20/20 [==============================] - 1s 34ms/step - loss: 0.6868 - accuracy: 0.7250 - val_loss: 0.6384 - val_accuracy: 0.7500\n",
      "Epoch 19/50\n",
      "20/20 [==============================] - 1s 34ms/step - loss: 0.5915 - accuracy: 0.8250 - val_loss: 0.6964 - val_accuracy: 0.7500\n",
      "Epoch 20/50\n",
      "20/20 [==============================] - 1s 32ms/step - loss: 0.4516 - accuracy: 0.8125 - val_loss: 0.5634 - val_accuracy: 0.7500\n",
      "Epoch 21/50\n",
      "20/20 [==============================] - 1s 34ms/step - loss: 0.7166 - accuracy: 0.7000 - val_loss: 0.6484 - val_accuracy: 0.7000\n",
      "Epoch 22/50\n",
      "20/20 [==============================] - 1s 34ms/step - loss: 0.4919 - accuracy: 0.8375 - val_loss: 0.6957 - val_accuracy: 0.8500\n",
      "Epoch 23/50\n",
      "20/20 [==============================] - 1s 33ms/step - loss: 0.4569 - accuracy: 0.8375 - val_loss: 0.5599 - val_accuracy: 0.8000\n",
      "Epoch 24/50\n",
      "20/20 [==============================] - 1s 34ms/step - loss: 0.4633 - accuracy: 0.8500 - val_loss: 0.3603 - val_accuracy: 0.9000\n",
      "Epoch 25/50\n",
      "20/20 [==============================] - 1s 33ms/step - loss: 0.4529 - accuracy: 0.8500 - val_loss: 0.7299 - val_accuracy: 0.7000\n",
      "Epoch 26/50\n",
      "20/20 [==============================] - 1s 32ms/step - loss: 0.3813 - accuracy: 0.9125 - val_loss: 0.3681 - val_accuracy: 0.9000\n",
      "Epoch 27/50\n",
      "20/20 [==============================] - 1s 31ms/step - loss: 0.4364 - accuracy: 0.8718 - val_loss: 0.6923 - val_accuracy: 0.7000\n",
      "Epoch 28/50\n",
      "20/20 [==============================] - 1s 34ms/step - loss: 0.4313 - accuracy: 0.8375 - val_loss: 0.7442 - val_accuracy: 0.7000\n",
      "Epoch 29/50\n",
      "20/20 [==============================] - 1s 32ms/step - loss: 0.4013 - accuracy: 0.8250 - val_loss: 0.5235 - val_accuracy: 0.8000\n",
      "Epoch 30/50\n",
      "20/20 [==============================] - 1s 35ms/step - loss: 0.3709 - accuracy: 0.8718 - val_loss: 0.3219 - val_accuracy: 0.8500\n",
      "Epoch 31/50\n",
      "20/20 [==============================] - 1s 33ms/step - loss: 0.4683 - accuracy: 0.8375 - val_loss: 0.4261 - val_accuracy: 0.8500\n",
      "Epoch 32/50\n",
      "20/20 [==============================] - 1s 32ms/step - loss: 0.3682 - accuracy: 0.8625 - val_loss: 0.3689 - val_accuracy: 0.8000\n",
      "Epoch 33/50\n",
      "20/20 [==============================] - 1s 34ms/step - loss: 0.2166 - accuracy: 0.9250 - val_loss: 0.2744 - val_accuracy: 0.9000\n",
      "Epoch 34/50\n",
      "20/20 [==============================] - 1s 33ms/step - loss: 0.2910 - accuracy: 0.9375 - val_loss: 0.4775 - val_accuracy: 0.8000\n",
      "Epoch 35/50\n",
      "20/20 [==============================] - 1s 34ms/step - loss: 0.3579 - accuracy: 0.9125 - val_loss: 0.2129 - val_accuracy: 0.9500\n",
      "Epoch 36/50\n",
      "20/20 [==============================] - 1s 34ms/step - loss: 0.3595 - accuracy: 0.8750 - val_loss: 0.3761 - val_accuracy: 0.8500\n",
      "Epoch 37/50\n",
      "20/20 [==============================] - 1s 33ms/step - loss: 0.3161 - accuracy: 0.8625 - val_loss: 0.3415 - val_accuracy: 0.9000\n",
      "Epoch 38/50\n",
      "20/20 [==============================] - 1s 31ms/step - loss: 0.1745 - accuracy: 0.9500 - val_loss: 0.1023 - val_accuracy: 0.9500\n",
      "Epoch 39/50\n",
      "20/20 [==============================] - 1s 32ms/step - loss: 0.3039 - accuracy: 0.9125 - val_loss: 0.5200 - val_accuracy: 0.8000\n",
      "Epoch 40/50\n",
      "20/20 [==============================] - 1s 32ms/step - loss: 0.2493 - accuracy: 0.9000 - val_loss: 0.2236 - val_accuracy: 0.9500\n",
      "Epoch 41/50\n",
      "20/20 [==============================] - 1s 32ms/step - loss: 0.1108 - accuracy: 0.9750 - val_loss: 0.2544 - val_accuracy: 0.9500\n",
      "Epoch 42/50\n",
      "20/20 [==============================] - 1s 32ms/step - loss: 0.1830 - accuracy: 0.9500 - val_loss: 0.3092 - val_accuracy: 0.9000\n",
      "Epoch 43/50\n",
      "20/20 [==============================] - 1s 32ms/step - loss: 0.2102 - accuracy: 0.9625 - val_loss: 0.2644 - val_accuracy: 0.9000\n",
      "Epoch 44/50\n",
      "20/20 [==============================] - 1s 31ms/step - loss: 0.1459 - accuracy: 0.9500 - val_loss: 0.4025 - val_accuracy: 0.8500\n",
      "Epoch 45/50\n",
      "20/20 [==============================] - 1s 32ms/step - loss: 0.1554 - accuracy: 0.9375 - val_loss: 0.0957 - val_accuracy: 0.9500\n",
      "Epoch 46/50\n",
      "20/20 [==============================] - 1s 31ms/step - loss: 0.1299 - accuracy: 0.9625 - val_loss: 0.2509 - val_accuracy: 0.9500\n",
      "Epoch 47/50\n",
      "20/20 [==============================] - 1s 31ms/step - loss: 0.0852 - accuracy: 0.9750 - val_loss: 0.0492 - val_accuracy: 1.0000\n",
      "Epoch 48/50\n",
      "20/20 [==============================] - 1s 31ms/step - loss: 0.0678 - accuracy: 0.9875 - val_loss: 0.4482 - val_accuracy: 0.9000\n",
      "Epoch 49/50\n",
      "20/20 [==============================] - 1s 32ms/step - loss: 0.1046 - accuracy: 0.9500 - val_loss: 0.0615 - val_accuracy: 1.0000\n",
      "Epoch 50/50\n",
      "20/20 [==============================] - 1s 31ms/step - loss: 0.1315 - accuracy: 0.9625 - val_loss: 0.1642 - val_accuracy: 0.9500\n"
     ]
    },
    {
     "data": {
      "text/plain": [
       "<tensorflow.python.keras.callbacks.History at 0x1de8ed6cc70>"
      ]
     },
     "execution_count": 23,
     "metadata": {},
     "output_type": "execute_result"
    }
   ],
   "source": [
    "model.fit_generator(\n",
    "        train_generator,\n",
    "        steps_per_epoch=20,\n",
    "        epochs=50,\n",
    "        validation_data=test_generator,\n",
    "        validation_steps=5)"
   ]
  },
  {
   "cell_type": "code",
   "execution_count": 24,
   "metadata": {},
   "outputs": [
    {
     "name": "stdout",
     "output_type": "stream",
     "text": [
      "-- Predict --\n",
      "WARNING:tensorflow:From <ipython-input-24-ff8f58f7659a>:2: Model.predict_generator (from tensorflow.python.keras.engine.training) is deprecated and will be removed in a future version.\n",
      "Instructions for updating:\n",
      "Please use Model.predict, which supports generators.\n",
      "{'bonghwang': 0, 'dohwa': 1, 'gongjak': 2, 'horang': 3, 'so': 4, 'yong': 5}\n",
      "[[0.000 0.010 0.000 0.987 0.002 0.000]\n",
      " [0.000 0.004 0.000 0.996 0.000 0.000]\n",
      " [0.000 0.092 0.000 0.903 0.003 0.003]\n",
      " [0.000 0.002 0.000 0.001 0.001 0.995]\n",
      " [0.983 0.001 0.000 0.000 0.016 0.000]\n",
      " [0.003 0.997 0.000 0.000 0.000 0.000]\n",
      " [0.005 0.071 0.036 0.851 0.032 0.005]\n",
      " [0.006 0.000 0.951 0.000 0.043 0.000]\n",
      " [0.000 0.000 0.000 0.000 0.000 1.000]\n",
      " [0.000 0.016 0.209 0.000 0.775 0.000]\n",
      " [0.986 0.000 0.001 0.000 0.013 0.000]\n",
      " [1.000 0.000 0.000 0.000 0.000 0.000]\n",
      " [0.001 0.000 0.982 0.000 0.017 0.000]\n",
      " [0.001 0.000 0.000 0.000 0.999 0.000]\n",
      " [0.001 0.001 0.000 0.001 0.998 0.000]\n",
      " [0.000 0.000 0.000 0.000 1.000 0.000]\n",
      " [0.000 0.004 0.000 0.000 0.995 0.000]\n",
      " [0.001 0.996 0.000 0.004 0.000 0.000]\n",
      " [0.000 0.997 0.000 0.002 0.001 0.000]\n",
      " [0.004 0.001 0.961 0.026 0.008 0.000]]\n"
     ]
    }
   ],
   "source": [
    "print(\"-- Predict --\")\n",
    "output = model.predict_generator(test_generator, steps=5)\n",
    "np.set_printoptions(formatter={'float': lambda x: \"{0:0.3f}\".format(x)})\n",
    "print(test_generator.class_indices)\n",
    "print(output)"
   ]
  },
  {
   "cell_type": "code",
   "execution_count": 25,
   "metadata": {},
   "outputs": [
    {
     "name": "stdout",
     "output_type": "stream",
     "text": [
      "-- Evaluate --\n",
      "WARNING:tensorflow:From <ipython-input-25-b703dad36ef7>:2: Model.evaluate_generator (from tensorflow.python.keras.engine.training) is deprecated and will be removed in a future version.\n",
      "Instructions for updating:\n",
      "Please use Model.evaluate, which supports generators.\n",
      "accuracy: 95.00%\n"
     ]
    }
   ],
   "source": [
    "print(\"-- Evaluate --\")\n",
    "scores = model.evaluate_generator(test_generator, steps=5)\n",
    "print(\"%s: %.2f%%\" %(model.metrics_names[1], scores[1]*100))"
   ]
  },
  {
   "cell_type": "code",
   "execution_count": null,
   "metadata": {},
   "outputs": [],
   "source": []
  }
 ],
 "metadata": {
  "kernelspec": {
   "display_name": "Python 3",
   "language": "python",
   "name": "python3"
  },
  "language_info": {
   "codemirror_mode": {
    "name": "ipython",
    "version": 3
   },
   "file_extension": ".py",
   "mimetype": "text/x-python",
   "name": "python",
   "nbconvert_exporter": "python",
   "pygments_lexer": "ipython3",
   "version": "3.7.7"
  }
 },
 "nbformat": 4,
 "nbformat_minor": 4
}
