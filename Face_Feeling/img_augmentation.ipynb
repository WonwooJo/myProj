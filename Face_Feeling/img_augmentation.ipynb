{
 "cells": [
  {
   "cell_type": "code",
   "execution_count": 21,
   "metadata": {},
   "outputs": [],
   "source": [
    "from keras.preprocessing.image import load_img, img_to_array, ImageDataGenerator\n",
    "import matplotlib.pyplot as plt\n",
    "import cv2\n",
    "import numpy as np\n",
    "from tqdm import tqdm"
   ]
  },
  {
   "cell_type": "code",
   "execution_count": 15,
   "metadata": {},
   "outputs": [],
   "source": [
    "# 확장 차원 추가\n",
    "samples = np.expand_dims(data, 0) # axis = 0"
   ]
  },
  {
   "cell_type": "code",
   "execution_count": 7,
   "metadata": {},
   "outputs": [
    {
     "data": {
      "text/plain": [
       "(1, 36, 36, 3)"
      ]
     },
     "execution_count": 7,
     "metadata": {},
     "output_type": "execute_result"
    }
   ],
   "source": [
    "samples.shape "
   ]
  },
  {
   "cell_type": "code",
   "execution_count": 24,
   "metadata": {},
   "outputs": [
    {
     "name": "stderr",
     "output_type": "stream",
     "text": [
      "100%|████████████████████████████████████████████████████████████████████████████████████| 6/6 [03:22<00:00, 33.79s/it]\n"
     ]
    }
   ],
   "source": [
    "# 전체 \n",
    "eye_types = ['bonghwang','dohwa','gongjak','so','yong','horang']\n",
    "for type_name in tqdm(eye_types):\n",
    "    for i in range(300):\n",
    "        try:\n",
    "            img = load_img('images/img_mining/2eyes/train/{} ({}).jpg'.format(type_name,i))\n",
    "            data = img_to_array(img)\n",
    "            samples = np.expand_dims(data, 0)\n",
    "            datagen = ImageDataGenerator(\n",
    "                rotation_range=5,\n",
    "                horizontal_flip=True, \n",
    "                vertical_flip=True,\n",
    "                height_shift_range=0.1,\n",
    "                width_shift_range=[-10,10],\n",
    "                brightness_range=[0.2,1]\n",
    "            )\n",
    "            it = datagen.flow(samples, batch_size=1)\n",
    "            # fig = plt.figure(figsize=(30,30))\n",
    "            for j in range(51):\n",
    "                batch = it.next()\n",
    "                image = batch[0].astype('uint8') # float -> unsigned int8 (양수만 있는 8bit: 0~255)\n",
    "                cv2.imwrite('images/img_mining/2eyes/augmented/{} {}_{}.jpg'.format(type_name, i,j), image)\n",
    "        except:\n",
    "            pass"
   ]
  },
  {
   "cell_type": "code",
   "execution_count": 25,
   "metadata": {},
   "outputs": [
    {
     "name": "stderr",
     "output_type": "stream",
     "text": [
      "100%|████████████████████████████████████████████████████████████████████████████████| 300/300 [01:08<00:00,  4.41it/s]\n"
     ]
    }
   ],
   "source": [
    "\n",
    "for i in tqdm(range(300)):\n",
    "    try:\n",
    "        img = load_img('images/img_mining/2eyes/train/horang ({}).jpg'.format(i))\n",
    "        data = img_to_array(img)\n",
    "        samples = np.expand_dims(data, 0)\n",
    "        datagen = ImageDataGenerator(\n",
    "            rotation_range=5,\n",
    "            horizontal_flip=True, \n",
    "            vertical_flip=True,\n",
    "            height_shift_range=0.1,\n",
    "            width_shift_range=[-10,10],\n",
    "            brightness_range=[0.2,1]\n",
    "        )\n",
    "        it = datagen.flow(samples, batch_size=1)\n",
    "        # fig = plt.figure(figsize=(30,30))\n",
    "        for j in range(100):\n",
    "            batch = it.next()\n",
    "            image = batch[0].astype('uint8') # float -> unsigned int8 (양수만 있는 8bit: 0~255)\n",
    "            cv2.imwrite('images/img_mining/2eyes/augmented/horang {}_{}.jpg'.format(i,j), image)\n",
    "    except:\n",
    "        pass"
   ]
  },
  {
   "cell_type": "code",
   "execution_count": null,
   "metadata": {},
   "outputs": [],
   "source": []
  }
 ],
 "metadata": {
  "kernelspec": {
   "display_name": "Python 3",
   "language": "python",
   "name": "python3"
  },
  "language_info": {
   "codemirror_mode": {
    "name": "ipython",
    "version": 3
   },
   "file_extension": ".py",
   "mimetype": "text/x-python",
   "name": "python",
   "nbconvert_exporter": "python",
   "pygments_lexer": "ipython3",
   "version": "3.7.7"
  }
 },
 "nbformat": 4,
 "nbformat_minor": 4
}
