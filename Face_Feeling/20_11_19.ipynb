{
 "cells": [
  {
   "cell_type": "code",
   "execution_count": 1,
   "metadata": {
    "scrolled": true
   },
   "outputs": [],
   "source": [
    "import numpy as np\n",
    "import pandas as pd \n",
    "from keras.preprocessing.image import ImageDataGenerator, load_img, img_to_array\n",
    "from keras.utils import to_categorical\n",
    "from sklearn.model_selection import train_test_split\n",
    "import matplotlib.pyplot as plt\n",
    "import random\n",
    "import os\n",
    "from tensorflow.keras.models import load_model"
   ]
  },
  {
   "cell_type": "code",
   "execution_count": null,
   "metadata": {},
   "outputs": [],
   "source": [
    "IMAGE_WIDTH=150\n",
    "IMAGE_HEIGHT=50\n",
    "IMAGE_SIZE=(IMAGE_WIDTH, IMAGE_HEIGHT)\n",
    "IMAGE_CHANNELS = 3 # color or gray\n",
    "batch_size= 10"
   ]
  },
  {
   "cell_type": "code",
   "execution_count": 2,
   "metadata": {},
   "outputs": [],
   "source": [
    "IMAGE_WIDTH=80\n",
    "IMAGE_HEIGHT=24\n",
    "IMAGE_SIZE=(IMAGE_WIDTH, IMAGE_HEIGHT)\n",
    "IMAGE_CHANNELS = 3 # color or gray\n",
    "batch_size= 10"
   ]
  },
  {
   "cell_type": "code",
   "execution_count": 3,
   "metadata": {},
   "outputs": [],
   "source": [
    "categories=[]\n",
    "train_dir=os.listdir(\"images/img_mining/2eyes/augmented\")\n",
    "for filename in train_dir:\n",
    "    category=filename.split(' ')[0]\n",
    "    if category == 'bonghwang':\n",
    "        categories.append('bonghwang')\n",
    "    if category == 'dohwa':\n",
    "        categories.append('dohwa')\n",
    "    if category == 'gongjak':\n",
    "        categories.append('gongjak')\n",
    "    if category == 'horang':\n",
    "        categories.append('horang')\n",
    "    if category == 'so':\n",
    "        categories.append('so')\n",
    "    if category == 'yong':\n",
    "        categories.append('yong')"
   ]
  },
  {
   "cell_type": "code",
   "execution_count": 4,
   "metadata": {},
   "outputs": [
    {
     "data": {
      "text/html": [
       "<div>\n",
       "<style scoped>\n",
       "    .dataframe tbody tr th:only-of-type {\n",
       "        vertical-align: middle;\n",
       "    }\n",
       "\n",
       "    .dataframe tbody tr th {\n",
       "        vertical-align: top;\n",
       "    }\n",
       "\n",
       "    .dataframe thead th {\n",
       "        text-align: right;\n",
       "    }\n",
       "</style>\n",
       "<table border=\"1\" class=\"dataframe\">\n",
       "  <thead>\n",
       "    <tr style=\"text-align: right;\">\n",
       "      <th></th>\n",
       "      <th>filename</th>\n",
       "      <th>category</th>\n",
       "    </tr>\n",
       "  </thead>\n",
       "  <tbody>\n",
       "    <tr>\n",
       "      <th>0</th>\n",
       "      <td>bonghwang 100_0.jpg</td>\n",
       "      <td>bonghwang</td>\n",
       "    </tr>\n",
       "    <tr>\n",
       "      <th>1</th>\n",
       "      <td>bonghwang 100_1.jpg</td>\n",
       "      <td>bonghwang</td>\n",
       "    </tr>\n",
       "    <tr>\n",
       "      <th>2</th>\n",
       "      <td>bonghwang 100_10.jpg</td>\n",
       "      <td>bonghwang</td>\n",
       "    </tr>\n",
       "    <tr>\n",
       "      <th>3</th>\n",
       "      <td>bonghwang 100_11.jpg</td>\n",
       "      <td>bonghwang</td>\n",
       "    </tr>\n",
       "    <tr>\n",
       "      <th>4</th>\n",
       "      <td>bonghwang 100_12.jpg</td>\n",
       "      <td>bonghwang</td>\n",
       "    </tr>\n",
       "    <tr>\n",
       "      <th>...</th>\n",
       "      <td>...</td>\n",
       "      <td>...</td>\n",
       "    </tr>\n",
       "    <tr>\n",
       "      <th>30442</th>\n",
       "      <td>yong 9_50.jpg</td>\n",
       "      <td>yong</td>\n",
       "    </tr>\n",
       "    <tr>\n",
       "      <th>30443</th>\n",
       "      <td>yong 9_6.jpg</td>\n",
       "      <td>yong</td>\n",
       "    </tr>\n",
       "    <tr>\n",
       "      <th>30444</th>\n",
       "      <td>yong 9_7.jpg</td>\n",
       "      <td>yong</td>\n",
       "    </tr>\n",
       "    <tr>\n",
       "      <th>30445</th>\n",
       "      <td>yong 9_8.jpg</td>\n",
       "      <td>yong</td>\n",
       "    </tr>\n",
       "    <tr>\n",
       "      <th>30446</th>\n",
       "      <td>yong 9_9.jpg</td>\n",
       "      <td>yong</td>\n",
       "    </tr>\n",
       "  </tbody>\n",
       "</table>\n",
       "<p>30447 rows × 2 columns</p>\n",
       "</div>"
      ],
      "text/plain": [
       "                   filename   category\n",
       "0       bonghwang 100_0.jpg  bonghwang\n",
       "1       bonghwang 100_1.jpg  bonghwang\n",
       "2      bonghwang 100_10.jpg  bonghwang\n",
       "3      bonghwang 100_11.jpg  bonghwang\n",
       "4      bonghwang 100_12.jpg  bonghwang\n",
       "...                     ...        ...\n",
       "30442         yong 9_50.jpg       yong\n",
       "30443          yong 9_6.jpg       yong\n",
       "30444          yong 9_7.jpg       yong\n",
       "30445          yong 9_8.jpg       yong\n",
       "30446          yong 9_9.jpg       yong\n",
       "\n",
       "[30447 rows x 2 columns]"
      ]
     },
     "execution_count": 4,
     "metadata": {},
     "output_type": "execute_result"
    }
   ],
   "source": [
    "df=pd.DataFrame({'filename':train_dir,'category':categories})\n",
    "df"
   ]
  },
  {
   "cell_type": "code",
   "execution_count": 5,
   "metadata": {},
   "outputs": [],
   "source": [
    "train_df, validate_df = train_test_split(df, test_size=0.20, random_state=777)\n",
    "train_df = train_df.reset_index(drop=True)\n",
    "validate_df = validate_df.reset_index(drop=True)"
   ]
  },
  {
   "cell_type": "code",
   "execution_count": 6,
   "metadata": {},
   "outputs": [],
   "source": [
    "train_df = train_df.reset_index(drop=True)\n",
    "validate_df = validate_df.reset_index(drop=True)"
   ]
  },
  {
   "cell_type": "code",
   "execution_count": 7,
   "metadata": {},
   "outputs": [
    {
     "data": {
      "text/plain": [
       "<matplotlib.axes._subplots.AxesSubplot at 0x1c55347ab88>"
      ]
     },
     "execution_count": 7,
     "metadata": {},
     "output_type": "execute_result"
    },
    {
     "data": {
      "image/png": "[encoded data removed]",
      "text/plain": [
       "<Figure size 432x288 with 1 Axes>"
      ]
     },
     "metadata": {
      "needs_background": "light"
     },
     "output_type": "display_data"
    }
   ],
   "source": [
    "train_df['category'].value_counts().plot.bar()"
   ]
  },
  {
   "cell_type": "code",
   "execution_count": 8,
   "metadata": {},
   "outputs": [
    {
     "data": {
      "text/plain": [
       "<matplotlib.axes._subplots.AxesSubplot at 0x1c553a202c8>"
      ]
     },
     "execution_count": 8,
     "metadata": {},
     "output_type": "execute_result"
    },
    {
     "data": {
      "image/png": "[encoded data removed]",
      "text/plain": [
       "<Figure size 432x288 with 1 Axes>"
      ]
     },
     "metadata": {
      "needs_background": "light"
     },
     "output_type": "display_data"
    }
   ],
   "source": [
    "validate_df['category'].value_counts().plot.bar()"
   ]
  },
  {
   "cell_type": "code",
   "execution_count": 9,
   "metadata": {},
   "outputs": [],
   "source": [
    "total_train = train_df.shape[0]\n",
    "total_validate = validate_df.shape[0]\n"
   ]
  },
  {
   "cell_type": "code",
   "execution_count": 10,
   "metadata": {},
   "outputs": [],
   "source": [
    "train_datagen = ImageDataGenerator(rotation_range=15,\n",
    "                                   rescale=1./255,\n",
    "                                   shear_range=0.1,\n",
    "                                   zoom_range=0.2,\n",
    "                                   horizontal_flip=True,\n",
    "                                   width_shift_range=0.1,\n",
    "                                   height_shift_range=0.1)"
   ]
  },
  {
   "cell_type": "code",
   "execution_count": 11,
   "metadata": {},
   "outputs": [
    {
     "name": "stdout",
     "output_type": "stream",
     "text": [
      "Found 24357 validated image filenames belonging to 6 classes.\n"
     ]
    }
   ],
   "source": [
    "train_generator=train_datagen.flow_from_dataframe(train_df,\n",
    "                                 'images/img_mining/2eyes/augmented',\n",
    "                                 x_col='filename',\n",
    "                                 y_col='category',\n",
    "                                  target_size=IMAGE_SIZE,\n",
    "                                  class_mode='categorical',\n",
    "                                  batch_size=batch_size\n",
    "                                 )"
   ]
  },
  {
   "cell_type": "code",
   "execution_count": 12,
   "metadata": {},
   "outputs": [
    {
     "name": "stdout",
     "output_type": "stream",
     "text": [
      "Found 6090 validated image filenames belonging to 6 classes.\n"
     ]
    }
   ],
   "source": [
    "validation_datagen = ImageDataGenerator(rescale=1./255)\n",
    "\n",
    "validation_generator = validation_datagen.flow_from_dataframe(validate_df,\n",
    "                                                              \"images/img_mining/2eyes/augmented\",\n",
    "                                                              x_col='filename',\n",
    "                                                              y_col='category',\n",
    "                                                              target_size=IMAGE_SIZE,\n",
    "                                                              class_mode='categorical',\n",
    "                                                              batch_size=batch_size)"
   ]
  },
  {
   "cell_type": "code",
   "execution_count": 13,
   "metadata": {},
   "outputs": [],
   "source": [
    "from keras.models import Sequential\n",
    "from keras.layers import *"
   ]
  },
  {
   "cell_type": "code",
   "execution_count": 27,
   "metadata": {
    "scrolled": true
   },
   "outputs": [
    {
     "name": "stdout",
     "output_type": "stream",
     "text": [
      "Model: \"sequential_1\"\n",
      "_________________________________________________________________\n",
      "Layer (type)                 Output Shape              Param #   \n",
      "=================================================================\n",
      "conv2d_3 (Conv2D)            (None, 78, 22, 32)        896       \n",
      "_________________________________________________________________\n",
      "batch_normalization_4 (Batch (None, 78, 22, 32)        128       \n",
      "_________________________________________________________________\n",
      "max_pooling2d_3 (MaxPooling2 (None, 39, 11, 32)        0         \n",
      "_________________________________________________________________\n",
      "dropout_4 (Dropout)          (None, 39, 11, 32)        0         \n",
      "_________________________________________________________________\n",
      "conv2d_4 (Conv2D)            (None, 37, 9, 64)         18496     \n",
      "_________________________________________________________________\n",
      "batch_normalization_5 (Batch (None, 37, 9, 64)         256       \n",
      "_________________________________________________________________\n",
      "max_pooling2d_4 (MaxPooling2 (None, 18, 4, 64)         0         \n",
      "_________________________________________________________________\n",
      "dropout_5 (Dropout)          (None, 18, 4, 64)         0         \n",
      "_________________________________________________________________\n",
      "conv2d_5 (Conv2D)            (None, 16, 2, 128)        73856     \n",
      "_________________________________________________________________\n",
      "batch_normalization_6 (Batch (None, 16, 2, 128)        512       \n",
      "_________________________________________________________________\n",
      "max_pooling2d_5 (MaxPooling2 (None, 8, 1, 128)         0         \n",
      "_________________________________________________________________\n",
      "dropout_6 (Dropout)          (None, 8, 1, 128)         0         \n",
      "_________________________________________________________________\n",
      "flatten_1 (Flatten)          (None, 1024)              0         \n",
      "_________________________________________________________________\n",
      "dense_2 (Dense)              (None, 512)               524800    \n",
      "_________________________________________________________________\n",
      "batch_normalization_7 (Batch (None, 512)               2048      \n",
      "_________________________________________________________________\n",
      "dropout_7 (Dropout)          (None, 512)               0         \n",
      "_________________________________________________________________\n",
      "dense_3 (Dense)              (None, 6)                 3078      \n",
      "=================================================================\n",
      "Total params: 624,070\n",
      "Trainable params: 622,598\n",
      "Non-trainable params: 1,472\n",
      "_________________________________________________________________\n"
     ]
    }
   ],
   "source": [
    "model = Sequential()\n",
    "model.add(Conv2D(32, (3, 3), activation='relu', input_shape=(IMAGE_WIDTH, IMAGE_HEIGHT, IMAGE_CHANNELS)))\n",
    "model.add(BatchNormalization())\n",
    "model.add(MaxPooling2D(pool_size=(2, 2)))\n",
    "model.add(Dropout(0.25))\n",
    "model.add(Conv2D(64, (3, 3), activation='relu'))\n",
    "model.add(BatchNormalization())\n",
    "model.add(MaxPooling2D(pool_size=(2, 2)))\n",
    "model.add(Dropout(0.25))\n",
    "model.add(Conv2D(128, (3, 3), activation='relu'))\n",
    "model.add(BatchNormalization())\n",
    "model.add(MaxPooling2D(pool_size=(2, 2)))\n",
    "model.add(Dropout(0.25))\n",
    "model.add(Flatten())\n",
    "model.add(Dense(512, activation='relu'))\n",
    "model.add(BatchNormalization())\n",
    "model.add(Dropout(0.5))\n",
    "model.add(Dense(6, activation='softmax')) \n",
    "model.compile(loss='categorical_crossentropy', optimizer='adam', metrics=['acc'])\n",
    "model.summary()"
   ]
  },
  {
   "cell_type": "code",
   "execution_count": 28,
   "metadata": {},
   "outputs": [],
   "source": [
    "from keras.callbacks import EarlyStopping, ReduceLROnPlateau"
   ]
  },
  {
   "cell_type": "code",
   "execution_count": 29,
   "metadata": {},
   "outputs": [],
   "source": [
    "earlystop = EarlyStopping(patience=10),\n",
    "learning_rate_reduction = ReduceLROnPlateau(monitor='val_acc',\n",
    "                                           patience=2,\n",
    "                                           verbose=1,\n",
    "                                            factor=0.5,\n",
    "                                            min_lr=0.00001)"
   ]
  },
  {
   "cell_type": "code",
   "execution_count": 30,
   "metadata": {
    "scrolled": true
   },
   "outputs": [
    {
     "name": "stdout",
     "output_type": "stream",
     "text": [
      "Epoch 1/40\n",
      "2435/2435 [==============================] - 62s 25ms/step - loss: 1.9193 - acc: 0.2685 - val_loss: 1.7140 - val_acc: 0.2911\n",
      "Epoch 2/40\n",
      "2435/2435 [==============================] - 59s 24ms/step - loss: 1.5923 - acc: 0.3394 - val_loss: 1.4419 - val_acc: 0.4103\n",
      "Epoch 3/40\n",
      "2435/2435 [==============================] - 59s 24ms/step - loss: 1.5111 - acc: 0.3729 - val_loss: 1.3242 - val_acc: 0.4529\n",
      "Epoch 4/40\n",
      "2435/2435 [==============================] - 59s 24ms/step - loss: 1.4598 - acc: 0.3968 - val_loss: 1.1408 - val_acc: 0.5278\n",
      "Epoch 5/40\n",
      "2435/2435 [==============================] - 59s 24ms/step - loss: 1.3813 - acc: 0.4310 - val_loss: 1.6700 - val_acc: 0.3131\n",
      "Epoch 6/40\n",
      "2434/2435 [============================>.] - ETA: 0s - loss: 1.3422 - acc: 0.4462\n",
      "Epoch 00006: ReduceLROnPlateau reducing learning rate to 0.0005000000237487257.\n",
      "2435/2435 [==============================] - 60s 25ms/step - loss: 1.3422 - acc: 0.4461 - val_loss: 1.1209 - val_acc: 0.5122\n",
      "Epoch 7/40\n",
      "2435/2435 [==============================] - 59s 24ms/step - loss: 1.2363 - acc: 0.4846 - val_loss: 0.9630 - val_acc: 0.5755\n",
      "Epoch 8/40\n",
      "2435/2435 [==============================] - 59s 24ms/step - loss: 1.1763 - acc: 0.5062 - val_loss: 1.0089 - val_acc: 0.5663\n",
      "Epoch 9/40\n",
      "2435/2435 [==============================] - 60s 24ms/step - loss: 1.1433 - acc: 0.5253 - val_loss: 0.8975 - val_acc: 0.6146\n",
      "Epoch 10/40\n",
      "2435/2435 [==============================] - 60s 24ms/step - loss: 1.1137 - acc: 0.5356 - val_loss: 0.9381 - val_acc: 0.5908\n",
      "Epoch 11/40\n",
      "2434/2435 [============================>.] - ETA: 0s - loss: 1.0980 - acc: 0.5415\n",
      "Epoch 00011: ReduceLROnPlateau reducing learning rate to 0.0002500000118743628.\n",
      "2435/2435 [==============================] - 60s 25ms/step - loss: 1.0979 - acc: 0.5415 - val_loss: 0.9079 - val_acc: 0.5995\n",
      "Epoch 12/40\n",
      "2435/2435 [==============================] - 59s 24ms/step - loss: 1.0404 - acc: 0.5608 - val_loss: 0.7192 - val_acc: 0.6826\n",
      "Epoch 13/40\n",
      "2435/2435 [==============================] - 59s 24ms/step - loss: 1.0068 - acc: 0.5731 - val_loss: 0.7183 - val_acc: 0.6772\n",
      "Epoch 14/40\n",
      "2434/2435 [============================>.] - ETA: 0s - loss: 0.9984 - acc: 0.5744\n",
      "Epoch 00014: ReduceLROnPlateau reducing learning rate to 0.0001250000059371814.\n",
      "2435/2435 [==============================] - 59s 24ms/step - loss: 0.9985 - acc: 0.5744 - val_loss: 0.7265 - val_acc: 0.6642\n",
      "Epoch 15/40\n",
      "2435/2435 [==============================] - 57s 23ms/step - loss: 0.9733 - acc: 0.5890 - val_loss: 0.7989 - val_acc: 0.6333\n",
      "Epoch 16/40\n",
      "2433/2435 [============================>.] - ETA: 0s - loss: 0.9590 - acc: 0.5919- ETA: 1s - lo\n",
      "Epoch 00016: ReduceLROnPlateau reducing learning rate to 6.25000029685907e-05.\n",
      "2435/2435 [==============================] - 57s 24ms/step - loss: 0.9590 - acc: 0.5920 - val_loss: 0.8147 - val_acc: 0.6325\n",
      "Epoch 17/40\n",
      "2435/2435 [==============================] - 57s 24ms/step - loss: 0.9565 - acc: 0.5939 - val_loss: 0.6787 - val_acc: 0.6834\n",
      "Epoch 18/40\n",
      "2435/2435 [==============================] - 57s 23ms/step - loss: 0.9329 - acc: 0.6021 - val_loss: 0.7229 - val_acc: 0.6626\n",
      "Epoch 19/40\n",
      "2435/2435 [==============================] - 56s 23ms/step - loss: 0.9343 - acc: 0.6016 - val_loss: 0.6476 - val_acc: 0.6936\n",
      "Epoch 20/40\n",
      "2435/2435 [==============================] - 57s 23ms/step - loss: 0.9320 - acc: 0.6000 - val_loss: 0.7758 - val_acc: 0.6404\n",
      "Epoch 21/40\n",
      "2434/2435 [============================>.] - ETA: 0s - loss: 0.9365 - acc: 0.5999\n",
      "Epoch 00021: ReduceLROnPlateau reducing learning rate to 3.125000148429535e-05.\n",
      "2435/2435 [==============================] - 57s 23ms/step - loss: 0.9364 - acc: 0.5999 - val_loss: 0.6609 - val_acc: 0.6872\n",
      "Epoch 22/40\n",
      "2435/2435 [==============================] - 59s 24ms/step - loss: 0.9254 - acc: 0.6029 - val_loss: 0.7187 - val_acc: 0.6611\n",
      "Epoch 23/40\n",
      "2433/2435 [============================>.] - ETA: 0s - loss: 0.9225 - acc: 0.6071\n",
      "Epoch 00023: ReduceLROnPlateau reducing learning rate to 1.5625000742147677e-05.\n",
      "2435/2435 [==============================] - 58s 24ms/step - loss: 0.9225 - acc: 0.6072 - val_loss: 0.6820 - val_acc: 0.6741\n",
      "Epoch 24/40\n",
      "2435/2435 [==============================] - 59s 24ms/step - loss: 0.9118 - acc: 0.6123 - val_loss: 0.6410 - val_acc: 0.6890\n",
      "Epoch 25/40\n",
      "2434/2435 [============================>.] - ETA: 0s - loss: 0.9092 - acc: 0.6110\n",
      "Epoch 00025: ReduceLROnPlateau reducing learning rate to 1e-05.\n",
      "2435/2435 [==============================] - 59s 24ms/step - loss: 0.9092 - acc: 0.6110 - val_loss: 0.6628 - val_acc: 0.6813\n",
      "Epoch 26/40\n",
      "2435/2435 [==============================] - 59s 24ms/step - loss: 0.9270 - acc: 0.6034 - val_loss: 0.6654 - val_acc: 0.6773\n",
      "Epoch 27/40\n",
      "2435/2435 [==============================] - 59s 24ms/step - loss: 0.9122 - acc: 0.6137 - val_loss: 0.6577 - val_acc: 0.6810\n",
      "Epoch 28/40\n",
      "2435/2435 [==============================] - 59s 24ms/step - loss: 0.9129 - acc: 0.6094 - val_loss: 0.6716 - val_acc: 0.6745\n",
      "Epoch 29/40\n",
      "2435/2435 [==============================] - 59s 24ms/step - loss: 0.9059 - acc: 0.6133 - val_loss: 0.6447 - val_acc: 0.6877\n",
      "Epoch 30/40\n",
      "2435/2435 [==============================] - 59s 24ms/step - loss: 0.9074 - acc: 0.6095 - val_loss: 0.6676 - val_acc: 0.6750\n",
      "Epoch 31/40\n",
      "2435/2435 [==============================] - 62s 25ms/step - loss: 0.9117 - acc: 0.6055 - val_loss: 0.6711 - val_acc: 0.6744\n",
      "Epoch 32/40\n",
      "2435/2435 [==============================] - 59s 24ms/step - loss: 0.9034 - acc: 0.6115 - val_loss: 0.6500 - val_acc: 0.6831\n",
      "Epoch 33/40\n",
      "2435/2435 [==============================] - 59s 24ms/step - loss: 0.9108 - acc: 0.6096 - val_loss: 0.6598 - val_acc: 0.6788\n",
      "Epoch 34/40\n",
      "2435/2435 [==============================] - 58s 24ms/step - loss: 0.9099 - acc: 0.6094 - val_loss: 0.6462 - val_acc: 0.6831\n"
     ]
    }
   ],
   "source": [
    "history = model.fit_generator(train_generator,\n",
    "                              epochs=40,\n",
    "                              validation_data=validation_generator,\n",
    "                              validation_steps=total_validate//batch_size,\n",
    "                              steps_per_epoch=total_train//batch_size,\n",
    "                              callbacks=[earlystop,learning_rate_reduction])"
   ]
  },
  {
   "cell_type": "code",
   "execution_count": 31,
   "metadata": {},
   "outputs": [
    {
     "data": {
      "image/png": "[encoded data removed]",
      "text/plain": [
       "<Figure size 432x288 with 1 Axes>"
      ]
     },
     "metadata": {
      "needs_background": "light"
     },
     "output_type": "display_data"
    }
   ],
   "source": [
    "plt.plot(history.history['acc'])\n",
    "plt.plot(history.history['val_acc'])\n",
    "plt.legend(['training', 'validation'], loc = 'upper left')\n",
    "plt.show()"
   ]
  },
  {
   "cell_type": "code",
   "execution_count": 32,
   "metadata": {},
   "outputs": [
    {
     "name": "stdout",
     "output_type": "stream",
     "text": [
      "2436/2436 [==============================] - 32s 13ms/step - loss: 0.6793 - acc: 0.6984\n"
     ]
    },
    {
     "data": {
      "text/plain": [
       "[0.6793234348297119, 0.6984029412269592]"
      ]
     },
     "execution_count": 32,
     "metadata": {},
     "output_type": "execute_result"
    }
   ],
   "source": [
    "model.evaluate(train_generator)"
   ]
  },
  {
   "cell_type": "code",
   "execution_count": 33,
   "metadata": {},
   "outputs": [],
   "source": [
    "model.save(\"model_2eyes_80_24.h5\")"
   ]
  },
  {
   "cell_type": "code",
   "execution_count": null,
   "metadata": {},
   "outputs": [],
   "source": [
    "loaded_model = load_model('model_2eyes.h5')\n",
    "loaded_model.evaluate(train_generator)"
   ]
  },
  {
   "cell_type": "markdown",
   "metadata": {},
   "source": [
    "### pretrained model을 통한 예측"
   ]
  },
  {
   "cell_type": "code",
   "execution_count": 117,
   "metadata": {},
   "outputs": [],
   "source": [
    "categories=[]\n",
    "train_dir=os.listdir(\"faces\")\n",
    "for filename in train_dir:\n",
    "    category=filename.split('_')[0]\n",
    "    if category == 'bonghwang':\n",
    "        categories.append('bonghwang')\n",
    "    if category == 'dohwa':\n",
    "        categories.append('dohwa')\n",
    "    if category == 'gongjak':\n",
    "        categories.append('gongjak')\n",
    "    if category == 'horang':\n",
    "        categories.append('horang')\n",
    "    if category == 'so':\n",
    "        categories.append('so')\n",
    "    if category == 'yong':\n",
    "        categories.append('yong')"
   ]
  },
  {
   "cell_type": "code",
   "execution_count": 118,
   "metadata": {
    "scrolled": true
   },
   "outputs": [
    {
     "data": {
      "text/plain": [
       "['bonghwang',\n",
       " 'bonghwang',\n",
       " 'bonghwang',\n",
       " 'bonghwang',\n",
       " 'bonghwang',\n",
       " 'bonghwang',\n",
       " 'gongjak',\n",
       " 'gongjak',\n",
       " 'gongjak',\n",
       " 'gongjak']"
      ]
     },
     "execution_count": 118,
     "metadata": {},
     "output_type": "execute_result"
    }
   ],
   "source": [
    "categories"
   ]
  },
  {
   "cell_type": "code",
   "execution_count": 119,
   "metadata": {},
   "outputs": [
    {
     "data": {
      "text/html": [
       "<div>\n",
       "<style scoped>\n",
       "    .dataframe tbody tr th:only-of-type {\n",
       "        vertical-align: middle;\n",
       "    }\n",
       "\n",
       "    .dataframe tbody tr th {\n",
       "        vertical-align: top;\n",
       "    }\n",
       "\n",
       "    .dataframe thead th {\n",
       "        text-align: right;\n",
       "    }\n",
       "</style>\n",
       "<table border=\"1\" class=\"dataframe\">\n",
       "  <thead>\n",
       "    <tr style=\"text-align: right;\">\n",
       "      <th></th>\n",
       "      <th>filename</th>\n",
       "      <th>category</th>\n",
       "    </tr>\n",
       "  </thead>\n",
       "  <tbody>\n",
       "    <tr>\n",
       "      <th>0</th>\n",
       "      <td>bonghwang_1.jpg</td>\n",
       "      <td>bonghwang</td>\n",
       "    </tr>\n",
       "    <tr>\n",
       "      <th>1</th>\n",
       "      <td>bonghwang_2.jpg</td>\n",
       "      <td>bonghwang</td>\n",
       "    </tr>\n",
       "    <tr>\n",
       "      <th>2</th>\n",
       "      <td>bonghwang_3.jpg</td>\n",
       "      <td>bonghwang</td>\n",
       "    </tr>\n",
       "    <tr>\n",
       "      <th>3</th>\n",
       "      <td>bonghwang_4.jpg</td>\n",
       "      <td>bonghwang</td>\n",
       "    </tr>\n",
       "    <tr>\n",
       "      <th>4</th>\n",
       "      <td>bonghwang_5.jpg</td>\n",
       "      <td>bonghwang</td>\n",
       "    </tr>\n",
       "    <tr>\n",
       "      <th>5</th>\n",
       "      <td>bonghwang_6.jpg</td>\n",
       "      <td>bonghwang</td>\n",
       "    </tr>\n",
       "    <tr>\n",
       "      <th>6</th>\n",
       "      <td>gongjak_1.jpg</td>\n",
       "      <td>gongjak</td>\n",
       "    </tr>\n",
       "    <tr>\n",
       "      <th>7</th>\n",
       "      <td>gongjak_2.jpg</td>\n",
       "      <td>gongjak</td>\n",
       "    </tr>\n",
       "    <tr>\n",
       "      <th>8</th>\n",
       "      <td>gongjak_3.jpg</td>\n",
       "      <td>gongjak</td>\n",
       "    </tr>\n",
       "    <tr>\n",
       "      <th>9</th>\n",
       "      <td>gongjak_4.jpg</td>\n",
       "      <td>gongjak</td>\n",
       "    </tr>\n",
       "  </tbody>\n",
       "</table>\n",
       "</div>"
      ],
      "text/plain": [
       "          filename   category\n",
       "0  bonghwang_1.jpg  bonghwang\n",
       "1  bonghwang_2.jpg  bonghwang\n",
       "2  bonghwang_3.jpg  bonghwang\n",
       "3  bonghwang_4.jpg  bonghwang\n",
       "4  bonghwang_5.jpg  bonghwang\n",
       "5  bonghwang_6.jpg  bonghwang\n",
       "6    gongjak_1.jpg    gongjak\n",
       "7    gongjak_2.jpg    gongjak\n",
       "8    gongjak_3.jpg    gongjak\n",
       "9    gongjak_4.jpg    gongjak"
      ]
     },
     "execution_count": 119,
     "metadata": {},
     "output_type": "execute_result"
    }
   ],
   "source": [
    "df=pd.DataFrame({'filename':train_dir,'category':categories})\n",
    "df"
   ]
  },
  {
   "cell_type": "code",
   "execution_count": 120,
   "metadata": {},
   "outputs": [
    {
     "name": "stdout",
     "output_type": "stream",
     "text": [
      "Found 10 validated image filenames belonging to 2 classes.\n"
     ]
    }
   ],
   "source": [
    "validation_datagen = ImageDataGenerator(rescale=1./255)\n",
    "\n",
    "validation_generator = validation_datagen.flow_from_dataframe(df,\n",
    "                                 'faces/',\n",
    "                                 x_col='filename',\n",
    "                                 y_col='category',\n",
    "                                  target_size=IMAGE_SIZE,\n",
    "                                  class_mode='categorical',\n",
    "                                  batch_size=batch_size)"
   ]
  },
  {
   "cell_type": "code",
   "execution_count": 121,
   "metadata": {},
   "outputs": [
    {
     "name": "stdout",
     "output_type": "stream",
     "text": [
      "{'bonghwang': 0, 'gongjak': 1}\n",
      "[[0.067 0.022 0.820 0.000 0.089 0.003]\n",
      " [0.995 0.003 0.000 0.000 0.001 0.001]\n",
      " [0.000 0.000 0.010 0.000 0.000 0.989]\n",
      " [0.067 0.022 0.820 0.000 0.089 0.003]\n",
      " [0.440 0.296 0.085 0.000 0.179 0.000]\n",
      " [0.287 0.099 0.424 0.014 0.174 0.002]\n",
      " [0.989 0.001 0.009 0.000 0.001 0.000]\n",
      " [0.966 0.018 0.002 0.000 0.005 0.008]\n",
      " [0.000 0.000 0.008 0.000 0.000 0.992]\n",
      " [0.440 0.296 0.085 0.000 0.179 0.000]]\n"
     ]
    }
   ],
   "source": [
    "output = loaded_model.predict_generator(validation_generator,steps = 1)\n",
    "np.set_printoptions(formatter={'float': lambda x: \"{0:0.3f}\".format(x)})\n",
    "print(validation_generator.class_indices)\n",
    "print(output)"
   ]
  },
  {
   "cell_type": "code",
   "execution_count": 122,
   "metadata": {},
   "outputs": [
    {
     "name": "stdout",
     "output_type": "stream",
     "text": [
      "10\n"
     ]
    }
   ],
   "source": [
    "test=[]\n",
    "print(len(output))\n",
    "for i in output:\n",
    "    test.append(i.argmax())"
   ]
  },
  {
   "cell_type": "code",
   "execution_count": 123,
   "metadata": {},
   "outputs": [
    {
     "data": {
      "text/plain": [
       "[2, 0, 5, 2, 0, 2, 0, 0, 5, 0]"
      ]
     },
     "execution_count": 123,
     "metadata": {},
     "output_type": "execute_result"
    }
   ],
   "source": [
    "test"
   ]
  },
  {
   "cell_type": "code",
   "execution_count": 136,
   "metadata": {},
   "outputs": [],
   "source": [
    "dap = [0,0,0,0,0,0,1,1,1,1]"
   ]
  },
  {
   "cell_type": "code",
   "execution_count": 137,
   "metadata": {},
   "outputs": [],
   "source": [
    "acc = []\n",
    "for i in range(10):\n",
    "    if test[i] == dap[i]:\n",
    "        acc.append(1)\n",
    "    else:\n",
    "        acc.append(0)"
   ]
  },
  {
   "cell_type": "code",
   "execution_count": 138,
   "metadata": {},
   "outputs": [
    {
     "data": {
      "text/plain": [
       "[0, 1, 0, 0, 1, 0, 0, 0, 0, 0]"
      ]
     },
     "execution_count": 138,
     "metadata": {},
     "output_type": "execute_result"
    }
   ],
   "source": [
    "acc"
   ]
  },
  {
   "cell_type": "code",
   "execution_count": 128,
   "metadata": {},
   "outputs": [
    {
     "ename": "NameError",
     "evalue": "name 'ᄆᄎᄎ' is not defined",
     "output_type": "error",
     "traceback": [
      "\u001b[1;31m---------------------------------------------------------------------------\u001b[0m",
      "\u001b[1;31mNameError\u001b[0m                                 Traceback (most recent call last)",
      "\u001b[1;32m<ipython-input-128-44249012eec0>\u001b[0m in \u001b[0;36m<module>\u001b[1;34m\u001b[0m\n\u001b[1;32m----> 1\u001b[1;33m \u001b[0mㅁㅊㅊ\u001b[0m\u001b[1;33m\u001b[0m\u001b[1;33m\u001b[0m\u001b[0m\n\u001b[0m",
      "\u001b[1;31mNameError\u001b[0m: name 'ᄆᄎᄎ' is not defined"
     ]
    }
   ],
   "source": []
  },
  {
   "cell_type": "code",
   "execution_count": null,
   "metadata": {},
   "outputs": [],
   "source": []
  }
 ],
 "metadata": {
  "kernelspec": {
   "display_name": "Python 3",
   "language": "python",
   "name": "python3"
  },
  "language_info": {
   "codemirror_mode": {
    "name": "ipython",
    "version": 3
   },
   "file_extension": ".py",
   "mimetype": "text/x-python",
   "name": "python",
   "nbconvert_exporter": "python",
   "pygments_lexer": "ipython3",
   "version": "3.7.7"
  }
 },
 "nbformat": 4,
 "nbformat_minor": 4
}
