{
 "cells": [
  {
   "cell_type": "code",
   "execution_count": 126,
   "metadata": {
    "scrolled": true
   },
   "outputs": [],
   "source": [
    "import numpy as np\n",
    "import pandas as pd \n",
    "from keras.preprocessing.image import ImageDataGenerator, load_img, img_to_array\n",
    "from keras.utils import to_categorical\n",
    "from sklearn.model_selection import train_test_split\n",
    "import matplotlib.pyplot as plt\n",
    "import random\n",
    "import os\n",
    "from tensorflow.keras.models import load_model"
   ]
  },
  {
   "cell_type": "code",
   "execution_count": 196,
   "metadata": {},
   "outputs": [],
   "source": [
    "IMAGE_WIDTH=150\n",
    "IMAGE_HEIGHT=50\n",
    "IMAGE_SIZE=(IMAGE_WIDTH, IMAGE_HEIGHT)\n",
    "IMAGE_CHANNELS = 3 # color or gray\n",
    "batch_size= 10"
   ]
  },
  {
   "cell_type": "code",
   "execution_count": 197,
   "metadata": {},
   "outputs": [],
   "source": [
    "categories=[]\n",
    "train_dir=os.listdir(\"images/img_mining/2eyes/augmented\")\n",
    "for filename in train_dir:\n",
    "    category=filename.split(' ')[0]\n",
    "    if category == 'bonghwang':\n",
    "        categories.append('bonghwang')\n",
    "    if category == 'dohwa':\n",
    "        categories.append('dohwa')\n",
    "    if category == 'gongjak':\n",
    "        categories.append('gongjak')\n",
    "    if category == 'horang':\n",
    "        categories.append('horang')\n",
    "    if category == 'so':\n",
    "        categories.append('so')\n",
    "    if category == 'yong':\n",
    "        categories.append('yong')"
   ]
  },
  {
   "cell_type": "code",
   "execution_count": 198,
   "metadata": {},
   "outputs": [
    {
     "data": {
      "text/html": [
       "<div>\n",
       "<style scoped>\n",
       "    .dataframe tbody tr th:only-of-type {\n",
       "        vertical-align: middle;\n",
       "    }\n",
       "\n",
       "    .dataframe tbody tr th {\n",
       "        vertical-align: top;\n",
       "    }\n",
       "\n",
       "    .dataframe thead th {\n",
       "        text-align: right;\n",
       "    }\n",
       "</style>\n",
       "<table border=\"1\" class=\"dataframe\">\n",
       "  <thead>\n",
       "    <tr style=\"text-align: right;\">\n",
       "      <th></th>\n",
       "      <th>filename</th>\n",
       "      <th>category</th>\n",
       "    </tr>\n",
       "  </thead>\n",
       "  <tbody>\n",
       "    <tr>\n",
       "      <th>0</th>\n",
       "      <td>bonghwang 100_0.jpg</td>\n",
       "      <td>bonghwang</td>\n",
       "    </tr>\n",
       "    <tr>\n",
       "      <th>1</th>\n",
       "      <td>bonghwang 100_1.jpg</td>\n",
       "      <td>bonghwang</td>\n",
       "    </tr>\n",
       "    <tr>\n",
       "      <th>2</th>\n",
       "      <td>bonghwang 100_10.jpg</td>\n",
       "      <td>bonghwang</td>\n",
       "    </tr>\n",
       "    <tr>\n",
       "      <th>3</th>\n",
       "      <td>bonghwang 100_11.jpg</td>\n",
       "      <td>bonghwang</td>\n",
       "    </tr>\n",
       "    <tr>\n",
       "      <th>4</th>\n",
       "      <td>bonghwang 100_12.jpg</td>\n",
       "      <td>bonghwang</td>\n",
       "    </tr>\n",
       "    <tr>\n",
       "      <th>...</th>\n",
       "      <td>...</td>\n",
       "      <td>...</td>\n",
       "    </tr>\n",
       "    <tr>\n",
       "      <th>30442</th>\n",
       "      <td>yong 9_50.jpg</td>\n",
       "      <td>yong</td>\n",
       "    </tr>\n",
       "    <tr>\n",
       "      <th>30443</th>\n",
       "      <td>yong 9_6.jpg</td>\n",
       "      <td>yong</td>\n",
       "    </tr>\n",
       "    <tr>\n",
       "      <th>30444</th>\n",
       "      <td>yong 9_7.jpg</td>\n",
       "      <td>yong</td>\n",
       "    </tr>\n",
       "    <tr>\n",
       "      <th>30445</th>\n",
       "      <td>yong 9_8.jpg</td>\n",
       "      <td>yong</td>\n",
       "    </tr>\n",
       "    <tr>\n",
       "      <th>30446</th>\n",
       "      <td>yong 9_9.jpg</td>\n",
       "      <td>yong</td>\n",
       "    </tr>\n",
       "  </tbody>\n",
       "</table>\n",
       "<p>30447 rows × 2 columns</p>\n",
       "</div>"
      ],
      "text/plain": [
       "                   filename   category\n",
       "0       bonghwang 100_0.jpg  bonghwang\n",
       "1       bonghwang 100_1.jpg  bonghwang\n",
       "2      bonghwang 100_10.jpg  bonghwang\n",
       "3      bonghwang 100_11.jpg  bonghwang\n",
       "4      bonghwang 100_12.jpg  bonghwang\n",
       "...                     ...        ...\n",
       "30442         yong 9_50.jpg       yong\n",
       "30443          yong 9_6.jpg       yong\n",
       "30444          yong 9_7.jpg       yong\n",
       "30445          yong 9_8.jpg       yong\n",
       "30446          yong 9_9.jpg       yong\n",
       "\n",
       "[30447 rows x 2 columns]"
      ]
     },
     "execution_count": 198,
     "metadata": {},
     "output_type": "execute_result"
    }
   ],
   "source": [
    "df=pd.DataFrame({'filename':train_dir,'category':categories})\n",
    "df"
   ]
  },
  {
   "cell_type": "code",
   "execution_count": 199,
   "metadata": {},
   "outputs": [],
   "source": [
    "train_df, validate_df = train_test_split(df, test_size=0.20, random_state=777)\n",
    "train_df = train_df.reset_index(drop=True)\n",
    "validate_df = validate_df.reset_index(drop=True)"
   ]
  },
  {
   "cell_type": "code",
   "execution_count": 200,
   "metadata": {},
   "outputs": [],
   "source": [
    "train_df = train_df.reset_index(drop=True)\n",
    "validate_df = validate_df.reset_index(drop=True)"
   ]
  },
  {
   "cell_type": "code",
   "execution_count": 201,
   "metadata": {},
   "outputs": [
    {
     "data": {
      "text/plain": [
       "<matplotlib.axes._subplots.AxesSubplot at 0x1900ec92108>"
      ]
     },
     "execution_count": 201,
     "metadata": {},
     "output_type": "execute_result"
    },
    {
     "data": {
      "image/png": "[encoded data removed]",
      "text/plain": [
       "<Figure size 432x288 with 1 Axes>"
      ]
     },
     "metadata": {
      "needs_background": "light"
     },
     "output_type": "display_data"
    }
   ],
   "source": [
    "train_df['category'].value_counts().plot.bar()"
   ]
  },
  {
   "cell_type": "code",
   "execution_count": 202,
   "metadata": {},
   "outputs": [
    {
     "data": {
      "text/plain": [
       "<matplotlib.axes._subplots.AxesSubplot at 0x1900fd2a748>"
      ]
     },
     "execution_count": 202,
     "metadata": {},
     "output_type": "execute_result"
    },
    {
     "data": {
      "image/png": "[encoded data removed]",
      "text/plain": [
       "<Figure size 432x288 with 1 Axes>"
      ]
     },
     "metadata": {
      "needs_background": "light"
     },
     "output_type": "display_data"
    }
   ],
   "source": [
    "validate_df['category'].value_counts().plot.bar()"
   ]
  },
  {
   "cell_type": "code",
   "execution_count": 203,
   "metadata": {},
   "outputs": [],
   "source": [
    "total_train = train_df.shape[0]\n",
    "total_validate = validate_df.shape[0]\n"
   ]
  },
  {
   "cell_type": "code",
   "execution_count": 204,
   "metadata": {},
   "outputs": [],
   "source": [
    "train_datagen = ImageDataGenerator(rotation_range=15,\n",
    "                                   rescale=1./255,\n",
    "                                   shear_range=0.1,\n",
    "                                   zoom_range=0.2,\n",
    "                                   horizontal_flip=True,\n",
    "                                   width_shift_range=0.1,\n",
    "                                   height_shift_range=0.1)"
   ]
  },
  {
   "cell_type": "code",
   "execution_count": 205,
   "metadata": {},
   "outputs": [
    {
     "name": "stdout",
     "output_type": "stream",
     "text": [
      "Found 24357 validated image filenames belonging to 6 classes.\n"
     ]
    }
   ],
   "source": [
    "train_generator=train_datagen.flow_from_dataframe(train_df,\n",
    "                                 'images/img_mining/2eyes/augmented',\n",
    "                                 x_col='filename',\n",
    "                                 y_col='category',\n",
    "                                  target_size=IMAGE_SIZE,\n",
    "                                  class_mode='categorical',\n",
    "                                  batch_size=batch_size\n",
    "                                 )"
   ]
  },
  {
   "cell_type": "code",
   "execution_count": 206,
   "metadata": {},
   "outputs": [
    {
     "name": "stdout",
     "output_type": "stream",
     "text": [
      "Found 6090 validated image filenames belonging to 6 classes.\n"
     ]
    }
   ],
   "source": [
    "validation_datagen = ImageDataGenerator(rescale=1./255)\n",
    "\n",
    "validation_generator = validation_datagen.flow_from_dataframe(validate_df,\n",
    "                                                              \"images/img_mining/2eyes/augmented\",\n",
    "                                                              x_col='filename',\n",
    "                                                              y_col='category',\n",
    "                                                              target_size=IMAGE_SIZE,\n",
    "                                                              class_mode='categorical',\n",
    "                                                              batch_size=batch_size)"
   ]
  },
  {
   "cell_type": "code",
   "execution_count": 207,
   "metadata": {},
   "outputs": [],
   "source": [
    "from keras.models import Sequential\n",
    "from keras.layers import *"
   ]
  },
  {
   "cell_type": "code",
   "execution_count": 208,
   "metadata": {
    "scrolled": true
   },
   "outputs": [
    {
     "name": "stdout",
     "output_type": "stream",
     "text": [
      "Model: \"sequential_11\"\n",
      "_________________________________________________________________\n",
      "Layer (type)                 Output Shape              Param #   \n",
      "=================================================================\n",
      "conv2d_33 (Conv2D)           (None, 148, 48, 32)       896       \n",
      "_________________________________________________________________\n",
      "batch_normalization_44 (Batc (None, 148, 48, 32)       128       \n",
      "_________________________________________________________________\n",
      "max_pooling2d_33 (MaxPooling (None, 74, 24, 32)        0         \n",
      "_________________________________________________________________\n",
      "dropout_44 (Dropout)         (None, 74, 24, 32)        0         \n",
      "_________________________________________________________________\n",
      "conv2d_34 (Conv2D)           (None, 72, 22, 64)        18496     \n",
      "_________________________________________________________________\n",
      "batch_normalization_45 (Batc (None, 72, 22, 64)        256       \n",
      "_________________________________________________________________\n",
      "max_pooling2d_34 (MaxPooling (None, 36, 11, 64)        0         \n",
      "_________________________________________________________________\n",
      "dropout_45 (Dropout)         (None, 36, 11, 64)        0         \n",
      "_________________________________________________________________\n",
      "conv2d_35 (Conv2D)           (None, 34, 9, 128)        73856     \n",
      "_________________________________________________________________\n",
      "batch_normalization_46 (Batc (None, 34, 9, 128)        512       \n",
      "_________________________________________________________________\n",
      "max_pooling2d_35 (MaxPooling (None, 17, 4, 128)        0         \n",
      "_________________________________________________________________\n",
      "dropout_46 (Dropout)         (None, 17, 4, 128)        0         \n",
      "_________________________________________________________________\n",
      "flatten_11 (Flatten)         (None, 8704)              0         \n",
      "_________________________________________________________________\n",
      "dense_22 (Dense)             (None, 512)               4456960   \n",
      "_________________________________________________________________\n",
      "batch_normalization_47 (Batc (None, 512)               2048      \n",
      "_________________________________________________________________\n",
      "dropout_47 (Dropout)         (None, 512)               0         \n",
      "_________________________________________________________________\n",
      "dense_23 (Dense)             (None, 6)                 3078      \n",
      "=================================================================\n",
      "Total params: 4,556,230\n",
      "Trainable params: 4,554,758\n",
      "Non-trainable params: 1,472\n",
      "_________________________________________________________________\n"
     ]
    }
   ],
   "source": [
    "model = Sequential()\n",
    "model.add(Conv2D(32, (3, 3), activation='relu', input_shape=(IMAGE_WIDTH, IMAGE_HEIGHT, IMAGE_CHANNELS)))\n",
    "model.add(BatchNormalization())\n",
    "model.add(MaxPooling2D(pool_size=(2, 2)))\n",
    "model.add(Dropout(0.25))\n",
    "model.add(Conv2D(64, (3, 3), activation='relu'))\n",
    "model.add(BatchNormalization())\n",
    "model.add(MaxPooling2D(pool_size=(2, 2)))\n",
    "model.add(Dropout(0.25))\n",
    "model.add(Conv2D(128, (3, 3), activation='relu'))\n",
    "model.add(BatchNormalization())\n",
    "model.add(MaxPooling2D(pool_size=(2, 2)))\n",
    "model.add(Dropout(0.25))\n",
    "model.add(Flatten())\n",
    "model.add(Dense(512, activation='relu'))\n",
    "model.add(BatchNormalization())\n",
    "model.add(Dropout(0.5))\n",
    "model.add(Dense(6, activation='softmax')) \n",
    "model.compile(loss='categorical_crossentropy', optimizer='adam', metrics=['acc'])\n",
    "model.summary()"
   ]
  },
  {
   "cell_type": "code",
   "execution_count": 209,
   "metadata": {},
   "outputs": [],
   "source": [
    "from keras.callbacks import EarlyStopping, ReduceLROnPlateau"
   ]
  },
  {
   "cell_type": "code",
   "execution_count": 210,
   "metadata": {},
   "outputs": [],
   "source": [
    "earlystop = EarlyStopping(patience=10),\n",
    "learning_rate_reduction = ReduceLROnPlateau(monitor='val_acc',\n",
    "                                           patience=2,\n",
    "                                           verbose=1,\n",
    "                                            factor=0.5,\n",
    "                                            min_lr=0.00001)"
   ]
  },
  {
   "cell_type": "code",
   "execution_count": 211,
   "metadata": {
    "scrolled": false
   },
   "outputs": [
    {
     "name": "stdout",
     "output_type": "stream",
     "text": [
      "Epoch 1/40\n",
      "2435/2435 [==============================] - 419s 172ms/step - loss: 1.9158 - acc: 0.2732 - val_loss: 1.6003 - val_acc: 0.3399\n",
      "Epoch 2/40\n",
      "2435/2435 [==============================] - 360s 148ms/step - loss: 1.5812 - acc: 0.3506 - val_loss: 1.2644 - val_acc: 0.4773\n",
      "Epoch 3/40\n",
      "2435/2435 [==============================] - 360s 148ms/step - loss: 1.4859 - acc: 0.3888 - val_loss: 1.7813 - val_acc: 0.2731\n",
      "Epoch 4/40\n",
      "2435/2435 [==============================] - 370s 152ms/step - loss: 1.4007 - acc: 0.4240 - val_loss: 1.1200 - val_acc: 0.5136\n",
      "Epoch 5/40\n",
      "2435/2435 [==============================] - 291s 119ms/step - loss: 1.3838 - acc: 0.4310 - val_loss: 1.4321 - val_acc: 0.4452\n",
      "Epoch 6/40\n",
      "2435/2435 [==============================] - ETA: 0s - loss: 1.2734 - acc: 0.4748\n",
      "Epoch 00006: ReduceLROnPlateau reducing learning rate to 0.0005000000237487257.\n",
      "2435/2435 [==============================] - 284s 117ms/step - loss: 1.2734 - acc: 0.4748 - val_loss: 1.4969 - val_acc: 0.4123\n",
      "Epoch 7/40\n",
      "2435/2435 [==============================] - 287s 118ms/step - loss: 1.1831 - acc: 0.5095 - val_loss: 0.8401 - val_acc: 0.6273\n",
      "Epoch 8/40\n",
      "2435/2435 [==============================] - 285s 117ms/step - loss: 1.1032 - acc: 0.5380 - val_loss: 0.8025 - val_acc: 0.6486\n",
      "Epoch 9/40\n",
      "2435/2435 [==============================] - 284s 117ms/step - loss: 1.0694 - acc: 0.5533 - val_loss: 0.7224 - val_acc: 0.6856\n",
      "Epoch 10/40\n",
      "2435/2435 [==============================] - 284s 117ms/step - loss: 1.0162 - acc: 0.5743 - val_loss: 0.7068 - val_acc: 0.6752\n",
      "Epoch 11/40\n",
      "2435/2435 [==============================] - 287s 118ms/step - loss: 0.9954 - acc: 0.5819 - val_loss: 0.6440 - val_acc: 0.7061\n",
      "Epoch 12/40\n",
      "2435/2435 [==============================] - 285s 117ms/step - loss: 0.9681 - acc: 0.5877 - val_loss: 0.6089 - val_acc: 0.7074\n",
      "Epoch 13/40\n",
      "2435/2435 [==============================] - 284s 117ms/step - loss: 0.9320 - acc: 0.6032 - val_loss: 0.6358 - val_acc: 0.7103\n",
      "Epoch 14/40\n",
      "2435/2435 [==============================] - 294s 121ms/step - loss: 0.8965 - acc: 0.6153 - val_loss: 0.5870 - val_acc: 0.7153\n",
      "Epoch 15/40\n",
      "2435/2435 [==============================] - 341s 140ms/step - loss: 0.8846 - acc: 0.6239 - val_loss: 0.5606 - val_acc: 0.7274\n",
      "Epoch 16/40\n",
      "2435/2435 [==============================] - 301s 124ms/step - loss: 0.8549 - acc: 0.6291 - val_loss: 0.5071 - val_acc: 0.7585\n",
      "Epoch 17/40\n",
      "2435/2435 [==============================] - 284s 117ms/step - loss: 0.8725 - acc: 0.6199 - val_loss: 0.6150 - val_acc: 0.7126\n",
      "Epoch 18/40\n",
      "2435/2435 [==============================] - ETA: 0s - loss: 0.8386 - acc: 0.6365\n",
      "Epoch 00018: ReduceLROnPlateau reducing learning rate to 0.0002500000118743628.\n",
      "2435/2435 [==============================] - 283s 116ms/step - loss: 0.8386 - acc: 0.6365 - val_loss: 0.5189 - val_acc: 0.7461\n",
      "Epoch 19/40\n",
      "2435/2435 [==============================] - 285s 117ms/step - loss: 0.7905 - acc: 0.6531 - val_loss: 0.5632 - val_acc: 0.7386\n",
      "Epoch 20/40\n",
      "2435/2435 [==============================] - ETA: 0s - loss: 0.7651 - acc: 0.6645\n",
      "Epoch 00020: ReduceLROnPlateau reducing learning rate to 0.0001250000059371814.\n",
      "2435/2435 [==============================] - 282s 116ms/step - loss: 0.7651 - acc: 0.6645 - val_loss: 0.5465 - val_acc: 0.7258\n",
      "Epoch 21/40\n",
      "2435/2435 [==============================] - 286s 117ms/step - loss: 0.7402 - acc: 0.6727 - val_loss: 0.4783 - val_acc: 0.7575\n",
      "Epoch 22/40\n",
      "2435/2435 [==============================] - 283s 116ms/step - loss: 0.7322 - acc: 0.6747 - val_loss: 0.4528 - val_acc: 0.7640\n",
      "Epoch 23/40\n",
      "2435/2435 [==============================] - 282s 116ms/step - loss: 0.7182 - acc: 0.6782 - val_loss: 0.5178 - val_acc: 0.7470\n",
      "Epoch 24/40\n",
      "2435/2435 [==============================] - ETA: 0s - loss: 0.7103 - acc: 0.6798\n",
      "Epoch 00024: ReduceLROnPlateau reducing learning rate to 6.25000029685907e-05.\n",
      "2435/2435 [==============================] - 282s 116ms/step - loss: 0.7103 - acc: 0.6798 - val_loss: 0.4885 - val_acc: 0.7571\n",
      "Epoch 25/40\n",
      "2435/2435 [==============================] - 283s 116ms/step - loss: 0.7054 - acc: 0.6818 - val_loss: 0.4653 - val_acc: 0.7580\n",
      "Epoch 26/40\n",
      "2435/2435 [==============================] - ETA: 0s - loss: 0.6808 - acc: 0.6918\n",
      "Epoch 00026: ReduceLROnPlateau reducing learning rate to 3.125000148429535e-05.\n",
      "2435/2435 [==============================] - 282s 116ms/step - loss: 0.6808 - acc: 0.6918 - val_loss: 0.4630 - val_acc: 0.7606\n",
      "Epoch 27/40\n",
      "2435/2435 [==============================] - 282s 116ms/step - loss: 0.6837 - acc: 0.6862 - val_loss: 0.4587 - val_acc: 0.7585\n",
      "Epoch 28/40\n",
      "2435/2435 [==============================] - ETA: 0s - loss: 0.6828 - acc: 0.6920\n",
      "Epoch 00028: ReduceLROnPlateau reducing learning rate to 1.5625000742147677e-05.\n",
      "2435/2435 [==============================] - 283s 116ms/step - loss: 0.6828 - acc: 0.6920 - val_loss: 0.4590 - val_acc: 0.7622\n",
      "Epoch 29/40\n",
      "2435/2435 [==============================] - 282s 116ms/step - loss: 0.6793 - acc: 0.6908 - val_loss: 0.4792 - val_acc: 0.7547\n",
      "Epoch 30/40\n",
      "2435/2435 [==============================] - ETA: 0s - loss: 0.6832 - acc: 0.6895\n",
      "Epoch 00030: ReduceLROnPlateau reducing learning rate to 1e-05.\n",
      "2435/2435 [==============================] - 283s 116ms/step - loss: 0.6832 - acc: 0.6895 - val_loss: 0.4676 - val_acc: 0.7568\n",
      "Epoch 31/40\n",
      "2435/2435 [==============================] - 282s 116ms/step - loss: 0.6870 - acc: 0.6947 - val_loss: 0.4378 - val_acc: 0.7583\n",
      "Epoch 32/40\n",
      "2435/2435 [==============================] - 282s 116ms/step - loss: 0.6782 - acc: 0.6955 - val_loss: 0.4617 - val_acc: 0.7609\n",
      "Epoch 33/40\n",
      "2435/2435 [==============================] - 282s 116ms/step - loss: 0.6804 - acc: 0.6959 - val_loss: 0.4506 - val_acc: 0.7535\n",
      "Epoch 34/40\n",
      "2435/2435 [==============================] - 282s 116ms/step - loss: 0.6804 - acc: 0.6912 - val_loss: 0.4494 - val_acc: 0.7589\n",
      "Epoch 35/40\n",
      "2435/2435 [==============================] - 282s 116ms/step - loss: 0.6706 - acc: 0.6959 - val_loss: 0.4599 - val_acc: 0.7591\n",
      "Epoch 36/40\n",
      "2435/2435 [==============================] - 282s 116ms/step - loss: 0.6719 - acc: 0.6931 - val_loss: 0.4213 - val_acc: 0.7662\n",
      "Epoch 37/40\n",
      "2435/2435 [==============================] - 283s 116ms/step - loss: 0.6722 - acc: 0.6973 - val_loss: 0.4555 - val_acc: 0.7609\n",
      "Epoch 38/40\n",
      "2435/2435 [==============================] - 283s 116ms/step - loss: 0.6655 - acc: 0.6956 - val_loss: 0.4476 - val_acc: 0.7629\n",
      "Epoch 39/40\n",
      "2435/2435 [==============================] - 282s 116ms/step - loss: 0.6663 - acc: 0.6981 - val_loss: 0.4495 - val_acc: 0.7650\n",
      "Epoch 40/40\n",
      "2435/2435 [==============================] - 282s 116ms/step - loss: 0.6665 - acc: 0.6966 - val_loss: 0.4389 - val_acc: 0.7665\n"
     ]
    }
   ],
   "source": [
    "history = model.fit_generator(train_generator,\n",
    "                              epochs=40,\n",
    "                              validation_data=validation_generator,\n",
    "                              validation_steps=total_validate//batch_size,\n",
    "                              steps_per_epoch=total_train//batch_size,\n",
    "                              callbacks=[earlystop,learning_rate_reduction])"
   ]
  },
  {
   "cell_type": "code",
   "execution_count": 212,
   "metadata": {},
   "outputs": [
    {
     "data": {
      "image/png": "[encoded data removed]",
      "text/plain": [
       "<Figure size 432x288 with 1 Axes>"
      ]
     },
     "metadata": {
      "needs_background": "light"
     },
     "output_type": "display_data"
    }
   ],
   "source": [
    "plt.plot(history.history['acc'])\n",
    "plt.plot(history.history['val_acc'])\n",
    "plt.legend(['training', 'validation'], loc = 'upper left')\n",
    "plt.show()"
   ]
  },
  {
   "cell_type": "code",
   "execution_count": 213,
   "metadata": {},
   "outputs": [
    {
     "name": "stdout",
     "output_type": "stream",
     "text": [
      "2436/2436 [==============================] - 74s 30ms/step - loss: 0.4435 - acc: 0.7852 0s - loss: 0.4423 - ac\n"
     ]
    },
    {
     "data": {
      "text/plain": [
       "[0.4435032606124878, 0.7851541638374329]"
      ]
     },
     "execution_count": 213,
     "metadata": {},
     "output_type": "execute_result"
    }
   ],
   "source": [
    "model.evaluate(train_generator)"
   ]
  },
  {
   "cell_type": "code",
   "execution_count": 214,
   "metadata": {},
   "outputs": [],
   "source": [
    "model.save(\"model_2eyes.h5\")"
   ]
  },
  {
   "cell_type": "code",
   "execution_count": null,
   "metadata": {},
   "outputs": [],
   "source": [
    "loaded_model = load_model('model_2eyes.h5')\n",
    "loaded_model.evaluate(train_generator)"
   ]
  },
  {
   "cell_type": "markdown",
   "metadata": {},
   "source": [
    "### pretrained model을 통한 예측"
   ]
  },
  {
   "cell_type": "code",
   "execution_count": 117,
   "metadata": {},
   "outputs": [],
   "source": [
    "categories=[]\n",
    "train_dir=os.listdir(\"faces\")\n",
    "for filename in train_dir:\n",
    "    category=filename.split('_')[0]\n",
    "    if category == 'bonghwang':\n",
    "        categories.append('bonghwang')\n",
    "    if category == 'dohwa':\n",
    "        categories.append('dohwa')\n",
    "    if category == 'gongjak':\n",
    "        categories.append('gongjak')\n",
    "    if category == 'horang':\n",
    "        categories.append('horang')\n",
    "    if category == 'so':\n",
    "        categories.append('so')\n",
    "    if category == 'yong':\n",
    "        categories.append('yong')"
   ]
  },
  {
   "cell_type": "code",
   "execution_count": 118,
   "metadata": {
    "scrolled": true
   },
   "outputs": [
    {
     "data": {
      "text/plain": [
       "['bonghwang',\n",
       " 'bonghwang',\n",
       " 'bonghwang',\n",
       " 'bonghwang',\n",
       " 'bonghwang',\n",
       " 'bonghwang',\n",
       " 'gongjak',\n",
       " 'gongjak',\n",
       " 'gongjak',\n",
       " 'gongjak']"
      ]
     },
     "execution_count": 118,
     "metadata": {},
     "output_type": "execute_result"
    }
   ],
   "source": [
    "categories"
   ]
  },
  {
   "cell_type": "code",
   "execution_count": 119,
   "metadata": {},
   "outputs": [
    {
     "data": {
      "text/html": [
       "<div>\n",
       "<style scoped>\n",
       "    .dataframe tbody tr th:only-of-type {\n",
       "        vertical-align: middle;\n",
       "    }\n",
       "\n",
       "    .dataframe tbody tr th {\n",
       "        vertical-align: top;\n",
       "    }\n",
       "\n",
       "    .dataframe thead th {\n",
       "        text-align: right;\n",
       "    }\n",
       "</style>\n",
       "<table border=\"1\" class=\"dataframe\">\n",
       "  <thead>\n",
       "    <tr style=\"text-align: right;\">\n",
       "      <th></th>\n",
       "      <th>filename</th>\n",
       "      <th>category</th>\n",
       "    </tr>\n",
       "  </thead>\n",
       "  <tbody>\n",
       "    <tr>\n",
       "      <th>0</th>\n",
       "      <td>bonghwang_1.jpg</td>\n",
       "      <td>bonghwang</td>\n",
       "    </tr>\n",
       "    <tr>\n",
       "      <th>1</th>\n",
       "      <td>bonghwang_2.jpg</td>\n",
       "      <td>bonghwang</td>\n",
       "    </tr>\n",
       "    <tr>\n",
       "      <th>2</th>\n",
       "      <td>bonghwang_3.jpg</td>\n",
       "      <td>bonghwang</td>\n",
       "    </tr>\n",
       "    <tr>\n",
       "      <th>3</th>\n",
       "      <td>bonghwang_4.jpg</td>\n",
       "      <td>bonghwang</td>\n",
       "    </tr>\n",
       "    <tr>\n",
       "      <th>4</th>\n",
       "      <td>bonghwang_5.jpg</td>\n",
       "      <td>bonghwang</td>\n",
       "    </tr>\n",
       "    <tr>\n",
       "      <th>5</th>\n",
       "      <td>bonghwang_6.jpg</td>\n",
       "      <td>bonghwang</td>\n",
       "    </tr>\n",
       "    <tr>\n",
       "      <th>6</th>\n",
       "      <td>gongjak_1.jpg</td>\n",
       "      <td>gongjak</td>\n",
       "    </tr>\n",
       "    <tr>\n",
       "      <th>7</th>\n",
       "      <td>gongjak_2.jpg</td>\n",
       "      <td>gongjak</td>\n",
       "    </tr>\n",
       "    <tr>\n",
       "      <th>8</th>\n",
       "      <td>gongjak_3.jpg</td>\n",
       "      <td>gongjak</td>\n",
       "    </tr>\n",
       "    <tr>\n",
       "      <th>9</th>\n",
       "      <td>gongjak_4.jpg</td>\n",
       "      <td>gongjak</td>\n",
       "    </tr>\n",
       "  </tbody>\n",
       "</table>\n",
       "</div>"
      ],
      "text/plain": [
       "          filename   category\n",
       "0  bonghwang_1.jpg  bonghwang\n",
       "1  bonghwang_2.jpg  bonghwang\n",
       "2  bonghwang_3.jpg  bonghwang\n",
       "3  bonghwang_4.jpg  bonghwang\n",
       "4  bonghwang_5.jpg  bonghwang\n",
       "5  bonghwang_6.jpg  bonghwang\n",
       "6    gongjak_1.jpg    gongjak\n",
       "7    gongjak_2.jpg    gongjak\n",
       "8    gongjak_3.jpg    gongjak\n",
       "9    gongjak_4.jpg    gongjak"
      ]
     },
     "execution_count": 119,
     "metadata": {},
     "output_type": "execute_result"
    }
   ],
   "source": [
    "df=pd.DataFrame({'filename':train_dir,'category':categories})\n",
    "df"
   ]
  },
  {
   "cell_type": "code",
   "execution_count": 120,
   "metadata": {},
   "outputs": [
    {
     "name": "stdout",
     "output_type": "stream",
     "text": [
      "Found 10 validated image filenames belonging to 2 classes.\n"
     ]
    }
   ],
   "source": [
    "validation_datagen = ImageDataGenerator(rescale=1./255)\n",
    "\n",
    "validation_generator = validation_datagen.flow_from_dataframe(df,\n",
    "                                 'faces/',\n",
    "                                 x_col='filename',\n",
    "                                 y_col='category',\n",
    "                                  target_size=IMAGE_SIZE,\n",
    "                                  class_mode='categorical',\n",
    "                                  batch_size=batch_size)"
   ]
  },
  {
   "cell_type": "code",
   "execution_count": 121,
   "metadata": {},
   "outputs": [
    {
     "name": "stdout",
     "output_type": "stream",
     "text": [
      "{'bonghwang': 0, 'gongjak': 1}\n",
      "[[0.067 0.022 0.820 0.000 0.089 0.003]\n",
      " [0.995 0.003 0.000 0.000 0.001 0.001]\n",
      " [0.000 0.000 0.010 0.000 0.000 0.989]\n",
      " [0.067 0.022 0.820 0.000 0.089 0.003]\n",
      " [0.440 0.296 0.085 0.000 0.179 0.000]\n",
      " [0.287 0.099 0.424 0.014 0.174 0.002]\n",
      " [0.989 0.001 0.009 0.000 0.001 0.000]\n",
      " [0.966 0.018 0.002 0.000 0.005 0.008]\n",
      " [0.000 0.000 0.008 0.000 0.000 0.992]\n",
      " [0.440 0.296 0.085 0.000 0.179 0.000]]\n"
     ]
    }
   ],
   "source": [
    "output = loaded_model.predict_generator(validation_generator,steps = 1)\n",
    "np.set_printoptions(formatter={'float': lambda x: \"{0:0.3f}\".format(x)})\n",
    "print(validation_generator.class_indices)\n",
    "print(output)"
   ]
  },
  {
   "cell_type": "code",
   "execution_count": 122,
   "metadata": {},
   "outputs": [
    {
     "name": "stdout",
     "output_type": "stream",
     "text": [
      "10\n"
     ]
    }
   ],
   "source": [
    "test=[]\n",
    "print(len(output))\n",
    "for i in output:\n",
    "    test.append(i.argmax())"
   ]
  },
  {
   "cell_type": "code",
   "execution_count": 123,
   "metadata": {},
   "outputs": [
    {
     "data": {
      "text/plain": [
       "[2, 0, 5, 2, 0, 2, 0, 0, 5, 0]"
      ]
     },
     "execution_count": 123,
     "metadata": {},
     "output_type": "execute_result"
    }
   ],
   "source": [
    "test"
   ]
  },
  {
   "cell_type": "code",
   "execution_count": 136,
   "metadata": {},
   "outputs": [],
   "source": [
    "dap = [0,0,0,0,0,0,1,1,1,1]"
   ]
  },
  {
   "cell_type": "code",
   "execution_count": 137,
   "metadata": {},
   "outputs": [],
   "source": [
    "acc = []\n",
    "for i in range(10):\n",
    "    if test[i] == dap[i]:\n",
    "        acc.append(1)\n",
    "    else:\n",
    "        acc.append(0)"
   ]
  },
  {
   "cell_type": "code",
   "execution_count": 138,
   "metadata": {},
   "outputs": [
    {
     "data": {
      "text/plain": [
       "[0, 1, 0, 0, 1, 0, 0, 0, 0, 0]"
      ]
     },
     "execution_count": 138,
     "metadata": {},
     "output_type": "execute_result"
    }
   ],
   "source": [
    "acc"
   ]
  },
  {
   "cell_type": "code",
   "execution_count": 128,
   "metadata": {},
   "outputs": [
    {
     "ename": "NameError",
     "evalue": "name 'ᄆᄎᄎ' is not defined",
     "output_type": "error",
     "traceback": [
      "\u001b[1;31m---------------------------------------------------------------------------\u001b[0m",
      "\u001b[1;31mNameError\u001b[0m                                 Traceback (most recent call last)",
      "\u001b[1;32m<ipython-input-128-44249012eec0>\u001b[0m in \u001b[0;36m<module>\u001b[1;34m\u001b[0m\n\u001b[1;32m----> 1\u001b[1;33m \u001b[0mㅁㅊㅊ\u001b[0m\u001b[1;33m\u001b[0m\u001b[1;33m\u001b[0m\u001b[0m\n\u001b[0m",
      "\u001b[1;31mNameError\u001b[0m: name 'ᄆᄎᄎ' is not defined"
     ]
    }
   ],
   "source": []
  },
  {
   "cell_type": "code",
   "execution_count": null,
   "metadata": {},
   "outputs": [],
   "source": []
  }
 ],
 "metadata": {
  "kernelspec": {
   "display_name": "Python 3",
   "language": "python",
   "name": "python3"
  },
  "language_info": {
   "codemirror_mode": {
    "name": "ipython",
    "version": 3
   },
   "file_extension": ".py",
   "mimetype": "text/x-python",
   "name": "python",
   "nbconvert_exporter": "python",
   "pygments_lexer": "ipython3",
   "version": "3.7.7"
  }
 },
 "nbformat": 4,
 "nbformat_minor": 4
}
