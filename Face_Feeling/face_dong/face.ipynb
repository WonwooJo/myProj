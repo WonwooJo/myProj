{
 "cells": [
  {
   "cell_type": "code",
   "execution_count": 63,
   "metadata": {},
   "outputs": [],
   "source": [
    "import numpy as np\n",
    "import pandas as pd \n",
    "from keras.preprocessing.image import ImageDataGenerator, load_img, img_to_array\n",
    "from keras.utils import to_categorical\n",
    "from sklearn.model_selection import train_test_split\n",
    "import matplotlib.pyplot as plt\n",
    "import random\n",
    "import os\n",
    "from tensorflow.keras.models import load_model"
   ]
  },
  {
   "cell_type": "code",
   "execution_count": 45,
   "metadata": {},
   "outputs": [],
   "source": [
    "IMAGE_WIDTH=40\n",
    "IMAGE_HEIGHT=40\n",
    "IMAGE_SIZE=(IMAGE_WIDTH, IMAGE_HEIGHT)\n",
    "IMAGE_CHANNELS=3"
   ]
  },
  {
   "cell_type": "code",
   "execution_count": 46,
   "metadata": {},
   "outputs": [],
   "source": [
    "categories=[]\n",
    "train_dir=os.listdir(\"train/train\")\n",
    "for filename in train_dir:\n",
    "    category=filename.split('.')[0]\n",
    "    if category == 'bonghwang':\n",
    "        categories.append('bonghwang')\n",
    "    if category == 'dohwa':\n",
    "        categories.append('dohwa')\n",
    "    if category == 'gongjak':\n",
    "        categories.append('gongjak')\n",
    "    if category == 'horang':\n",
    "        categories.append('horang')\n",
    "    if category == 'so':\n",
    "        categories.append('so')\n",
    "    if category == 'yong':\n",
    "        categories.append('yong')"
   ]
  },
  {
   "cell_type": "code",
   "execution_count": 47,
   "metadata": {},
   "outputs": [
    {
     "data": {
      "text/html": [
       "<div>\n",
       "<style scoped>\n",
       "    .dataframe tbody tr th:only-of-type {\n",
       "        vertical-align: middle;\n",
       "    }\n",
       "\n",
       "    .dataframe tbody tr th {\n",
       "        vertical-align: top;\n",
       "    }\n",
       "\n",
       "    .dataframe thead th {\n",
       "        text-align: right;\n",
       "    }\n",
       "</style>\n",
       "<table border=\"1\" class=\"dataframe\">\n",
       "  <thead>\n",
       "    <tr style=\"text-align: right;\">\n",
       "      <th></th>\n",
       "      <th>filename</th>\n",
       "      <th>category</th>\n",
       "    </tr>\n",
       "  </thead>\n",
       "  <tbody>\n",
       "    <tr>\n",
       "      <th>0</th>\n",
       "      <td>bonghwang.00001.jpg</td>\n",
       "      <td>bonghwang</td>\n",
       "    </tr>\n",
       "    <tr>\n",
       "      <th>1</th>\n",
       "      <td>bonghwang.00002.jpg</td>\n",
       "      <td>bonghwang</td>\n",
       "    </tr>\n",
       "    <tr>\n",
       "      <th>2</th>\n",
       "      <td>bonghwang.00003.jpg</td>\n",
       "      <td>bonghwang</td>\n",
       "    </tr>\n",
       "    <tr>\n",
       "      <th>3</th>\n",
       "      <td>bonghwang.00004.jpg</td>\n",
       "      <td>bonghwang</td>\n",
       "    </tr>\n",
       "    <tr>\n",
       "      <th>4</th>\n",
       "      <td>bonghwang.00005.jpg</td>\n",
       "      <td>bonghwang</td>\n",
       "    </tr>\n",
       "    <tr>\n",
       "      <th>...</th>\n",
       "      <td>...</td>\n",
       "      <td>...</td>\n",
       "    </tr>\n",
       "    <tr>\n",
       "      <th>33352</th>\n",
       "      <td>yong.05716.jpg</td>\n",
       "      <td>yong</td>\n",
       "    </tr>\n",
       "    <tr>\n",
       "      <th>33353</th>\n",
       "      <td>yong.05717.jpg</td>\n",
       "      <td>yong</td>\n",
       "    </tr>\n",
       "    <tr>\n",
       "      <th>33354</th>\n",
       "      <td>yong.05718.jpg</td>\n",
       "      <td>yong</td>\n",
       "    </tr>\n",
       "    <tr>\n",
       "      <th>33355</th>\n",
       "      <td>yong.05719.jpg</td>\n",
       "      <td>yong</td>\n",
       "    </tr>\n",
       "    <tr>\n",
       "      <th>33356</th>\n",
       "      <td>yong.05720.jpg</td>\n",
       "      <td>yong</td>\n",
       "    </tr>\n",
       "  </tbody>\n",
       "</table>\n",
       "<p>33357 rows × 2 columns</p>\n",
       "</div>"
      ],
      "text/plain": [
       "                  filename   category\n",
       "0      bonghwang.00001.jpg  bonghwang\n",
       "1      bonghwang.00002.jpg  bonghwang\n",
       "2      bonghwang.00003.jpg  bonghwang\n",
       "3      bonghwang.00004.jpg  bonghwang\n",
       "4      bonghwang.00005.jpg  bonghwang\n",
       "...                    ...        ...\n",
       "33352       yong.05716.jpg       yong\n",
       "33353       yong.05717.jpg       yong\n",
       "33354       yong.05718.jpg       yong\n",
       "33355       yong.05719.jpg       yong\n",
       "33356       yong.05720.jpg       yong\n",
       "\n",
       "[33357 rows x 2 columns]"
      ]
     },
     "execution_count": 47,
     "metadata": {},
     "output_type": "execute_result"
    }
   ],
   "source": [
    "df=pd.DataFrame({'filename':train_dir,'category':categories})\n",
    "df"
   ]
  },
  {
   "cell_type": "code",
   "execution_count": 48,
   "metadata": {},
   "outputs": [],
   "source": [
    "train_df, validate_df = train_test_split(df, test_size=0.20, random_state=42)\n",
    "train_df = train_df.reset_index(drop=True)\n",
    "validate_df = validate_df.reset_index(drop=True)"
   ]
  },
  {
   "cell_type": "code",
   "execution_count": 49,
   "metadata": {},
   "outputs": [],
   "source": [
    "train_df = train_df.reset_index(drop=True)\n",
    "validate_df = validate_df.reset_index(drop=True)"
   ]
  },
  {
   "cell_type": "code",
   "execution_count": 50,
   "metadata": {},
   "outputs": [
    {
     "data": {
      "text/plain": [
       "<matplotlib.axes._subplots.AxesSubplot at 0x15e58519588>"
      ]
     },
     "execution_count": 50,
     "metadata": {},
     "output_type": "execute_result"
    },
    {
     "data": {
      "image/png": "[encoded data removed]",
      "text/plain": [
       "<Figure size 432x288 with 1 Axes>"
      ]
     },
     "metadata": {
      "needs_background": "light"
     },
     "output_type": "display_data"
    }
   ],
   "source": [
    "train_df['category'].value_counts().plot.bar()"
   ]
  },
  {
   "cell_type": "code",
   "execution_count": 51,
   "metadata": {},
   "outputs": [
    {
     "data": {
      "text/plain": [
       "<matplotlib.axes._subplots.AxesSubplot at 0x15e58564c48>"
      ]
     },
     "execution_count": 51,
     "metadata": {},
     "output_type": "execute_result"
    },
    {
     "data": {
      "image/png": "[encoded data removed]",
      "text/plain": [
       "<Figure size 432x288 with 1 Axes>"
      ]
     },
     "metadata": {
      "needs_background": "light"
     },
     "output_type": "display_data"
    }
   ],
   "source": [
    "validate_df['category'].value_counts().plot.bar()"
   ]
  },
  {
   "cell_type": "code",
   "execution_count": 52,
   "metadata": {},
   "outputs": [],
   "source": [
    "total_train = train_df.shape[0]\n",
    "total_validate = validate_df.shape[0]\n",
    "batch_size=15"
   ]
  },
  {
   "cell_type": "code",
   "execution_count": 53,
   "metadata": {},
   "outputs": [],
   "source": [
    "train_datagen = ImageDataGenerator(rotation_range=15,\n",
    "                                   rescale=1./255,\n",
    "                                   shear_range=0.1,\n",
    "                                   zoom_range=0.2,\n",
    "                                   horizontal_flip=True,\n",
    "                                   width_shift_range=0.1,\n",
    "                                   height_shift_range=0.1)"
   ]
  },
  {
   "cell_type": "code",
   "execution_count": 54,
   "metadata": {},
   "outputs": [
    {
     "name": "stdout",
     "output_type": "stream",
     "text": [
      "Found 26685 validated image filenames belonging to 6 classes.\n"
     ]
    }
   ],
   "source": [
    "train_generator=train_datagen.flow_from_dataframe(train_df,\n",
    "                                 'train/train/',\n",
    "                                 x_col='filename',\n",
    "                                 y_col='category',\n",
    "                                  target_size=IMAGE_SIZE,\n",
    "                                  class_mode='categorical',\n",
    "                                  batch_size=batch_size\n",
    "                                 )"
   ]
  },
  {
   "cell_type": "code",
   "execution_count": 89,
   "metadata": {},
   "outputs": [
    {
     "name": "stdout",
     "output_type": "stream",
     "text": [
      "Found 6672 validated image filenames belonging to 6 classes.\n"
     ]
    }
   ],
   "source": [
    "validation_datagen = ImageDataGenerator(rescale=1./255)\n",
    "\n",
    "validation_generator = validation_datagen.flow_from_dataframe(validate_df,\n",
    "                                                              \"train/train/\",\n",
    "                                                              x_col='filename',\n",
    "                                                              y_col='category',\n",
    "                                                              target_size=IMAGE_SIZE,\n",
    "                                                              class_mode='categorical',\n",
    "                                                              batch_size=batch_size)"
   ]
  },
  {
   "cell_type": "code",
   "execution_count": 56,
   "metadata": {},
   "outputs": [],
   "source": [
    "from keras.models import Sequential\n",
    "from keras.layers import *"
   ]
  },
  {
   "cell_type": "code",
   "execution_count": 57,
   "metadata": {
    "scrolled": true
   },
   "outputs": [
    {
     "name": "stdout",
     "output_type": "stream",
     "text": [
      "Model: \"sequential_2\"\n",
      "_________________________________________________________________\n",
      "Layer (type)                 Output Shape              Param #   \n",
      "=================================================================\n",
      "conv2d_6 (Conv2D)            (None, 38, 38, 32)        896       \n",
      "_________________________________________________________________\n",
      "batch_normalization_8 (Batch (None, 38, 38, 32)        128       \n",
      "_________________________________________________________________\n",
      "max_pooling2d_6 (MaxPooling2 (None, 19, 19, 32)        0         \n",
      "_________________________________________________________________\n",
      "dropout_8 (Dropout)          (None, 19, 19, 32)        0         \n",
      "_________________________________________________________________\n",
      "conv2d_7 (Conv2D)            (None, 17, 17, 64)        18496     \n",
      "_________________________________________________________________\n",
      "batch_normalization_9 (Batch (None, 17, 17, 64)        256       \n",
      "_________________________________________________________________\n",
      "max_pooling2d_7 (MaxPooling2 (None, 8, 8, 64)          0         \n",
      "_________________________________________________________________\n",
      "dropout_9 (Dropout)          (None, 8, 8, 64)          0         \n",
      "_________________________________________________________________\n",
      "conv2d_8 (Conv2D)            (None, 6, 6, 128)         73856     \n",
      "_________________________________________________________________\n",
      "batch_normalization_10 (Batc (None, 6, 6, 128)         512       \n",
      "_________________________________________________________________\n",
      "max_pooling2d_8 (MaxPooling2 (None, 3, 3, 128)         0         \n",
      "_________________________________________________________________\n",
      "dropout_10 (Dropout)         (None, 3, 3, 128)         0         \n",
      "_________________________________________________________________\n",
      "flatten_2 (Flatten)          (None, 1152)              0         \n",
      "_________________________________________________________________\n",
      "dense_4 (Dense)              (None, 512)               590336    \n",
      "_________________________________________________________________\n",
      "batch_normalization_11 (Batc (None, 512)               2048      \n",
      "_________________________________________________________________\n",
      "dropout_11 (Dropout)         (None, 512)               0         \n",
      "_________________________________________________________________\n",
      "dense_5 (Dense)              (None, 6)                 3078      \n",
      "=================================================================\n",
      "Total params: 689,606\n",
      "Trainable params: 688,134\n",
      "Non-trainable params: 1,472\n",
      "_________________________________________________________________\n"
     ]
    }
   ],
   "source": [
    "model = Sequential()\n",
    "model.add(Conv2D(32, (3, 3), activation='relu', input_shape=(IMAGE_WIDTH, IMAGE_HEIGHT, IMAGE_CHANNELS)))\n",
    "model.add(BatchNormalization())\n",
    "model.add(MaxPooling2D(pool_size=(2, 2)))\n",
    "model.add(Dropout(0.25))\n",
    "model.add(Conv2D(64, (3, 3), activation='relu'))\n",
    "model.add(BatchNormalization())\n",
    "model.add(MaxPooling2D(pool_size=(2, 2)))\n",
    "model.add(Dropout(0.25))\n",
    "model.add(Conv2D(128, (3, 3), activation='relu'))\n",
    "model.add(BatchNormalization())\n",
    "model.add(MaxPooling2D(pool_size=(2, 2)))\n",
    "model.add(Dropout(0.25))\n",
    "model.add(Flatten())\n",
    "model.add(Dense(512, activation='relu'))\n",
    "model.add(BatchNormalization())\n",
    "model.add(Dropout(0.5))\n",
    "model.add(Dense(6, activation='softmax')) # 2 because we have cat and dog classes\n",
    "model.compile(loss='categorical_crossentropy', optimizer='adam', metrics=['accuracy'])\n",
    "model.summary()"
   ]
  },
  {
   "cell_type": "code",
   "execution_count": 37,
   "metadata": {},
   "outputs": [],
   "source": [
    "from keras.callbacks import EarlyStopping, ReduceLROnPlateau"
   ]
  },
  {
   "cell_type": "code",
   "execution_count": 58,
   "metadata": {},
   "outputs": [],
   "source": [
    "earlystop = EarlyStopping(patience=10),\n",
    "learning_rate_reduction = ReduceLROnPlateau(monitor='val_accuracy',\n",
    "                                           patience=2,\n",
    "                                           verbose=1,\n",
    "                                            factor=0.5,\n",
    "                                            min_lr=0.00001)"
   ]
  },
  {
   "cell_type": "code",
   "execution_count": 59,
   "metadata": {
    "scrolled": true
   },
   "outputs": [
    {
     "name": "stdout",
     "output_type": "stream",
     "text": [
      "Epoch 1/40\n",
      "1779/1779 [==============================] - 75s 42ms/step - loss: 1.9277 - accuracy: 0.2605 - val_loss: 1.7470 - val_accuracy: 0.2734\n",
      "Epoch 2/40\n",
      "1779/1779 [==============================] - 70s 39ms/step - loss: 1.5787 - accuracy: 0.3560 - val_loss: 1.4437 - val_accuracy: 0.4038\n",
      "Epoch 3/40\n",
      "1779/1779 [==============================] - 66s 37ms/step - loss: 1.4533 - accuracy: 0.4199 - val_loss: 1.2967 - val_accuracy: 0.4962\n",
      "Epoch 4/40\n",
      "1779/1779 [==============================] - 72s 40ms/step - loss: 1.3662 - accuracy: 0.4576 - val_loss: 1.2978 - val_accuracy: 0.4832\n",
      "Epoch 5/40\n",
      "1779/1779 [==============================] - 77s 43ms/step - loss: 1.3102 - accuracy: 0.4831 - val_loss: 1.0048 - val_accuracy: 0.6180\n",
      "Epoch 6/40\n",
      "1779/1779 [==============================] - 77s 43ms/step - loss: 1.2502 - accuracy: 0.5091 - val_loss: 1.1953 - val_accuracy: 0.5622\n",
      "Epoch 7/40\n",
      "1779/1779 [==============================] - ETA: 0s - loss: 1.2106 - accuracy: 0.5244\n",
      "Epoch 00007: ReduceLROnPlateau reducing learning rate to 0.0005000000237487257.\n",
      "1779/1779 [==============================] - 77s 44ms/step - loss: 1.2106 - accuracy: 0.5244 - val_loss: 1.1758 - val_accuracy: 0.5569\n",
      "Epoch 8/40\n",
      "1779/1779 [==============================] - 76s 43ms/step - loss: 1.1202 - accuracy: 0.5641 - val_loss: 0.7756 - val_accuracy: 0.7158\n",
      "Epoch 9/40\n",
      "1779/1779 [==============================] - 75s 42ms/step - loss: 1.0657 - accuracy: 0.5879 - val_loss: 0.7862 - val_accuracy: 0.7141\n",
      "Epoch 10/40\n",
      "1778/1779 [============================>.] - ETA: 0s - loss: 1.0339 - accuracy: 0.6003\n",
      "Epoch 00010: ReduceLROnPlateau reducing learning rate to 0.0002500000118743628.\n",
      "1779/1779 [==============================] - 75s 42ms/step - loss: 1.0339 - accuracy: 0.6004 - val_loss: 0.7822 - val_accuracy: 0.7093\n",
      "Epoch 11/40\n",
      "1779/1779 [==============================] - 78s 44ms/step - loss: 0.9789 - accuracy: 0.6212 - val_loss: 0.6473 - val_accuracy: 0.7692\n",
      "Epoch 12/40\n",
      "1779/1779 [==============================] - 76s 43ms/step - loss: 0.9645 - accuracy: 0.6262 - val_loss: 0.5799 - val_accuracy: 0.7914\n",
      "Epoch 13/40\n",
      "1779/1779 [==============================] - 75s 42ms/step - loss: 0.9320 - accuracy: 0.6414 - val_loss: 0.5652 - val_accuracy: 0.8006\n",
      "Epoch 14/40\n",
      "1779/1779 [==============================] - 76s 43ms/step - loss: 0.9306 - accuracy: 0.6424 - val_loss: 0.6886 - val_accuracy: 0.7486\n",
      "Epoch 15/40\n",
      "1779/1779 [==============================] - 77s 43ms/step - loss: 0.8977 - accuracy: 0.6554 - val_loss: 0.5294 - val_accuracy: 0.8108\n",
      "Epoch 16/40\n",
      "1779/1779 [==============================] - 76s 43ms/step - loss: 0.8995 - accuracy: 0.6524 - val_loss: 0.6379 - val_accuracy: 0.7575\n",
      "Epoch 17/40\n",
      "1778/1779 [============================>.] - ETA: 0s - loss: 0.8821 - accuracy: 0.6612\n",
      "Epoch 00017: ReduceLROnPlateau reducing learning rate to 0.0001250000059371814.\n",
      "1779/1779 [==============================] - 76s 42ms/step - loss: 0.8820 - accuracy: 0.6612 - val_loss: 0.7680 - val_accuracy: 0.7084\n",
      "Epoch 18/40\n",
      "1779/1779 [==============================] - 76s 43ms/step - loss: 0.8562 - accuracy: 0.6696 - val_loss: 0.4939 - val_accuracy: 0.8242\n",
      "Epoch 19/40\n",
      "1779/1779 [==============================] - 76s 43ms/step - loss: 0.8456 - accuracy: 0.6761 - val_loss: 0.5070 - val_accuracy: 0.8201\n",
      "Epoch 20/40\n",
      "1779/1779 [==============================] - 76s 43ms/step - loss: 0.8417 - accuracy: 0.6805 - val_loss: 0.4589 - val_accuracy: 0.8399\n",
      "Epoch 21/40\n",
      "1779/1779 [==============================] - 76s 43ms/step - loss: 0.8354 - accuracy: 0.6816 - val_loss: 0.5565 - val_accuracy: 0.7941\n",
      "Epoch 22/40\n",
      "1779/1779 [==============================] - 76s 43ms/step - loss: 0.8263 - accuracy: 0.6842 - val_loss: 0.4374 - val_accuracy: 0.8520\n",
      "Epoch 23/40\n",
      "1779/1779 [==============================] - 76s 43ms/step - loss: 0.8074 - accuracy: 0.6921 - val_loss: 0.5401 - val_accuracy: 0.7920\n",
      "Epoch 24/40\n",
      "1779/1779 [==============================] - ETA: 0s - loss: 0.8149 - accuracy: 0.6893\n",
      "Epoch 00024: ReduceLROnPlateau reducing learning rate to 6.25000029685907e-05.\n",
      "1779/1779 [==============================] - 81s 46ms/step - loss: 0.8149 - accuracy: 0.6893 - val_loss: 0.4450 - val_accuracy: 0.8453\n",
      "Epoch 25/40\n",
      "1779/1779 [==============================] - 76s 43ms/step - loss: 0.7971 - accuracy: 0.6965 - val_loss: 0.5098 - val_accuracy: 0.8114\n",
      "Epoch 26/40\n",
      "1778/1779 [============================>.] - ETA: 0s - loss: 0.7906 - accuracy: 0.7004\n",
      "Epoch 00026: ReduceLROnPlateau reducing learning rate to 3.125000148429535e-05.\n",
      "1779/1779 [==============================] - 76s 43ms/step - loss: 0.7905 - accuracy: 0.7004 - val_loss: 0.4670 - val_accuracy: 0.8284\n",
      "Epoch 27/40\n",
      "1779/1779 [==============================] - 77s 44ms/step - loss: 0.7882 - accuracy: 0.7014 - val_loss: 0.4760 - val_accuracy: 0.8246\n",
      "Epoch 28/40\n",
      "1779/1779 [==============================] - ETA: 0s - loss: 0.7896 - accuracy: 0.6988\n",
      "Epoch 00028: ReduceLROnPlateau reducing learning rate to 1.5625000742147677e-05.\n",
      "1779/1779 [==============================] - 76s 43ms/step - loss: 0.7896 - accuracy: 0.6988 - val_loss: 0.4460 - val_accuracy: 0.8407\n",
      "Epoch 29/40\n",
      "1779/1779 [==============================] - 79s 44ms/step - loss: 0.7795 - accuracy: 0.7035 - val_loss: 0.4550 - val_accuracy: 0.8362\n",
      "Epoch 30/40\n",
      "1778/1779 [============================>.] - ETA: 0s - loss: 0.7788 - accuracy: 0.7024\n",
      "Epoch 00030: ReduceLROnPlateau reducing learning rate to 1e-05.\n",
      "1779/1779 [==============================] - 78s 44ms/step - loss: 0.7788 - accuracy: 0.7024 - val_loss: 0.4659 - val_accuracy: 0.8297\n",
      "Epoch 31/40\n",
      "1779/1779 [==============================] - 76s 43ms/step - loss: 0.7773 - accuracy: 0.7020 - val_loss: 0.4585 - val_accuracy: 0.8342\n",
      "Epoch 32/40\n",
      "1779/1779 [==============================] - 76s 43ms/step - loss: 0.7732 - accuracy: 0.7065 - val_loss: 0.4665 - val_accuracy: 0.8309\n"
     ]
    }
   ],
   "source": [
    "history = model.fit_generator(train_generator,\n",
    "                              epochs=40,\n",
    "                              validation_data=validation_generator,\n",
    "                              validation_steps=total_validate//batch_size,\n",
    "                              steps_per_epoch=total_train//batch_size,\n",
    "                              callbacks=[earlystop,learning_rate_reduction])"
   ]
  },
  {
   "cell_type": "code",
   "execution_count": 60,
   "metadata": {},
   "outputs": [
    {
     "data": {
      "image/png": "[encoded data removed]",
      "text/plain": [
       "<Figure size 432x288 with 1 Axes>"
      ]
     },
     "metadata": {
      "needs_background": "light"
     },
     "output_type": "display_data"
    }
   ],
   "source": [
    "plt.plot(history.history['accuracy'])\n",
    "plt.plot(history.history['val_accuracy'])\n",
    "plt.legend(['training', 'validation'], loc = 'upper left')\n",
    "plt.show()"
   ]
  },
  {
   "cell_type": "code",
   "execution_count": 61,
   "metadata": {},
   "outputs": [
    {
     "name": "stdout",
     "output_type": "stream",
     "text": [
      "1779/1779 [==============================] - 38s 21ms/step - loss: 0.4928 - accuracy: 0.82993s - loss: 0.4926 - accuracy\n"
     ]
    },
    {
     "data": {
      "text/plain": [
       "[0.4927530586719513, 0.8299044370651245]"
      ]
     },
     "execution_count": 61,
     "metadata": {},
     "output_type": "execute_result"
    }
   ],
   "source": [
    "model.evaluate(train_generator)"
   ]
  },
  {
   "cell_type": "code",
   "execution_count": 62,
   "metadata": {},
   "outputs": [],
   "source": [
    "model.save(\"model_face_83.h5\")"
   ]
  },
  {
   "cell_type": "code",
   "execution_count": 65,
   "metadata": {},
   "outputs": [
    {
     "name": "stdout",
     "output_type": "stream",
     "text": [
      "1779/1779 [==============================] - 39s 22ms/step - loss: 0.4914 - accuracy: 0.8274\n"
     ]
    },
    {
     "data": {
      "text/plain": [
       "[0.49139395356178284, 0.827356219291687]"
      ]
     },
     "execution_count": 65,
     "metadata": {},
     "output_type": "execute_result"
    }
   ],
   "source": [
    "loaded_model = load_model('model_face_83.h5')\n",
    "loaded_model.evaluate(train_generator)"
   ]
  },
  {
   "cell_type": "markdown",
   "metadata": {},
   "source": [
    "### pretrained model을 통한 예측"
   ]
  },
  {
   "cell_type": "code",
   "execution_count": 117,
   "metadata": {},
   "outputs": [],
   "source": [
    "categories=[]\n",
    "train_dir=os.listdir(\"faces\")\n",
    "for filename in train_dir:\n",
    "    category=filename.split('_')[0]\n",
    "    if category == 'bonghwang':\n",
    "        categories.append('bonghwang')\n",
    "    if category == 'dohwa':\n",
    "        categories.append('dohwa')\n",
    "    if category == 'gongjak':\n",
    "        categories.append('gongjak')\n",
    "    if category == 'horang':\n",
    "        categories.append('horang')\n",
    "    if category == 'so':\n",
    "        categories.append('so')\n",
    "    if category == 'yong':\n",
    "        categories.append('yong')"
   ]
  },
  {
   "cell_type": "code",
   "execution_count": 118,
   "metadata": {
    "scrolled": true
   },
   "outputs": [
    {
     "data": {
      "text/plain": [
       "['bonghwang',\n",
       " 'bonghwang',\n",
       " 'bonghwang',\n",
       " 'bonghwang',\n",
       " 'bonghwang',\n",
       " 'bonghwang',\n",
       " 'gongjak',\n",
       " 'gongjak',\n",
       " 'gongjak',\n",
       " 'gongjak']"
      ]
     },
     "execution_count": 118,
     "metadata": {},
     "output_type": "execute_result"
    }
   ],
   "source": [
    "categories"
   ]
  },
  {
   "cell_type": "code",
   "execution_count": 119,
   "metadata": {},
   "outputs": [
    {
     "data": {
      "text/html": [
       "<div>\n",
       "<style scoped>\n",
       "    .dataframe tbody tr th:only-of-type {\n",
       "        vertical-align: middle;\n",
       "    }\n",
       "\n",
       "    .dataframe tbody tr th {\n",
       "        vertical-align: top;\n",
       "    }\n",
       "\n",
       "    .dataframe thead th {\n",
       "        text-align: right;\n",
       "    }\n",
       "</style>\n",
       "<table border=\"1\" class=\"dataframe\">\n",
       "  <thead>\n",
       "    <tr style=\"text-align: right;\">\n",
       "      <th></th>\n",
       "      <th>filename</th>\n",
       "      <th>category</th>\n",
       "    </tr>\n",
       "  </thead>\n",
       "  <tbody>\n",
       "    <tr>\n",
       "      <th>0</th>\n",
       "      <td>bonghwang_1.jpg</td>\n",
       "      <td>bonghwang</td>\n",
       "    </tr>\n",
       "    <tr>\n",
       "      <th>1</th>\n",
       "      <td>bonghwang_2.jpg</td>\n",
       "      <td>bonghwang</td>\n",
       "    </tr>\n",
       "    <tr>\n",
       "      <th>2</th>\n",
       "      <td>bonghwang_3.jpg</td>\n",
       "      <td>bonghwang</td>\n",
       "    </tr>\n",
       "    <tr>\n",
       "      <th>3</th>\n",
       "      <td>bonghwang_4.jpg</td>\n",
       "      <td>bonghwang</td>\n",
       "    </tr>\n",
       "    <tr>\n",
       "      <th>4</th>\n",
       "      <td>bonghwang_5.jpg</td>\n",
       "      <td>bonghwang</td>\n",
       "    </tr>\n",
       "    <tr>\n",
       "      <th>5</th>\n",
       "      <td>bonghwang_6.jpg</td>\n",
       "      <td>bonghwang</td>\n",
       "    </tr>\n",
       "    <tr>\n",
       "      <th>6</th>\n",
       "      <td>gongjak_1.jpg</td>\n",
       "      <td>gongjak</td>\n",
       "    </tr>\n",
       "    <tr>\n",
       "      <th>7</th>\n",
       "      <td>gongjak_2.jpg</td>\n",
       "      <td>gongjak</td>\n",
       "    </tr>\n",
       "    <tr>\n",
       "      <th>8</th>\n",
       "      <td>gongjak_3.jpg</td>\n",
       "      <td>gongjak</td>\n",
       "    </tr>\n",
       "    <tr>\n",
       "      <th>9</th>\n",
       "      <td>gongjak_4.jpg</td>\n",
       "      <td>gongjak</td>\n",
       "    </tr>\n",
       "  </tbody>\n",
       "</table>\n",
       "</div>"
      ],
      "text/plain": [
       "          filename   category\n",
       "0  bonghwang_1.jpg  bonghwang\n",
       "1  bonghwang_2.jpg  bonghwang\n",
       "2  bonghwang_3.jpg  bonghwang\n",
       "3  bonghwang_4.jpg  bonghwang\n",
       "4  bonghwang_5.jpg  bonghwang\n",
       "5  bonghwang_6.jpg  bonghwang\n",
       "6    gongjak_1.jpg    gongjak\n",
       "7    gongjak_2.jpg    gongjak\n",
       "8    gongjak_3.jpg    gongjak\n",
       "9    gongjak_4.jpg    gongjak"
      ]
     },
     "execution_count": 119,
     "metadata": {},
     "output_type": "execute_result"
    }
   ],
   "source": [
    "df=pd.DataFrame({'filename':train_dir,'category':categories})\n",
    "df"
   ]
  },
  {
   "cell_type": "code",
   "execution_count": 120,
   "metadata": {},
   "outputs": [
    {
     "name": "stdout",
     "output_type": "stream",
     "text": [
      "Found 10 validated image filenames belonging to 2 classes.\n"
     ]
    }
   ],
   "source": [
    "validation_datagen = ImageDataGenerator(rescale=1./255)\n",
    "\n",
    "validation_generator = validation_datagen.flow_from_dataframe(df,\n",
    "                                 'faces/',\n",
    "                                 x_col='filename',\n",
    "                                 y_col='category',\n",
    "                                  target_size=IMAGE_SIZE,\n",
    "                                  class_mode='categorical',\n",
    "                                  batch_size=batch_size)"
   ]
  },
  {
   "cell_type": "code",
   "execution_count": 121,
   "metadata": {},
   "outputs": [
    {
     "name": "stdout",
     "output_type": "stream",
     "text": [
      "{'bonghwang': 0, 'gongjak': 1}\n",
      "[[0.067 0.022 0.820 0.000 0.089 0.003]\n",
      " [0.995 0.003 0.000 0.000 0.001 0.001]\n",
      " [0.000 0.000 0.010 0.000 0.000 0.989]\n",
      " [0.067 0.022 0.820 0.000 0.089 0.003]\n",
      " [0.440 0.296 0.085 0.000 0.179 0.000]\n",
      " [0.287 0.099 0.424 0.014 0.174 0.002]\n",
      " [0.989 0.001 0.009 0.000 0.001 0.000]\n",
      " [0.966 0.018 0.002 0.000 0.005 0.008]\n",
      " [0.000 0.000 0.008 0.000 0.000 0.992]\n",
      " [0.440 0.296 0.085 0.000 0.179 0.000]]\n"
     ]
    }
   ],
   "source": [
    "output = loaded_model.predict_generator(validation_generator,steps = 1)\n",
    "np.set_printoptions(formatter={'float': lambda x: \"{0:0.3f}\".format(x)})\n",
    "print(validation_generator.class_indices)\n",
    "print(output)"
   ]
  },
  {
   "cell_type": "code",
   "execution_count": 122,
   "metadata": {},
   "outputs": [
    {
     "name": "stdout",
     "output_type": "stream",
     "text": [
      "10\n"
     ]
    }
   ],
   "source": [
    "test=[]\n",
    "print(len(output))\n",
    "for i in output:\n",
    "    test.append(i.argmax())"
   ]
  },
  {
   "cell_type": "code",
   "execution_count": 123,
   "metadata": {},
   "outputs": [
    {
     "data": {
      "text/plain": [
       "[2, 0, 5, 2, 0, 2, 0, 0, 5, 0]"
      ]
     },
     "execution_count": 123,
     "metadata": {},
     "output_type": "execute_result"
    }
   ],
   "source": [
    "test"
   ]
  },
  {
   "cell_type": "code",
   "execution_count": 136,
   "metadata": {},
   "outputs": [],
   "source": [
    "dap = [0,0,0,0,0,0,1,1,1,1]"
   ]
  },
  {
   "cell_type": "code",
   "execution_count": 137,
   "metadata": {},
   "outputs": [],
   "source": [
    "acc = []\n",
    "for i in range(10):\n",
    "    if test[i] == dap[i]:\n",
    "        acc.append(1)\n",
    "    else:\n",
    "        acc.append(0)"
   ]
  },
  {
   "cell_type": "code",
   "execution_count": 138,
   "metadata": {},
   "outputs": [
    {
     "data": {
      "text/plain": [
       "[0, 1, 0, 0, 1, 0, 0, 0, 0, 0]"
      ]
     },
     "execution_count": 138,
     "metadata": {},
     "output_type": "execute_result"
    }
   ],
   "source": [
    "acc"
   ]
  },
  {
   "cell_type": "code",
   "execution_count": 128,
   "metadata": {},
   "outputs": [
    {
     "ename": "NameError",
     "evalue": "name 'ᄆᄎᄎ' is not defined",
     "output_type": "error",
     "traceback": [
      "\u001b[1;31m---------------------------------------------------------------------------\u001b[0m",
      "\u001b[1;31mNameError\u001b[0m                                 Traceback (most recent call last)",
      "\u001b[1;32m<ipython-input-128-44249012eec0>\u001b[0m in \u001b[0;36m<module>\u001b[1;34m\u001b[0m\n\u001b[1;32m----> 1\u001b[1;33m \u001b[0mㅁㅊㅊ\u001b[0m\u001b[1;33m\u001b[0m\u001b[1;33m\u001b[0m\u001b[0m\n\u001b[0m",
      "\u001b[1;31mNameError\u001b[0m: name 'ᄆᄎᄎ' is not defined"
     ]
    }
   ],
   "source": []
  },
  {
   "cell_type": "code",
   "execution_count": null,
   "metadata": {},
   "outputs": [],
   "source": []
  }
 ],
 "metadata": {
  "kernelspec": {
   "display_name": "Python 3",
   "language": "python",
   "name": "python3"
  },
  "language_info": {
   "codemirror_mode": {
    "name": "ipython",
    "version": 3
   },
   "file_extension": ".py",
   "mimetype": "text/x-python",
   "name": "python",
   "nbconvert_exporter": "python",
   "pygments_lexer": "ipython3",
   "version": "3.7.7"
  }
 },
 "nbformat": 4,
 "nbformat_minor": 4
}
