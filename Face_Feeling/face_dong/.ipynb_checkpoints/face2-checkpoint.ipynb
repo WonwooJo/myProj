{
 "cells": [
  {
   "cell_type": "code",
   "execution_count": 1,
   "metadata": {},
   "outputs": [],
   "source": [
    "import numpy as np\n",
    "import pandas as pd \n",
    "from keras.preprocessing.image import ImageDataGenerator, load_img, img_to_array\n",
    "from keras.utils import to_categorical\n",
    "from sklearn.model_selection import train_test_split\n",
    "import matplotlib.pyplot as plt\n",
    "import random\n",
    "import os"
   ]
  },
  {
   "cell_type": "code",
   "execution_count": 2,
   "metadata": {},
   "outputs": [],
   "source": [
    "IMAGE_WIDTH=28\n",
    "IMAGE_HEIGHT=28\n",
    "IMAGE_SIZE=(IMAGE_WIDTH, IMAGE_HEIGHT)\n",
    "IMAGE_CHANNELS=3"
   ]
  },
  {
   "cell_type": "code",
   "execution_count": 3,
   "metadata": {},
   "outputs": [],
   "source": [
    "categories=[]\n",
    "train_dir=os.listdir(\"train2/\")\n",
    "for filename in train_dir:\n",
    "    category=filename.split('.')[0]\n",
    "    if category == 'bonghwang':\n",
    "        categories.append('bonghwang')\n",
    "    if category == 'dohwa':\n",
    "        categories.append('dohwa')\n",
    "    if category == 'gongjak':\n",
    "        categories.append('gongjak')\n",
    "    if category == 'horang':\n",
    "        categories.append('horang')\n",
    "    if category == 'so':\n",
    "        categories.append('so')\n",
    "    if category == 'yong':\n",
    "        categories.append('yong')"
   ]
  },
  {
   "cell_type": "code",
   "execution_count": 4,
   "metadata": {},
   "outputs": [
    {
     "data": {
      "text/html": [
       "<div>\n",
       "<style scoped>\n",
       "    .dataframe tbody tr th:only-of-type {\n",
       "        vertical-align: middle;\n",
       "    }\n",
       "\n",
       "    .dataframe tbody tr th {\n",
       "        vertical-align: top;\n",
       "    }\n",
       "\n",
       "    .dataframe thead th {\n",
       "        text-align: right;\n",
       "    }\n",
       "</style>\n",
       "<table border=\"1\" class=\"dataframe\">\n",
       "  <thead>\n",
       "    <tr style=\"text-align: right;\">\n",
       "      <th></th>\n",
       "      <th>filename</th>\n",
       "      <th>category</th>\n",
       "    </tr>\n",
       "  </thead>\n",
       "  <tbody>\n",
       "    <tr>\n",
       "      <th>0</th>\n",
       "      <td>bonghwang.00001.jpg</td>\n",
       "      <td>bonghwang</td>\n",
       "    </tr>\n",
       "    <tr>\n",
       "      <th>1</th>\n",
       "      <td>bonghwang.00002.jpg</td>\n",
       "      <td>bonghwang</td>\n",
       "    </tr>\n",
       "    <tr>\n",
       "      <th>2</th>\n",
       "      <td>bonghwang.00003.jpg</td>\n",
       "      <td>bonghwang</td>\n",
       "    </tr>\n",
       "    <tr>\n",
       "      <th>3</th>\n",
       "      <td>bonghwang.00004.jpg</td>\n",
       "      <td>bonghwang</td>\n",
       "    </tr>\n",
       "    <tr>\n",
       "      <th>4</th>\n",
       "      <td>bonghwang.00005.jpg</td>\n",
       "      <td>bonghwang</td>\n",
       "    </tr>\n",
       "    <tr>\n",
       "      <th>...</th>\n",
       "      <td>...</td>\n",
       "      <td>...</td>\n",
       "    </tr>\n",
       "    <tr>\n",
       "      <th>446</th>\n",
       "      <td>yong.00088.jpg</td>\n",
       "      <td>yong</td>\n",
       "    </tr>\n",
       "    <tr>\n",
       "      <th>447</th>\n",
       "      <td>yong.00089.jpg</td>\n",
       "      <td>yong</td>\n",
       "    </tr>\n",
       "    <tr>\n",
       "      <th>448</th>\n",
       "      <td>yong.00090.jpg</td>\n",
       "      <td>yong</td>\n",
       "    </tr>\n",
       "    <tr>\n",
       "      <th>449</th>\n",
       "      <td>yong.00091.jpg</td>\n",
       "      <td>yong</td>\n",
       "    </tr>\n",
       "    <tr>\n",
       "      <th>450</th>\n",
       "      <td>yong.00092.jpg</td>\n",
       "      <td>yong</td>\n",
       "    </tr>\n",
       "  </tbody>\n",
       "</table>\n",
       "<p>451 rows × 2 columns</p>\n",
       "</div>"
      ],
      "text/plain": [
       "                filename   category\n",
       "0    bonghwang.00001.jpg  bonghwang\n",
       "1    bonghwang.00002.jpg  bonghwang\n",
       "2    bonghwang.00003.jpg  bonghwang\n",
       "3    bonghwang.00004.jpg  bonghwang\n",
       "4    bonghwang.00005.jpg  bonghwang\n",
       "..                   ...        ...\n",
       "446       yong.00088.jpg       yong\n",
       "447       yong.00089.jpg       yong\n",
       "448       yong.00090.jpg       yong\n",
       "449       yong.00091.jpg       yong\n",
       "450       yong.00092.jpg       yong\n",
       "\n",
       "[451 rows x 2 columns]"
      ]
     },
     "execution_count": 4,
     "metadata": {},
     "output_type": "execute_result"
    }
   ],
   "source": [
    "df=pd.DataFrame({'filename':train_dir,'category':categories})\n",
    "df"
   ]
  },
  {
   "cell_type": "code",
   "execution_count": 5,
   "metadata": {},
   "outputs": [],
   "source": [
    "train_df, validate_df = train_test_split(df, test_size=0.20, random_state=42)\n",
    "train_df = train_df.reset_index(drop=True)\n",
    "validate_df = validate_df.reset_index(drop=True)"
   ]
  },
  {
   "cell_type": "code",
   "execution_count": 6,
   "metadata": {},
   "outputs": [],
   "source": [
    "train_df = train_df.reset_index(drop=True)\n",
    "validate_df = validate_df.reset_index(drop=True)"
   ]
  },
  {
   "cell_type": "code",
   "execution_count": 7,
   "metadata": {},
   "outputs": [
    {
     "data": {
      "text/plain": [
       "<matplotlib.axes._subplots.AxesSubplot at 0x22b68201070>"
      ]
     },
     "execution_count": 7,
     "metadata": {},
     "output_type": "execute_result"
    },
    {
     "data": {
      "image/png": "[encoded data removed]",
      "text/plain": [
       "<Figure size 432x288 with 1 Axes>"
      ]
     },
     "metadata": {
      "needs_background": "light"
     },
     "output_type": "display_data"
    }
   ],
   "source": [
    "train_df['category'].value_counts().plot.bar()"
   ]
  },
  {
   "cell_type": "code",
   "execution_count": 8,
   "metadata": {},
   "outputs": [
    {
     "data": {
      "text/plain": [
       "<matplotlib.axes._subplots.AxesSubplot at 0x22b6895e3d0>"
      ]
     },
     "execution_count": 8,
     "metadata": {},
     "output_type": "execute_result"
    },
    {
     "data": {
      "image/png": "[encoded data removed]",
      "text/plain": [
       "<Figure size 432x288 with 1 Axes>"
      ]
     },
     "metadata": {
      "needs_background": "light"
     },
     "output_type": "display_data"
    }
   ],
   "source": [
    "validate_df['category'].value_counts().plot.bar()"
   ]
  },
  {
   "cell_type": "code",
   "execution_count": 9,
   "metadata": {},
   "outputs": [],
   "source": [
    "total_train = train_df.shape[0]\n",
    "total_validate = validate_df.shape[0]\n",
    "batch_size=15"
   ]
  },
  {
   "cell_type": "code",
   "execution_count": 10,
   "metadata": {},
   "outputs": [],
   "source": [
    "train_datagen = ImageDataGenerator(rotation_range=15,\n",
    "                                   rescale=1./255,\n",
    "                                   shear_range=0.1,\n",
    "                                   zoom_range=0.2,\n",
    "                                   horizontal_flip=True,\n",
    "                                   width_shift_range=0.1,\n",
    "                                   height_shift_range=0.1)"
   ]
  },
  {
   "cell_type": "code",
   "execution_count": 11,
   "metadata": {},
   "outputs": [
    {
     "name": "stdout",
     "output_type": "stream",
     "text": [
      "Found 360 validated image filenames belonging to 6 classes.\n"
     ]
    }
   ],
   "source": [
    "train_generator=train_datagen.flow_from_dataframe(train_df,\n",
    "                                 'train2/',\n",
    "                                 x_col='filename',\n",
    "                                 y_col='category',\n",
    "                                  target_size=IMAGE_SIZE,\n",
    "                                  class_mode='categorical',\n",
    "                                  batch_size=batch_size\n",
    "                                 )"
   ]
  },
  {
   "cell_type": "code",
   "execution_count": 12,
   "metadata": {},
   "outputs": [
    {
     "name": "stdout",
     "output_type": "stream",
     "text": [
      "Found 91 validated image filenames belonging to 6 classes.\n"
     ]
    }
   ],
   "source": [
    "validation_datagen = ImageDataGenerator(rescale=1./255)\n",
    "\n",
    "validation_generator = validation_datagen.flow_from_dataframe(validate_df,\n",
    "                                                              \"train2/\",\n",
    "                                                              x_col='filename',\n",
    "                                                              y_col='category',\n",
    "                                                              target_size=IMAGE_SIZE,\n",
    "                                                              class_mode='categorical',\n",
    "                                                              batch_size=batch_size)"
   ]
  },
  {
   "cell_type": "code",
   "execution_count": 13,
   "metadata": {},
   "outputs": [],
   "source": [
    "from keras.models import Sequential\n",
    "from keras.layers import *"
   ]
  },
  {
   "cell_type": "code",
   "execution_count": 14,
   "metadata": {},
   "outputs": [
    {
     "name": "stdout",
     "output_type": "stream",
     "text": [
      "Model: \"sequential\"\n",
      "_________________________________________________________________\n",
      "Layer (type)                 Output Shape              Param #   \n",
      "=================================================================\n",
      "conv2d (Conv2D)              (None, 26, 26, 32)        896       \n",
      "_________________________________________________________________\n",
      "batch_normalization (BatchNo (None, 26, 26, 32)        128       \n",
      "_________________________________________________________________\n",
      "max_pooling2d (MaxPooling2D) (None, 13, 13, 32)        0         \n",
      "_________________________________________________________________\n",
      "dropout (Dropout)            (None, 13, 13, 32)        0         \n",
      "_________________________________________________________________\n",
      "conv2d_1 (Conv2D)            (None, 11, 11, 64)        18496     \n",
      "_________________________________________________________________\n",
      "batch_normalization_1 (Batch (None, 11, 11, 64)        256       \n",
      "_________________________________________________________________\n",
      "max_pooling2d_1 (MaxPooling2 (None, 5, 5, 64)          0         \n",
      "_________________________________________________________________\n",
      "dropout_1 (Dropout)          (None, 5, 5, 64)          0         \n",
      "_________________________________________________________________\n",
      "conv2d_2 (Conv2D)            (None, 3, 3, 128)         73856     \n",
      "_________________________________________________________________\n",
      "batch_normalization_2 (Batch (None, 3, 3, 128)         512       \n",
      "_________________________________________________________________\n",
      "max_pooling2d_2 (MaxPooling2 (None, 1, 1, 128)         0         \n",
      "_________________________________________________________________\n",
      "dropout_2 (Dropout)          (None, 1, 1, 128)         0         \n",
      "_________________________________________________________________\n",
      "flatten (Flatten)            (None, 128)               0         \n",
      "_________________________________________________________________\n",
      "dense (Dense)                (None, 512)               66048     \n",
      "_________________________________________________________________\n",
      "batch_normalization_3 (Batch (None, 512)               2048      \n",
      "_________________________________________________________________\n",
      "dropout_3 (Dropout)          (None, 512)               0         \n",
      "_________________________________________________________________\n",
      "dense_1 (Dense)              (None, 6)                 3078      \n",
      "=================================================================\n",
      "Total params: 165,318\n",
      "Trainable params: 163,846\n",
      "Non-trainable params: 1,472\n",
      "_________________________________________________________________\n"
     ]
    }
   ],
   "source": [
    "model = Sequential()\n",
    "model.add(Conv2D(32, (3, 3), activation='relu', input_shape=(IMAGE_WIDTH, IMAGE_HEIGHT, IMAGE_CHANNELS)))\n",
    "model.add(BatchNormalization())\n",
    "model.add(MaxPooling2D(pool_size=(2, 2)))\n",
    "model.add(Dropout(0.25))\n",
    "model.add(Conv2D(64, (3, 3), activation='relu'))\n",
    "model.add(BatchNormalization())\n",
    "model.add(MaxPooling2D(pool_size=(2, 2)))\n",
    "model.add(Dropout(0.25))\n",
    "model.add(Conv2D(128, (3, 3), activation='relu'))\n",
    "model.add(BatchNormalization())\n",
    "model.add(MaxPooling2D(pool_size=(2, 2)))\n",
    "model.add(Dropout(0.25))\n",
    "model.add(Flatten())\n",
    "model.add(Dense(512, activation='relu'))\n",
    "model.add(BatchNormalization())\n",
    "model.add(Dropout(0.5))\n",
    "model.add(Dense(6, activation='softmax')) # 2 because we have cat and dog classes\n",
    "model.compile(loss='categorical_crossentropy', optimizer='adam', metrics=['accuracy'])\n",
    "model.summary()"
   ]
  },
  {
   "cell_type": "code",
   "execution_count": 15,
   "metadata": {},
   "outputs": [],
   "source": [
    "from keras.callbacks import EarlyStopping, ReduceLROnPlateau"
   ]
  },
  {
   "cell_type": "code",
   "execution_count": 16,
   "metadata": {},
   "outputs": [],
   "source": [
    "earlystop = EarlyStopping(patience=10),\n",
    "learning_rate_reduction = ReduceLROnPlateau(monitor='val_accuracy',\n",
    "                                           patience=2,\n",
    "                                           verbose=1,\n",
    "                                            factor=0.5,\n",
    "                                            min_lr=0.00001)"
   ]
  },
  {
   "cell_type": "code",
   "execution_count": 17,
   "metadata": {
    "scrolled": true
   },
   "outputs": [
    {
     "name": "stdout",
     "output_type": "stream",
     "text": [
      "WARNING:tensorflow:From <ipython-input-17-cf3193af8440>:1: Model.fit_generator (from tensorflow.python.keras.engine.training) is deprecated and will be removed in a future version.\n",
      "Instructions for updating:\n",
      "Please use Model.fit, which supports generators.\n",
      "Epoch 1/100\n",
      "24/24 [==============================] - 0s 20ms/step - loss: 3.0066 - accuracy: 0.1778 - val_loss: 1.8016 - val_accuracy: 0.0333\n",
      "Epoch 2/100\n",
      "24/24 [==============================] - 0s 10ms/step - loss: 2.5966 - accuracy: 0.2250 - val_loss: 1.7316 - val_accuracy: 0.2444\n",
      "Epoch 3/100\n",
      "24/24 [==============================] - 0s 11ms/step - loss: 2.4000 - accuracy: 0.2583 - val_loss: 1.7286 - val_accuracy: 0.2222\n",
      "Epoch 4/100\n",
      "24/24 [==============================] - 0s 11ms/step - loss: 2.5960 - accuracy: 0.1861 - val_loss: 1.6795 - val_accuracy: 0.2667\n",
      "Epoch 5/100\n",
      "24/24 [==============================] - 0s 11ms/step - loss: 2.4442 - accuracy: 0.2028 - val_loss: 1.6706 - val_accuracy: 0.2778\n",
      "Epoch 6/100\n",
      "24/24 [==============================] - 0s 11ms/step - loss: 2.3501 - accuracy: 0.2083 - val_loss: 1.6462 - val_accuracy: 0.3222\n",
      "Epoch 7/100\n",
      "24/24 [==============================] - 0s 11ms/step - loss: 2.2417 - accuracy: 0.2389 - val_loss: 1.7169 - val_accuracy: 0.3111\n",
      "Epoch 8/100\n",
      "19/24 [======================>.......] - ETA: 0s - loss: 2.2221 - accuracy: 0.2491\n",
      "Epoch 00008: ReduceLROnPlateau reducing learning rate to 0.0005000000237487257.\n",
      "24/24 [==============================] - 0s 11ms/step - loss: 2.1700 - accuracy: 0.2472 - val_loss: 1.7140 - val_accuracy: 0.3222\n",
      "Epoch 9/100\n",
      "24/24 [==============================] - 0s 11ms/step - loss: 2.1605 - accuracy: 0.2333 - val_loss: 1.7628 - val_accuracy: 0.3556\n",
      "Epoch 10/100\n",
      "24/24 [==============================] - 0s 11ms/step - loss: 2.3122 - accuracy: 0.2028 - val_loss: 1.8169 - val_accuracy: 0.3556\n",
      "Epoch 11/100\n",
      "19/24 [======================>.......] - ETA: 0s - loss: 2.1735 - accuracy: 0.2456\n",
      "Epoch 00011: ReduceLROnPlateau reducing learning rate to 0.0002500000118743628.\n",
      "24/24 [==============================] - 0s 11ms/step - loss: 2.1949 - accuracy: 0.2667 - val_loss: 1.8917 - val_accuracy: 0.3333\n",
      "Epoch 12/100\n",
      "24/24 [==============================] - 0s 11ms/step - loss: 2.0914 - accuracy: 0.2444 - val_loss: 1.8431 - val_accuracy: 0.3556\n",
      "Epoch 13/100\n",
      "24/24 [==============================] - ETA: 0s - loss: 2.1747 - accuracy: 0.2722\n",
      "Epoch 00013: ReduceLROnPlateau reducing learning rate to 0.0001250000059371814.\n",
      "24/24 [==============================] - 0s 11ms/step - loss: 2.1747 - accuracy: 0.2722 - val_loss: 1.8523 - val_accuracy: 0.3333\n",
      "Epoch 14/100\n",
      "24/24 [==============================] - 0s 11ms/step - loss: 1.9958 - accuracy: 0.2722 - val_loss: 1.8727 - val_accuracy: 0.3222\n",
      "Epoch 15/100\n",
      "19/24 [======================>.......] - ETA: 0s - loss: 2.0114 - accuracy: 0.2842\n",
      "Epoch 00015: ReduceLROnPlateau reducing learning rate to 6.25000029685907e-05.\n",
      "24/24 [==============================] - 0s 11ms/step - loss: 1.9602 - accuracy: 0.2889 - val_loss: 1.8797 - val_accuracy: 0.3222\n",
      "Epoch 16/100\n",
      "24/24 [==============================] - 0s 11ms/step - loss: 2.0726 - accuracy: 0.2583 - val_loss: 1.8719 - val_accuracy: 0.2889\n"
     ]
    }
   ],
   "source": [
    "history = model.fit_generator(train_generator,\n",
    "                              epochs=100,\n",
    "                              validation_data=validation_generator,\n",
    "                              validation_steps=total_validate//batch_size,\n",
    "                              steps_per_epoch=total_train//batch_size,\n",
    "                              callbacks=[earlystop,learning_rate_reduction])"
   ]
  },
  {
   "cell_type": "code",
   "execution_count": 18,
   "metadata": {},
   "outputs": [
    {
     "data": {
      "image/png": "[encoded data removed]",
      "text/plain": [
       "<Figure size 432x288 with 1 Axes>"
      ]
     },
     "metadata": {
      "needs_background": "light"
     },
     "output_type": "display_data"
    }
   ],
   "source": [
    "plt.plot(history.history['accuracy'])\n",
    "plt.plot(history.history['val_accuracy'])\n",
    "plt.legend(['training', 'validation'], loc = 'upper left')\n",
    "plt.show()"
   ]
  },
  {
   "cell_type": "code",
   "execution_count": 19,
   "metadata": {},
   "outputs": [],
   "source": [
    "# test_dir = os.listdir(\"test/\")\n",
    "# test_df = pd.DataFrame({'filename': test_dir})\n",
    "# nb_samples = test_df.shape[0]"
   ]
  },
  {
   "cell_type": "code",
   "execution_count": 20,
   "metadata": {},
   "outputs": [],
   "source": [
    "# test_gen = ImageDataGenerator(rescale=1./255)\n",
    "\n",
    "# test_generator = test_gen.flow_from_dataframe(test_df,\n",
    "#                                               \"test/\",\n",
    "#                                               x_col='filename',\n",
    "#                                               y_col=None,\n",
    "#                                               class_mode=None,\n",
    "#                                               target_size=IMAGE_SIZE,\n",
    "#                                               batch_size=batch_size,\n",
    "#                                               shuffle=False)"
   ]
  },
  {
   "cell_type": "code",
   "execution_count": 21,
   "metadata": {},
   "outputs": [],
   "source": [
    "# predict = model.predict_generator(test_generator,steps=np.ceil(nb_samples/batch_size))"
   ]
  },
  {
   "cell_type": "code",
   "execution_count": 22,
   "metadata": {},
   "outputs": [],
   "source": [
    "# test_df['category'] = np.argmax(predict, axis=-1)"
   ]
  },
  {
   "cell_type": "code",
   "execution_count": 23,
   "metadata": {},
   "outputs": [],
   "source": [
    "# label_map = dict((v,k) for k,v in train_generator.class_indices.items())\n",
    "# test_df['category'] = test_df['category'].replace(label_map)"
   ]
  },
  {
   "cell_type": "code",
   "execution_count": 24,
   "metadata": {},
   "outputs": [],
   "source": [
    "# test_df"
   ]
  },
  {
   "cell_type": "code",
   "execution_count": null,
   "metadata": {},
   "outputs": [],
   "source": []
  }
 ],
 "metadata": {
  "kernelspec": {
   "display_name": "Python 3",
   "language": "python",
   "name": "python3"
  },
  "language_info": {
   "codemirror_mode": {
    "name": "ipython",
    "version": 3
   },
   "file_extension": ".py",
   "mimetype": "text/x-python",
   "name": "python",
   "nbconvert_exporter": "python",
   "pygments_lexer": "ipython3",
   "version": "3.7.7"
  }
 },
 "nbformat": 4,
 "nbformat_minor": 4
}
