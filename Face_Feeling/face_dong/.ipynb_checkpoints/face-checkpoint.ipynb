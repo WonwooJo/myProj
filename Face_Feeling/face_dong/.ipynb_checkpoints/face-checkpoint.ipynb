{
 "cells": [
  {
   "cell_type": "code",
   "execution_count": 1,
   "metadata": {},
   "outputs": [],
   "source": [
    "import numpy as np\n",
    "import pandas as pd \n",
    "from keras.preprocessing.image import ImageDataGenerator, load_img, img_to_array\n",
    "from keras.utils import to_categorical\n",
    "from sklearn.model_selection import train_test_split\n",
    "import matplotlib.pyplot as plt\n",
    "import random\n",
    "import os"
   ]
  },
  {
   "cell_type": "code",
   "execution_count": 2,
   "metadata": {},
   "outputs": [],
   "source": [
    "IMAGE_WIDTH=28\n",
    "IMAGE_HEIGHT=28\n",
    "IMAGE_SIZE=(IMAGE_WIDTH, IMAGE_HEIGHT)\n",
    "IMAGE_CHANNELS=3"
   ]
  },
  {
   "cell_type": "code",
   "execution_count": 3,
   "metadata": {},
   "outputs": [],
   "source": [
    "categories=[]\n",
    "train_dir=os.listdir(\"train/\")\n",
    "for filename in train_dir:\n",
    "    category=filename.split('.')[0]\n",
    "    if category == 'bonghwang':\n",
    "        categories.append('bonghwang')\n",
    "    if category == 'dohwa':\n",
    "        categories.append('dohwa')\n",
    "    if category == 'gongjak':\n",
    "        categories.append('gongjak')\n",
    "    if category == 'horang':\n",
    "        categories.append('horang')\n",
    "    if category == 'so':\n",
    "        categories.append('so')\n",
    "    if category == 'yong':\n",
    "        categories.append('yong')"
   ]
  },
  {
   "cell_type": "code",
   "execution_count": 4,
   "metadata": {},
   "outputs": [
    {
     "data": {
      "text/html": [
       "<div>\n",
       "<style scoped>\n",
       "    .dataframe tbody tr th:only-of-type {\n",
       "        vertical-align: middle;\n",
       "    }\n",
       "\n",
       "    .dataframe tbody tr th {\n",
       "        vertical-align: top;\n",
       "    }\n",
       "\n",
       "    .dataframe thead th {\n",
       "        text-align: right;\n",
       "    }\n",
       "</style>\n",
       "<table border=\"1\" class=\"dataframe\">\n",
       "  <thead>\n",
       "    <tr style=\"text-align: right;\">\n",
       "      <th></th>\n",
       "      <th>filename</th>\n",
       "      <th>category</th>\n",
       "    </tr>\n",
       "  </thead>\n",
       "  <tbody>\n",
       "    <tr>\n",
       "      <th>0</th>\n",
       "      <td>bonghwang.00001.jpg</td>\n",
       "      <td>bonghwang</td>\n",
       "    </tr>\n",
       "    <tr>\n",
       "      <th>1</th>\n",
       "      <td>bonghwang.00002.jpg</td>\n",
       "      <td>bonghwang</td>\n",
       "    </tr>\n",
       "    <tr>\n",
       "      <th>2</th>\n",
       "      <td>bonghwang.00003.jpg</td>\n",
       "      <td>bonghwang</td>\n",
       "    </tr>\n",
       "    <tr>\n",
       "      <th>3</th>\n",
       "      <td>bonghwang.00004.jpg</td>\n",
       "      <td>bonghwang</td>\n",
       "    </tr>\n",
       "    <tr>\n",
       "      <th>4</th>\n",
       "      <td>bonghwang.00005.jpg</td>\n",
       "      <td>bonghwang</td>\n",
       "    </tr>\n",
       "    <tr>\n",
       "      <th>...</th>\n",
       "      <td>...</td>\n",
       "      <td>...</td>\n",
       "    </tr>\n",
       "    <tr>\n",
       "      <th>33352</th>\n",
       "      <td>yong.05716.jpg</td>\n",
       "      <td>yong</td>\n",
       "    </tr>\n",
       "    <tr>\n",
       "      <th>33353</th>\n",
       "      <td>yong.05717.jpg</td>\n",
       "      <td>yong</td>\n",
       "    </tr>\n",
       "    <tr>\n",
       "      <th>33354</th>\n",
       "      <td>yong.05718.jpg</td>\n",
       "      <td>yong</td>\n",
       "    </tr>\n",
       "    <tr>\n",
       "      <th>33355</th>\n",
       "      <td>yong.05719.jpg</td>\n",
       "      <td>yong</td>\n",
       "    </tr>\n",
       "    <tr>\n",
       "      <th>33356</th>\n",
       "      <td>yong.05720.jpg</td>\n",
       "      <td>yong</td>\n",
       "    </tr>\n",
       "  </tbody>\n",
       "</table>\n",
       "<p>33357 rows × 2 columns</p>\n",
       "</div>"
      ],
      "text/plain": [
       "                  filename   category\n",
       "0      bonghwang.00001.jpg  bonghwang\n",
       "1      bonghwang.00002.jpg  bonghwang\n",
       "2      bonghwang.00003.jpg  bonghwang\n",
       "3      bonghwang.00004.jpg  bonghwang\n",
       "4      bonghwang.00005.jpg  bonghwang\n",
       "...                    ...        ...\n",
       "33352       yong.05716.jpg       yong\n",
       "33353       yong.05717.jpg       yong\n",
       "33354       yong.05718.jpg       yong\n",
       "33355       yong.05719.jpg       yong\n",
       "33356       yong.05720.jpg       yong\n",
       "\n",
       "[33357 rows x 2 columns]"
      ]
     },
     "execution_count": 4,
     "metadata": {},
     "output_type": "execute_result"
    }
   ],
   "source": [
    "df=pd.DataFrame({'filename':train_dir,'category':categories})\n",
    "df"
   ]
  },
  {
   "cell_type": "code",
   "execution_count": 5,
   "metadata": {},
   "outputs": [],
   "source": [
    "train_df, validate_df = train_test_split(df, test_size=0.20, random_state=42)\n",
    "train_df = train_df.reset_index(drop=True)\n",
    "validate_df = validate_df.reset_index(drop=True)"
   ]
  },
  {
   "cell_type": "code",
   "execution_count": 6,
   "metadata": {},
   "outputs": [],
   "source": [
    "train_df = train_df.reset_index(drop=True)\n",
    "validate_df = validate_df.reset_index(drop=True)"
   ]
  },
  {
   "cell_type": "code",
   "execution_count": 7,
   "metadata": {},
   "outputs": [
    {
     "data": {
      "text/plain": [
       "<matplotlib.axes._subplots.AxesSubplot at 0x14e4df1f070>"
      ]
     },
     "execution_count": 7,
     "metadata": {},
     "output_type": "execute_result"
    },
    {
     "data": {
      "image/png": "[encoded data removed]",
      "text/plain": [
       "<Figure size 432x288 with 1 Axes>"
      ]
     },
     "metadata": {
      "needs_background": "light"
     },
     "output_type": "display_data"
    }
   ],
   "source": [
    "train_df['category'].value_counts().plot.bar()"
   ]
  },
  {
   "cell_type": "code",
   "execution_count": 8,
   "metadata": {},
   "outputs": [
    {
     "data": {
      "text/plain": [
       "<matplotlib.axes._subplots.AxesSubplot at 0x14e4e6708b0>"
      ]
     },
     "execution_count": 8,
     "metadata": {},
     "output_type": "execute_result"
    },
    {
     "data": {
      "image/png": "[encoded data removed]",
      "text/plain": [
       "<Figure size 432x288 with 1 Axes>"
      ]
     },
     "metadata": {
      "needs_background": "light"
     },
     "output_type": "display_data"
    }
   ],
   "source": [
    "validate_df['category'].value_counts().plot.bar()"
   ]
  },
  {
   "cell_type": "code",
   "execution_count": 9,
   "metadata": {},
   "outputs": [],
   "source": [
    "total_train = train_df.shape[0]\n",
    "total_validate = validate_df.shape[0]\n",
    "batch_size=15"
   ]
  },
  {
   "cell_type": "code",
   "execution_count": 10,
   "metadata": {},
   "outputs": [],
   "source": [
    "train_datagen = ImageDataGenerator(rotation_range=15,\n",
    "                                   rescale=1./255,\n",
    "                                   shear_range=0.1,\n",
    "                                   zoom_range=0.2,\n",
    "                                   horizontal_flip=True,\n",
    "                                   width_shift_range=0.1,\n",
    "                                   height_shift_range=0.1)"
   ]
  },
  {
   "cell_type": "code",
   "execution_count": 11,
   "metadata": {},
   "outputs": [
    {
     "name": "stdout",
     "output_type": "stream",
     "text": [
      "Found 26685 validated image filenames belonging to 6 classes.\n"
     ]
    }
   ],
   "source": [
    "train_generator=train_datagen.flow_from_dataframe(train_df,\n",
    "                                 'train/',\n",
    "                                 x_col='filename',\n",
    "                                 y_col='category',\n",
    "                                  target_size=IMAGE_SIZE,\n",
    "                                  class_mode='categorical',\n",
    "                                  batch_size=batch_size\n",
    "                                 )"
   ]
  },
  {
   "cell_type": "code",
   "execution_count": 12,
   "metadata": {},
   "outputs": [
    {
     "name": "stdout",
     "output_type": "stream",
     "text": [
      "Found 6672 validated image filenames belonging to 6 classes.\n"
     ]
    }
   ],
   "source": [
    "validation_datagen = ImageDataGenerator(rescale=1./255)\n",
    "\n",
    "validation_generator = validation_datagen.flow_from_dataframe(validate_df,\n",
    "                                                              \"train/\",\n",
    "                                                              x_col='filename',\n",
    "                                                              y_col='category',\n",
    "                                                              target_size=IMAGE_SIZE,\n",
    "                                                              class_mode='categorical',\n",
    "                                                              batch_size=batch_size)"
   ]
  },
  {
   "cell_type": "code",
   "execution_count": 13,
   "metadata": {},
   "outputs": [],
   "source": [
    "from keras.models import Sequential\n",
    "from keras.layers import *"
   ]
  },
  {
   "cell_type": "code",
   "execution_count": 14,
   "metadata": {
    "scrolled": true
   },
   "outputs": [
    {
     "name": "stdout",
     "output_type": "stream",
     "text": [
      "Model: \"sequential\"\n",
      "_________________________________________________________________\n",
      "Layer (type)                 Output Shape              Param #   \n",
      "=================================================================\n",
      "conv2d (Conv2D)              (None, 26, 26, 32)        896       \n",
      "_________________________________________________________________\n",
      "batch_normalization (BatchNo (None, 26, 26, 32)        128       \n",
      "_________________________________________________________________\n",
      "max_pooling2d (MaxPooling2D) (None, 13, 13, 32)        0         \n",
      "_________________________________________________________________\n",
      "dropout (Dropout)            (None, 13, 13, 32)        0         \n",
      "_________________________________________________________________\n",
      "conv2d_1 (Conv2D)            (None, 11, 11, 64)        18496     \n",
      "_________________________________________________________________\n",
      "batch_normalization_1 (Batch (None, 11, 11, 64)        256       \n",
      "_________________________________________________________________\n",
      "max_pooling2d_1 (MaxPooling2 (None, 5, 5, 64)          0         \n",
      "_________________________________________________________________\n",
      "dropout_1 (Dropout)          (None, 5, 5, 64)          0         \n",
      "_________________________________________________________________\n",
      "conv2d_2 (Conv2D)            (None, 3, 3, 128)         73856     \n",
      "_________________________________________________________________\n",
      "batch_normalization_2 (Batch (None, 3, 3, 128)         512       \n",
      "_________________________________________________________________\n",
      "max_pooling2d_2 (MaxPooling2 (None, 1, 1, 128)         0         \n",
      "_________________________________________________________________\n",
      "dropout_2 (Dropout)          (None, 1, 1, 128)         0         \n",
      "_________________________________________________________________\n",
      "flatten (Flatten)            (None, 128)               0         \n",
      "_________________________________________________________________\n",
      "dense (Dense)                (None, 512)               66048     \n",
      "_________________________________________________________________\n",
      "batch_normalization_3 (Batch (None, 512)               2048      \n",
      "_________________________________________________________________\n",
      "dropout_3 (Dropout)          (None, 512)               0         \n",
      "_________________________________________________________________\n",
      "dense_1 (Dense)              (None, 6)                 3078      \n",
      "=================================================================\n",
      "Total params: 165,318\n",
      "Trainable params: 163,846\n",
      "Non-trainable params: 1,472\n",
      "_________________________________________________________________\n"
     ]
    }
   ],
   "source": [
    "model = Sequential()\n",
    "model.add(Conv2D(32, (3, 3), activation='relu', input_shape=(IMAGE_WIDTH, IMAGE_HEIGHT, IMAGE_CHANNELS)))\n",
    "model.add(BatchNormalization())\n",
    "model.add(MaxPooling2D(pool_size=(2, 2)))\n",
    "model.add(Dropout(0.25))\n",
    "model.add(Conv2D(64, (3, 3), activation='relu'))\n",
    "model.add(BatchNormalization())\n",
    "model.add(MaxPooling2D(pool_size=(2, 2)))\n",
    "model.add(Dropout(0.25))\n",
    "model.add(Conv2D(128, (3, 3), activation='relu'))\n",
    "model.add(BatchNormalization())\n",
    "model.add(MaxPooling2D(pool_size=(2, 2)))\n",
    "model.add(Dropout(0.25))\n",
    "model.add(Flatten())\n",
    "model.add(Dense(512, activation='relu'))\n",
    "model.add(BatchNormalization())\n",
    "model.add(Dropout(0.5))\n",
    "model.add(Dense(6, activation='softmax')) # 2 because we have cat and dog classes\n",
    "model.compile(loss='categorical_crossentropy', optimizer='adam', metrics=['accuracy'])\n",
    "model.summary()"
   ]
  },
  {
   "cell_type": "code",
   "execution_count": 15,
   "metadata": {},
   "outputs": [],
   "source": [
    "from keras.callbacks import EarlyStopping, ReduceLROnPlateau"
   ]
  },
  {
   "cell_type": "code",
   "execution_count": 16,
   "metadata": {},
   "outputs": [],
   "source": [
    "earlystop = EarlyStopping(patience=10),\n",
    "learning_rate_reduction = ReduceLROnPlateau(monitor='val_accuracy',\n",
    "                                           patience=2,\n",
    "                                           verbose=1,\n",
    "                                            factor=0.5,\n",
    "                                            min_lr=0.00001)"
   ]
  },
  {
   "cell_type": "code",
   "execution_count": null,
   "metadata": {},
   "outputs": [
    {
     "name": "stdout",
     "output_type": "stream",
     "text": [
      "WARNING:tensorflow:From <ipython-input-17-cf3193af8440>:1: Model.fit_generator (from tensorflow.python.keras.engine.training) is deprecated and will be removed in a future version.\n",
      "Instructions for updating:\n",
      "Please use Model.fit, which supports generators.\n",
      "Epoch 1/100\n",
      "1779/1779 [==============================] - 18s 10ms/step - loss: 2.0100 - accuracy: 0.2273 - val_loss: 1.7162 - val_accuracy: 0.2844\n",
      "Epoch 2/100\n",
      "1779/1779 [==============================] - 18s 10ms/step - loss: 1.6852 - accuracy: 0.2976 - val_loss: 1.8905 - val_accuracy: 0.2314\n",
      "Epoch 3/100\n",
      "1779/1779 [==============================] - 18s 10ms/step - loss: 1.6120 - accuracy: 0.3340 - val_loss: 1.6542 - val_accuracy: 0.3068\n",
      "Epoch 4/100\n",
      "1779/1779 [==============================] - 18s 10ms/step - loss: 1.5581 - accuracy: 0.3594 - val_loss: 1.4047 - val_accuracy: 0.4189\n",
      "Epoch 5/100\n",
      "1779/1779 [==============================] - 18s 10ms/step - loss: 1.5056 - accuracy: 0.3811 - val_loss: 1.3293 - val_accuracy: 0.4638\n",
      "Epoch 6/100\n",
      "1779/1779 [==============================] - 18s 10ms/step - loss: 1.4730 - accuracy: 0.4040 - val_loss: 1.3313 - val_accuracy: 0.4659\n",
      "Epoch 7/100\n",
      "1779/1779 [==============================] - 18s 10ms/step - loss: 1.4199 - accuracy: 0.4290 - val_loss: 1.3278 - val_accuracy: 0.4542\n",
      "Epoch 8/100\n",
      "1779/1779 [==============================] - 18s 10ms/step - loss: 1.3906 - accuracy: 0.4383 - val_loss: 1.1704 - val_accuracy: 0.5363\n",
      "Epoch 9/100\n",
      "1779/1779 [==============================] - 18s 10ms/step - loss: 1.3587 - accuracy: 0.4586 - val_loss: 1.1009 - val_accuracy: 0.5731\n",
      "Epoch 10/100\n",
      "1779/1779 [==============================] - 18s 10ms/step - loss: 1.3367 - accuracy: 0.4698 - val_loss: 1.2255 - val_accuracy: 0.5021\n",
      "Epoch 11/100\n",
      "1779/1779 [==============================] - 18s 10ms/step - loss: 1.3122 - accuracy: 0.4805 - val_loss: 1.1047 - val_accuracy: 0.5752\n",
      "Epoch 12/100\n",
      "1779/1779 [==============================] - 18s 10ms/step - loss: 1.2869 - accuracy: 0.4885 - val_loss: 1.1896 - val_accuracy: 0.5419\n",
      "Epoch 13/100\n",
      "1779/1779 [==============================] - 18s 10ms/step - loss: 1.2710 - accuracy: 0.4947 - val_loss: 0.9996 - val_accuracy: 0.6240\n",
      "Epoch 14/100\n",
      "1779/1779 [==============================] - 18s 10ms/step - loss: 1.2478 - accuracy: 0.5062 - val_loss: 1.1234 - val_accuracy: 0.5658\n",
      "Epoch 15/100\n",
      "1774/1779 [============================>.] - ETA: 0s - loss: 1.2280 - accuracy: 0.5145\n",
      "Epoch 00015: ReduceLROnPlateau reducing learning rate to 0.0005000000237487257.\n",
      "1779/1779 [==============================] - 18s 10ms/step - loss: 1.2280 - accuracy: 0.5146 - val_loss: 1.3430 - val_accuracy: 0.5149\n",
      "Epoch 16/100\n",
      "1779/1779 [==============================] - 18s 10ms/step - loss: 1.1883 - accuracy: 0.5342 - val_loss: 0.8933 - val_accuracy: 0.6691\n",
      "Epoch 17/100\n",
      "1779/1779 [==============================] - 18s 10ms/step - loss: 1.1681 - accuracy: 0.5403 - val_loss: 1.1118 - val_accuracy: 0.5829\n",
      "Epoch 18/100\n",
      "1779/1779 [==============================] - 18s 10ms/step - loss: 1.1633 - accuracy: 0.5428 - val_loss: 0.8654 - val_accuracy: 0.6728\n",
      "Epoch 19/100\n",
      "1779/1779 [==============================] - 18s 10ms/step - loss: 1.1382 - accuracy: 0.5525 - val_loss: 0.9091 - val_accuracy: 0.6590\n",
      "Epoch 20/100\n",
      "1779/1779 [==============================] - 18s 10ms/step - loss: 1.1306 - accuracy: 0.5580 - val_loss: 0.8469 - val_accuracy: 0.6853\n",
      "Epoch 21/100\n",
      "1779/1779 [==============================] - 18s 10ms/step - loss: 1.1285 - accuracy: 0.5596 - val_loss: 0.8550 - val_accuracy: 0.6781\n",
      "Epoch 22/100\n",
      "1774/1779 [============================>.] - ETA: 0s - loss: 1.1170 - accuracy: 0.5608\n",
      "Epoch 00022: ReduceLROnPlateau reducing learning rate to 0.0002500000118743628.\n",
      "1779/1779 [==============================] - 18s 10ms/step - loss: 1.1167 - accuracy: 0.5611 - val_loss: 0.8351 - val_accuracy: 0.6853\n",
      "Epoch 23/100\n",
      "1779/1779 [==============================] - 18s 10ms/step - loss: 1.1024 - accuracy: 0.5691 - val_loss: 0.8035 - val_accuracy: 0.6958\n",
      "Epoch 24/100\n",
      "1779/1779 [==============================] - 18s 10ms/step - loss: 1.0873 - accuracy: 0.5782 - val_loss: 0.8922 - val_accuracy: 0.6592\n",
      "Epoch 25/100\n",
      "1779/1779 [==============================] - 18s 10ms/step - loss: 1.0765 - accuracy: 0.5782 - val_loss: 0.7374 - val_accuracy: 0.7302\n",
      "Epoch 26/100\n",
      "1779/1779 [==============================] - 18s 10ms/step - loss: 1.0767 - accuracy: 0.5792 - val_loss: 0.8492 - val_accuracy: 0.6800\n",
      "Epoch 27/100\n",
      "1776/1779 [============================>.] - ETA: 0s - loss: 1.0763 - accuracy: 0.5809\n",
      "Epoch 00027: ReduceLROnPlateau reducing learning rate to 0.0001250000059371814.\n",
      "1779/1779 [==============================] - 18s 10ms/step - loss: 1.0762 - accuracy: 0.5809 - val_loss: 0.7521 - val_accuracy: 0.7192\n",
      "Epoch 28/100\n",
      "1779/1779 [==============================] - 18s 10ms/step - loss: 1.0606 - accuracy: 0.5882 - val_loss: 0.7764 - val_accuracy: 0.7078\n",
      "Epoch 29/100\n",
      "1776/1779 [============================>.] - ETA: 0s - loss: 1.0587 - accuracy: 0.5901\n",
      "Epoch 00029: ReduceLROnPlateau reducing learning rate to 6.25000029685907e-05.\n",
      "1779/1779 [==============================] - 18s 10ms/step - loss: 1.0586 - accuracy: 0.5902 - val_loss: 0.7529 - val_accuracy: 0.7161\n",
      "Epoch 30/100\n",
      "1779/1779 [==============================] - 18s 10ms/step - loss: 1.0561 - accuracy: 0.5885 - val_loss: 0.7800 - val_accuracy: 0.7044\n",
      "Epoch 31/100\n",
      "1777/1779 [============================>.] - ETA: 0s - loss: 1.0468 - accuracy: 0.5947\n",
      "Epoch 00031: ReduceLROnPlateau reducing learning rate to 3.125000148429535e-05.\n",
      "1779/1779 [==============================] - 18s 10ms/step - loss: 1.0467 - accuracy: 0.5948 - val_loss: 0.7853 - val_accuracy: 0.6989\n",
      "Epoch 32/100\n",
      "1779/1779 [==============================] - 18s 10ms/step - loss: 1.0380 - accuracy: 0.5999 - val_loss: 0.7585 - val_accuracy: 0.7128\n",
      "Epoch 33/100\n",
      "1777/1779 [============================>.] - ETA: 0s - loss: 1.0344 - accuracy: 0.5997\n",
      "Epoch 00033: ReduceLROnPlateau reducing learning rate to 1.5625000742147677e-05.\n",
      "1779/1779 [==============================] - 18s 10ms/step - loss: 1.0347 - accuracy: 0.5997 - val_loss: 0.7567 - val_accuracy: 0.7132\n",
      "Epoch 34/100\n",
      "1779/1779 [==============================] - 18s 10ms/step - loss: 1.0424 - accuracy: 0.5949 - val_loss: 0.7806 - val_accuracy: 0.7050\n",
      "Epoch 35/100\n",
      "1447/1779 [=======================>......] - ETA: 3s - loss: 1.0471 - accuracy: 0.5945"
     ]
    }
   ],
   "source": [
    "history = model.fit_generator(train_generator,\n",
    "                              epochs=100,\n",
    "                              validation_data=validation_generator,\n",
    "                              validation_steps=total_validate//batch_size,\n",
    "                              steps_per_epoch=total_train//batch_size,\n",
    "                              callbacks=[earlystop,learning_rate_reduction])"
   ]
  },
  {
   "cell_type": "code",
   "execution_count": null,
   "metadata": {},
   "outputs": [],
   "source": [
    "plt.plot(history.history['accuracy'])\n",
    "plt.plot(history.history['val_accuracy'])\n",
    "plt.legend(['training', 'validation'], loc = 'upper left')\n",
    "plt.show()"
   ]
  },
  {
   "cell_type": "code",
   "execution_count": null,
   "metadata": {},
   "outputs": [],
   "source": [
    "# test_dir = os.listdir(\"test/\")\n",
    "# test_df = pd.DataFrame({'filename': test_dir})\n",
    "# nb_samples = test_df.shape[0]"
   ]
  },
  {
   "cell_type": "code",
   "execution_count": null,
   "metadata": {},
   "outputs": [],
   "source": [
    "# test_gen = ImageDataGenerator(rescale=1./255)\n",
    "\n",
    "# test_generator = test_gen.flow_from_dataframe(test_df,\n",
    "#                                               \"test/\",\n",
    "#                                               x_col='filename',\n",
    "#                                               y_col=None,\n",
    "#                                               class_mode=None,\n",
    "#                                               target_size=IMAGE_SIZE,\n",
    "#                                               batch_size=batch_size,\n",
    "#                                               shuffle=False)"
   ]
  },
  {
   "cell_type": "code",
   "execution_count": null,
   "metadata": {},
   "outputs": [],
   "source": [
    "# predict = model.predict_generator(test_generator,steps=np.ceil(nb_samples/batch_size))"
   ]
  },
  {
   "cell_type": "code",
   "execution_count": null,
   "metadata": {},
   "outputs": [],
   "source": [
    "# test_df['category'] = np.argmax(predict, axis=-1)"
   ]
  },
  {
   "cell_type": "code",
   "execution_count": null,
   "metadata": {},
   "outputs": [],
   "source": [
    "# label_map = dict((v,k) for k,v in train_generator.class_indices.items())\n",
    "# test_df['category'] = test_df['category'].replace(label_map)"
   ]
  },
  {
   "cell_type": "code",
   "execution_count": null,
   "metadata": {},
   "outputs": [],
   "source": [
    "# test_df"
   ]
  },
  {
   "cell_type": "code",
   "execution_count": null,
   "metadata": {},
   "outputs": [],
   "source": []
  }
 ],
 "metadata": {
  "kernelspec": {
   "display_name": "Python 3",
   "language": "python",
   "name": "python3"
  },
  "language_info": {
   "codemirror_mode": {
    "name": "ipython",
    "version": 3
   },
   "file_extension": ".py",
   "mimetype": "text/x-python",
   "name": "python",
   "nbconvert_exporter": "python",
   "pygments_lexer": "ipython3",
   "version": "3.7.7"
  }
 },
 "nbformat": 4,
 "nbformat_minor": 4
}
