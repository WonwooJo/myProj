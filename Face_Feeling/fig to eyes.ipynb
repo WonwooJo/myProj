{
 "cells": [
  {
   "cell_type": "code",
   "execution_count": 17,
   "metadata": {},
   "outputs": [],
   "source": [
    "# 사진 여러장 검출용\n",
    "import cv2\n",
    "\n",
    "# cascade는 아나콘다 폴더 하위에 있으니 그 경로로 지정하시면 됩니다.\n",
    "face_cascade = cv2.CascadeClassifier('C:/anaconda3/Lib/site-packages/cv2/data/haarcascade_frontalface_default.xml')\n",
    "eye_cascade = cv2.CascadeClassifier('C:/anaconda3/Lib/site-packages/cv2/data/haarcascade_eye.xml')\n",
    "\n",
    "for i in range(1,131):\n",
    "    img = cv2.imread('C:/Users/joww0/project/myProj/Face_Feeling/images/fig/{}.jpg'.format(i),cv2.IMREAD_GRAYSCALE) # 폴더명에 따라 yong, so~~ 변경하시면 됩니다.\n",
    "#     gray = cv2.cvtColor(img, cv2.COLOR_BGR2GRAY)\n",
    "    \n",
    "    faces = face_cascade.detectMultiScale(img, 2, 5)\n",
    "    for (x,y,w,h) in faces:\n",
    "\n",
    "        roi_gray = img[y:y+h, x:x+w]\n",
    "#         roi_color = img[y:y+h, x:x+w]\n",
    "\n",
    "        eyes = eye_cascade.detectMultiScale(roi_gray)\n",
    "        try: \n",
    "            for (ex,ey,ew,eh) in [eyes[0]]: # 사진의 왼쪽\n",
    "                dst = roi_gray[ey:(ey+eh),ex:(ex+ew)]\n",
    "                cv2.imwrite('{}.jpg'.format(i) ,dst)# 폴더명에 따라 yong, so~~ 변경하시면 됩니다.\n",
    "\n",
    "            for (ex,ey,ew,eh) in [eyes[1]]: # 사진의 오른쪽\n",
    "                dst = roi_gray[ey:(ey+eh),ex:(ex+ew)]\n",
    "                cv2.imwrite('{}.jpg'.format(i) ,dst)# 폴더명에 따라 yong, so~~ 변경하시면 됩니다.\n",
    "        except: # 눈 인식 못할 경우 걍 pass\n",
    "            pass"
   ]
  },
  {
   "cell_type": "code",
   "execution_count": 83,
   "metadata": {},
   "outputs": [],
   "source": [
    "# 사진 1장 검출용\n",
    "face_cascade = cv2.CascadeClassifier('C:/anaconda3/Lib/site-packages/cv2/data/haarcascade_frontalface_default.xml')\n",
    "eye_cascade = cv2.CascadeClassifier('C:/anaconda3/Lib/site-packages/cv2/data/haarcascade_eye.xml')\n",
    "img = cv2.imread('images/fig/1.jpg'.format(i),cv2.IMREAD_GRAYSCALE) # 폴더명에 따라 yo\n",
    "img\n",
    "faces = face_cascade.detectMultiScale(img, 2, 1)\n",
    "for (x,y,w,h) in faces:\n",
    "    roi_gray = img[y:y+h, x:x+w]\n",
    "    eyes = eye_cascade.detectMultiScale(roi_gray)\n",
    "\n",
    "    for (ex,ey,ew,eh) in [eyes[0]]: # 사진의 왼쪽\n",
    "        dst = roi_gray[ey:(ey+eh),ex:(ex+ew)]\n",
    "        cv2.imwrite('images/1_1.jpg',dst)\n",
    "\n",
    "    for (ex,ey,ew,eh) in [eyes[1]]: # 사진의 오른쪽\n",
    "        dst = roi_gray[ey:(ey+eh),ex:(ex+ew)]\n",
    "        cv2.imwrite('images/1_2.jpg',dst)"
   ]
  },
  {
   "cell_type": "code",
   "execution_count": 81,
   "metadata": {},
   "outputs": [
    {
     "data": {
      "text/plain": [
       "array([[352, 319, 192, 192]], dtype=int32)"
      ]
     },
     "execution_count": 81,
     "metadata": {},
     "output_type": "execute_result"
    }
   ],
   "source": [
    "# 얼굴 검출 되는지 확인\n",
    "img = cv2.imread('images/fig/5.jpg'.format(i),cv2.IMREAD_GRAYSCALE) # 폴더명에 따라 yo\n",
    "img\n",
    "faces = face_cascade.detectMultiScale(img, 2, 1)\n",
    "faces"
   ]
  },
  {
   "cell_type": "code",
   "execution_count": null,
   "metadata": {},
   "outputs": [],
   "source": []
  },
  {
   "cell_type": "code",
   "execution_count": null,
   "metadata": {},
   "outputs": [],
   "source": []
  }
 ],
 "metadata": {
  "kernelspec": {
   "display_name": "Python 3",
   "language": "python",
   "name": "python3"
  },
  "language_info": {
   "codemirror_mode": {
    "name": "ipython",
    "version": 3
   },
   "file_extension": ".py",
   "mimetype": "text/x-python",
   "name": "python",
   "nbconvert_exporter": "python",
   "pygments_lexer": "ipython3",
   "version": "3.7.7"
  }
 },
 "nbformat": 4,
 "nbformat_minor": 4
}
