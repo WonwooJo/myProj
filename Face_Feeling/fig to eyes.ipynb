{
 "cells": [
  {
   "cell_type": "code",
   "execution_count": 14,
   "metadata": {},
   "outputs": [
    {
     "ename": "error",
     "evalue": "OpenCV(4.4.0) C:\\Users\\appveyor\\AppData\\Local\\Temp\\1\\pip-req-build-6sxsq0tp\\opencv\\modules\\imgproc\\src\\color.cpp:182: error: (-215:Assertion failed) !_src.empty() in function 'cv::cvtColor'\n",
     "output_type": "error",
     "traceback": [
      "\u001b[1;31m---------------------------------------------------------------------------\u001b[0m",
      "\u001b[1;31merror\u001b[0m                                     Traceback (most recent call last)",
      "\u001b[1;32m<ipython-input-14-fae693c381e6>\u001b[0m in \u001b[0;36m<module>\u001b[1;34m\u001b[0m\n\u001b[0;32m      6\u001b[0m \u001b[1;32mfor\u001b[0m \u001b[0mi\u001b[0m \u001b[1;32min\u001b[0m \u001b[0mrange\u001b[0m\u001b[1;33m(\u001b[0m\u001b[1;36m1\u001b[0m\u001b[1;33m,\u001b[0m\u001b[1;36m102\u001b[0m\u001b[1;33m)\u001b[0m\u001b[1;33m:\u001b[0m\u001b[1;33m\u001b[0m\u001b[1;33m\u001b[0m\u001b[0m\n\u001b[0;32m      7\u001b[0m     \u001b[0mimg\u001b[0m \u001b[1;33m=\u001b[0m \u001b[0mcv2\u001b[0m\u001b[1;33m.\u001b[0m\u001b[0mimread\u001b[0m\u001b[1;33m(\u001b[0m\u001b[1;34m'images/eyes_all/cow_eyes/3 ({}).jpg'\u001b[0m\u001b[1;33m.\u001b[0m\u001b[0mformat\u001b[0m\u001b[1;33m(\u001b[0m\u001b[0mi\u001b[0m\u001b[1;33m)\u001b[0m\u001b[1;33m)\u001b[0m\u001b[1;33m\u001b[0m\u001b[1;33m\u001b[0m\u001b[0m\n\u001b[1;32m----> 8\u001b[1;33m     \u001b[0mgray\u001b[0m \u001b[1;33m=\u001b[0m \u001b[0mcv2\u001b[0m\u001b[1;33m.\u001b[0m\u001b[0mcvtColor\u001b[0m\u001b[1;33m(\u001b[0m\u001b[0mimg\u001b[0m\u001b[1;33m,\u001b[0m \u001b[0mcv2\u001b[0m\u001b[1;33m.\u001b[0m\u001b[0mCOLOR_BGR2GRAY\u001b[0m\u001b[1;33m)\u001b[0m\u001b[1;33m\u001b[0m\u001b[1;33m\u001b[0m\u001b[0m\n\u001b[0m\u001b[0;32m      9\u001b[0m \u001b[1;33m\u001b[0m\u001b[0m\n\u001b[0;32m     10\u001b[0m     \u001b[0mfaces\u001b[0m \u001b[1;33m=\u001b[0m \u001b[0mface_cascade\u001b[0m\u001b[1;33m.\u001b[0m\u001b[0mdetectMultiScale\u001b[0m\u001b[1;33m(\u001b[0m\u001b[0mgray\u001b[0m\u001b[1;33m,\u001b[0m \u001b[1;36m2\u001b[0m\u001b[1;33m,\u001b[0m \u001b[1;36m5\u001b[0m\u001b[1;33m)\u001b[0m\u001b[1;33m\u001b[0m\u001b[1;33m\u001b[0m\u001b[0m\n",
      "\u001b[1;31merror\u001b[0m: OpenCV(4.4.0) C:\\Users\\appveyor\\AppData\\Local\\Temp\\1\\pip-req-build-6sxsq0tp\\opencv\\modules\\imgproc\\src\\color.cpp:182: error: (-215:Assertion failed) !_src.empty() in function 'cv::cvtColor'\n"
     ]
    }
   ],
   "source": [
    "import cv2\n",
    "\n",
    "face_cascade = cv2.CascadeClassifier('C:/Users/joww0/anaconda3/Lib/site-packages/cv2/data/haarcascade_frontalface_default.xml')\n",
    "eye_cascade = cv2.CascadeClassifier('C:/Users/joww0/anaconda3/Lib/site-packages/cv2/data/haarcascade_eye.xml')\n",
    "\n",
    "for i in range(1,102):\n",
    "    img = cv2.imread('images/eyes_all/cow_eyes/3 ({}).jpg'.format(i))\n",
    "    gray = cv2.cvtColor(img, cv2.COLOR_BGR2GRAY)\n",
    "    \n",
    "    faces = face_cascade.detectMultiScale(gray, 2, 5)\n",
    "    for (x,y,w,h) in faces:\n",
    "\n",
    "        roi_gray = gray[y:y+h, x:x+w]\n",
    "        roi_color = img[y:y+h, x:x+w]\n",
    "\n",
    "        eyes = eye_cascade.detectMultiScale(roi_gray)\n",
    "        try: \n",
    "            for (ex,ey,ew,eh) in [eyes[0]]:\n",
    "                dst = roi_gray[ey:(ey+eh),ex:(ex+ew)]\n",
    "                cv2.imwrite('images/eyes_new/eyes_3L{}.jpg'.format(i) ,dst)\n",
    "\n",
    "            for (ex,ey,ew,eh) in [eyes[1]]:\n",
    "                dst = roi_gray[ey:(ey+eh),ex:(ex+ew)]\n",
    "                cv2.imwrite('images/eyes_new/eyes_3R{}.jpg'.format(i) ,dst)\n",
    "        except:\n",
    "            pass"
   ]
  },
  {
   "cell_type": "code",
   "execution_count": 12,
   "metadata": {},
   "outputs": [],
   "source": [
    "for i in range(2):\n",
    "    img = cv2.imread('images/eyes_all/cow_eyes/3 ({}).jpg'.format(i))\n"
   ]
  },
  {
   "cell_type": "code",
   "execution_count": 13,
   "metadata": {
    "scrolled": true
   },
   "outputs": [
    {
     "data": {
      "text/plain": [
       "array([[[ 90,  99, 113],\n",
       "        [113, 124, 138],\n",
       "        [134, 144, 161],\n",
       "        ...,\n",
       "        [171, 185, 204],\n",
       "        [171, 185, 204],\n",
       "        [171, 185, 204]],\n",
       "\n",
       "       [[106, 115, 129],\n",
       "        [125, 136, 150],\n",
       "        [143, 153, 170],\n",
       "        ...,\n",
       "        [172, 186, 205],\n",
       "        [172, 186, 205],\n",
       "        [172, 186, 205]],\n",
       "\n",
       "       [[119, 128, 142],\n",
       "        [133, 144, 158],\n",
       "        [145, 155, 172],\n",
       "        ...,\n",
       "        [173, 187, 206],\n",
       "        [173, 187, 206],\n",
       "        [173, 187, 206]],\n",
       "\n",
       "       ...,\n",
       "\n",
       "       [[132, 139, 154],\n",
       "        [140, 147, 162],\n",
       "        [146, 154, 171],\n",
       "        ...,\n",
       "        [198, 208, 226],\n",
       "        [198, 208, 226],\n",
       "        [198, 208, 226]],\n",
       "\n",
       "       [[134, 141, 156],\n",
       "        [141, 148, 163],\n",
       "        [147, 155, 172],\n",
       "        ...,\n",
       "        [199, 209, 227],\n",
       "        [199, 209, 227],\n",
       "        [199, 209, 227]],\n",
       "\n",
       "       [[134, 141, 156],\n",
       "        [142, 149, 164],\n",
       "        [148, 156, 173],\n",
       "        ...,\n",
       "        [199, 209, 227],\n",
       "        [199, 209, 227],\n",
       "        [199, 209, 227]]], dtype=uint8)"
      ]
     },
     "execution_count": 13,
     "metadata": {},
     "output_type": "execute_result"
    }
   ],
   "source": [
    "img"
   ]
  },
  {
   "cell_type": "code",
   "execution_count": null,
   "metadata": {},
   "outputs": [],
   "source": []
  }
 ],
 "metadata": {
  "kernelspec": {
   "display_name": "Python 3",
   "language": "python",
   "name": "python3"
  },
  "language_info": {
   "codemirror_mode": {
    "name": "ipython",
    "version": 3
   },
   "file_extension": ".py",
   "mimetype": "text/x-python",
   "name": "python",
   "nbconvert_exporter": "python",
   "pygments_lexer": "ipython3",
   "version": "3.7.7"
  }
 },
 "nbformat": 4,
 "nbformat_minor": 4
}
